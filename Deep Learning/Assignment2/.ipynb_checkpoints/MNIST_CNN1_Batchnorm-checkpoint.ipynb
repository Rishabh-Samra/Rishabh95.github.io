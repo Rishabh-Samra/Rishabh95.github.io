{
 "cells": [
  {
   "cell_type": "code",
   "execution_count": 1,
   "metadata": {},
   "outputs": [
    {
     "name": "stdout",
     "output_type": "stream",
     "text": [
      "0.4.1\n"
     ]
    }
   ],
   "source": [
    "import torch\n",
    "import torch.nn as nn\n",
    "import torchvision\n",
    "import torchvision.transforms as transforms\n",
    "import matplotlib.pyplot as plt\n",
    "import numpy as np\n",
    "from torch.utils.data.sampler import SubsetRandomSampler\n",
    "import torch.optim as optim\n",
    "import scipy.misc\n",
    "print(torch.__version__)\n"
   ]
  },
  {
   "cell_type": "code",
   "execution_count": 2,
   "metadata": {},
   "outputs": [],
   "source": [
    "device = torch.device('cuda:1'if torch.cuda.is_available()else 'cpu')"
   ]
  },
  {
   "cell_type": "code",
   "execution_count": 3,
   "metadata": {},
   "outputs": [],
   "source": [
    " \n",
    "transform = transforms.Compose(\n",
    "    [transforms.ToTensor(),\n",
    "     transforms.Normalize((0.13,), (0.308,))])\n",
    " "
   ]
  },
  {
   "cell_type": "code",
   "execution_count": 4,
   "metadata": {},
   "outputs": [],
   "source": [
    "epochs = 5;\n",
    "lr = 0.0001;\n",
    "batch_size = 64;\n",
    "num_classes = 10;"
   ]
  },
  {
   "cell_type": "code",
   "execution_count": 5,
   "metadata": {},
   "outputs": [],
   "source": [
    "train_dataset = torchvision.datasets.MNIST(root = '/home/anil/data',train =True,transform = transform,download = True)\n",
    "test_dataset = torchvision.datasets.MNIST(root='home/anil/data',\n",
    "                                          train=False, \n",
    "                                          transform=transform,download = True)\n",
    "\n"
   ]
  },
  {
   "cell_type": "code",
   "execution_count": 6,
   "metadata": {},
   "outputs": [],
   "source": [
    "valid_dataset = torchvision.datasets.MNIST(root = '/home/anil/data',train =True,transform = transform,download = True)"
   ]
  },
  {
   "cell_type": "code",
   "execution_count": 7,
   "metadata": {
    "scrolled": true
   },
   "outputs": [],
   "source": [
    "num_train = len(train_dataset)\n",
    "indices = list(range(num_train))\n",
    "split=int(np.floor(0.2*num_train))"
   ]
  },
  {
   "cell_type": "code",
   "execution_count": 8,
   "metadata": {},
   "outputs": [],
   "source": [
    "tr_idx,valid_idx = indices[split:],indices[:split]\n"
   ]
  },
  {
   "cell_type": "code",
   "execution_count": 9,
   "metadata": {},
   "outputs": [],
   "source": [
    "np.random.seed(0)\n",
    "np.random.shuffle(indices)"
   ]
  },
  {
   "cell_type": "code",
   "execution_count": 10,
   "metadata": {},
   "outputs": [],
   "source": [
    "trainsampler = SubsetRandomSampler(tr_idx)\n",
    "validsampler = SubsetRandomSampler(valid_idx)\n"
   ]
  },
  {
   "cell_type": "code",
   "execution_count": 11,
   "metadata": {},
   "outputs": [],
   "source": [
    "trainloader = torch.utils.data.DataLoader(dataset = train_dataset,sampler = trainsampler,batch_size = batch_size,shuffle = False)\n",
    "testloader = torch.utils.data.DataLoader(dataset=test_dataset,batch_size=batch_size , shuffle=True)\n",
    "validloader = torch.utils.data.DataLoader(dataset = train_dataset,sampler = validsampler,batch_size = batch_size,shuffle = False)"
   ]
  },
  {
   "cell_type": "code",
   "execution_count": 12,
   "metadata": {},
   "outputs": [],
   "source": [
    "#to show image\n",
    "def process_normal_img(img):\n",
    "    img = img*0.3081+0.1307\n",
    "    npimg = img.numpy()\n",
    "    return (np.transpose(npimg,(1,2,0)))"
   ]
  },
  {
   "cell_type": "code",
   "execution_count": 13,
   "metadata": {},
   "outputs": [],
   "source": [
    "def process_network_img(img):\n",
    "    npimg = img.detach().numpy\n",
    "    return (np.transpose(npimg,(1,2,0)))"
   ]
  },
  {
   "cell_type": "code",
   "execution_count": 14,
   "metadata": {
    "scrolled": true
   },
   "outputs": [],
   "source": [
    "class ConvNet(nn.Module):\n",
    "     def __init__(self,num_classes = 10):\n",
    "            super (ConvNet,self).__init__()\n",
    "            self.layer1 = nn.Sequential(\n",
    "                   nn.Conv2d(1, 32 , kernel_size =3 , stride = 1, padding = 1), #25088\n",
    "                   nn.BatchNorm2d(32),\n",
    "                   nn.ReLU(),\n",
    "                   nn.MaxPool2d(kernel_size = 2, stride = 2))\n",
    "            self.layer2 = nn.Sequential(\n",
    "                   nn.Conv2d(32,32,kernel_size = 3 , stride = 1,padding = 1),\n",
    "                   nn.ReLU(),\n",
    "                   nn.MaxPool2d(kernel_size = 2 , stride = 2))\n",
    "            self.fc1 = nn.Linear(7*7*32,500)\n",
    "            self.fc2 = nn.Linear(500,10)\n",
    "            \n",
    "    \n",
    "     def forward(self,x):\n",
    "            x1 = self.layer1(x)\n",
    "            x2 = self.layer2(x1)\n",
    "            out = x2.reshape(x2.size(0),-1)\n",
    "            out = self.fc1(out)\n",
    "            out = self.fc2(out)\n",
    "            return(x1,x2,out)"
   ]
  },
  {
   "cell_type": "code",
   "execution_count": 15,
   "metadata": {
    "scrolled": false
   },
   "outputs": [
    {
     "name": "stdout",
     "output_type": "stream",
     "text": [
      "ConvNet(\n",
      "  (layer1): Sequential(\n",
      "    (0): Conv2d(1, 32, kernel_size=(3, 3), stride=(1, 1), padding=(1, 1))\n",
      "    (1): BatchNorm2d(32, eps=1e-05, momentum=0.1, affine=True, track_running_stats=True)\n",
      "    (2): ReLU()\n",
      "    (3): MaxPool2d(kernel_size=2, stride=2, padding=0, dilation=1, ceil_mode=False)\n",
      "  )\n",
      "  (layer2): Sequential(\n",
      "    (0): Conv2d(32, 32, kernel_size=(3, 3), stride=(1, 1), padding=(1, 1))\n",
      "    (1): ReLU()\n",
      "    (2): MaxPool2d(kernel_size=2, stride=2, padding=0, dilation=1, ceil_mode=False)\n",
      "  )\n",
      "  (fc1): Linear(in_features=1568, out_features=500, bias=True)\n",
      "  (fc2): Linear(in_features=500, out_features=10, bias=True)\n",
      ")\n"
     ]
    }
   ],
   "source": [
    "model = ConvNet()\n",
    "print(model)\n"
   ]
  },
  {
   "cell_type": "code",
   "execution_count": null,
   "metadata": {},
   "outputs": [],
   "source": []
  },
  {
   "cell_type": "code",
   "execution_count": 16,
   "metadata": {},
   "outputs": [],
   "source": [
    "criterion = nn.CrossEntropyLoss()\n",
    "optimizer = torch.optim.Adam(model.parameters(),lr= lr)\n"
   ]
  },
  {
   "cell_type": "code",
   "execution_count": 17,
   "metadata": {},
   "outputs": [],
   "source": [
    "def valid_accuracy(validloader,model):\n",
    "    correct= 0\n",
    "    total = 0\n",
    "    tot_loss = 0\n",
    "    with torch.no_grad():\n",
    "        for data in validloader:\n",
    "            images,labels = data\n",
    "            #print(images.size())\n",
    "            _,_,out = model(images)\n",
    "            _,predicted = torch.max(out.data,1)\n",
    "            loss = criterion(out,labels)\n",
    "            tot_loss = tot_loss+loss.item()\n",
    "            total=total+labels.size(0)\n",
    "            #correct = correct+(predicted == labels).sum().item()\n",
    "    #val_acc = (100*correct/total)\n",
    "    print('Validation loss:%f '%(tot_loss))\n",
    "    return (tot_loss)\n",
    "    #print('Accuracy on validation set: %d %%'%val_acc)"
   ]
  },
  {
   "cell_type": "code",
   "execution_count": 18,
   "metadata": {},
   "outputs": [],
   "source": [
    "def test_accuracy(testloader,model):\n",
    "    correct = 0\n",
    "    total = 0\n",
    "    with torch.no_grad():\n",
    "        for data in testloader:\n",
    "            images, labels = data\n",
    "            _,_,output = model(images)\n",
    "            _, predicted = torch.max(output.data, 1)\n",
    "            total += labels.size(0)\n",
    "            correct += (predicted == labels).sum().item()\n",
    "    test_acc = (100 * correct / total)\n",
    "    print('Accuracy of the network on test set: %d %%' % test_acc)\n",
    "    return(test_acc)\n",
    "    "
   ]
  },
  {
   "cell_type": "code",
   "execution_count": 19,
   "metadata": {
    "scrolled": true
   },
   "outputs": [
    {
     "name": "stdout",
     "output_type": "stream",
     "text": [
      "[1,   50] loss: 1.762\n",
      "Validation loss:198.230824 \n",
      "Finished training\n",
      "Accuracy of the network on test set: 81 %\n",
      "[1,  100] loss: 0.711\n",
      "Validation loss:92.934599 \n",
      "Finished training\n",
      "Accuracy of the network on test set: 87 %\n",
      "[1,  150] loss: 0.415\n",
      "Validation loss:67.164219 \n",
      "Finished training\n",
      "Accuracy of the network on test set: 90 %\n",
      "[1,  200] loss: 0.326\n",
      "Validation loss:54.356167 \n",
      "Finished training\n",
      "Accuracy of the network on test set: 92 %\n",
      "[1,  250] loss: 0.289\n",
      "Validation loss:46.598520 \n",
      "Finished training\n",
      "Accuracy of the network on test set: 93 %\n",
      "[1,  300] loss: 0.237\n",
      "Validation loss:40.676804 \n",
      "Finished training\n",
      "Accuracy of the network on test set: 94 %\n",
      "[1,  350] loss: 0.218\n",
      "Validation loss:38.336433 \n",
      "Finished training\n",
      "Accuracy of the network on test set: 94 %\n",
      "[1,  400] loss: 0.173\n",
      "Validation loss:35.373831 \n",
      "Finished training\n",
      "Accuracy of the network on test set: 94 %\n",
      "[1,  450] loss: 0.163\n",
      "Validation loss:34.386470 \n",
      "Finished training\n",
      "Accuracy of the network on test set: 95 %\n",
      "[1,  500] loss: 0.171\n",
      "Validation loss:30.178043 \n",
      "Finished training\n",
      "Accuracy of the network on test set: 95 %\n",
      "[1,  550] loss: 0.157\n",
      "Validation loss:30.013692 \n",
      "Finished training\n",
      "Accuracy of the network on test set: 95 %\n",
      "[1,  600] loss: 0.165\n",
      "Validation loss:27.013899 \n",
      "Finished training\n",
      "Accuracy of the network on test set: 96 %\n",
      "[1,  650] loss: 0.126\n",
      "Validation loss:25.742813 \n",
      "Finished training\n",
      "Accuracy of the network on test set: 96 %\n",
      "[1,  700] loss: 0.148\n",
      "Validation loss:26.030145 \n",
      "Finished training\n",
      "Accuracy of the network on test set: 96 %\n",
      "[1,  750] loss: 0.116\n",
      "Validation loss:22.997866 \n",
      "Finished training\n",
      "Accuracy of the network on test set: 96 %\n",
      "[2,   50] loss: 0.110\n",
      "Validation loss:23.383072 \n",
      "Finished training\n",
      "Accuracy of the network on test set: 96 %\n",
      "[2,  100] loss: 0.119\n",
      "Validation loss:21.617589 \n",
      "Finished training\n",
      "Accuracy of the network on test set: 96 %\n",
      "[2,  150] loss: 0.111\n",
      "Validation loss:20.039583 \n",
      "Finished training\n",
      "Accuracy of the network on test set: 97 %\n",
      "[2,  200] loss: 0.104\n",
      "Validation loss:19.635229 \n",
      "Finished training\n",
      "Accuracy of the network on test set: 97 %\n",
      "[2,  250] loss: 0.082\n",
      "Validation loss:19.355393 \n",
      "Finished training\n",
      "Accuracy of the network on test set: 97 %\n",
      "[2,  300] loss: 0.091\n",
      "Validation loss:19.208467 \n",
      "Finished training\n",
      "Accuracy of the network on test set: 97 %\n",
      "[2,  350] loss: 0.103\n",
      "Validation loss:18.424465 \n",
      "Finished training\n",
      "Accuracy of the network on test set: 97 %\n",
      "[2,  400] loss: 0.092\n",
      "Validation loss:18.037230 \n",
      "Finished training\n",
      "Accuracy of the network on test set: 97 %\n",
      "[2,  450] loss: 0.090\n",
      "Validation loss:17.865268 \n",
      "Finished training\n",
      "Accuracy of the network on test set: 97 %\n",
      "[2,  500] loss: 0.089\n",
      "Validation loss:17.148566 \n",
      "Finished training\n",
      "Accuracy of the network on test set: 97 %\n",
      "[2,  550] loss: 0.082\n",
      "Validation loss:16.636374 \n",
      "Finished training\n",
      "Accuracy of the network on test set: 97 %\n",
      "[2,  600] loss: 0.086\n",
      "Validation loss:15.829662 \n",
      "Finished training\n",
      "Accuracy of the network on test set: 97 %\n",
      "[2,  650] loss: 0.084\n",
      "Validation loss:17.523800 \n",
      "Finished training\n",
      "Accuracy of the network on test set: 97 %\n",
      "[2,  700] loss: 0.073\n",
      "Validation loss:15.347052 \n",
      "Finished training\n",
      "Accuracy of the network on test set: 97 %\n",
      "[2,  750] loss: 0.097\n",
      "Validation loss:16.969297 \n",
      "Finished training\n",
      "Accuracy of the network on test set: 97 %\n",
      "[3,   50] loss: 0.076\n",
      "Validation loss:15.228928 \n",
      "Finished training\n",
      "Accuracy of the network on test set: 97 %\n",
      "[3,  100] loss: 0.066\n",
      "Validation loss:16.162227 \n",
      "Finished training\n",
      "Accuracy of the network on test set: 97 %\n",
      "[3,  150] loss: 0.068\n",
      "Validation loss:15.406472 \n",
      "Finished training\n",
      "Accuracy of the network on test set: 97 %\n",
      "[3,  200] loss: 0.067\n",
      "Validation loss:15.034732 \n",
      "Finished training\n",
      "Accuracy of the network on test set: 97 %\n",
      "[3,  250] loss: 0.059\n",
      "Validation loss:15.822688 \n",
      "Finished training\n",
      "Accuracy of the network on test set: 97 %\n",
      "[3,  300] loss: 0.080\n",
      "Validation loss:15.401543 \n",
      "Finished training\n",
      "Accuracy of the network on test set: 97 %\n",
      "[3,  350] loss: 0.071\n",
      "Validation loss:15.837451 \n",
      "Finished training\n",
      "Accuracy of the network on test set: 97 %\n",
      "[3,  400] loss: 0.058\n",
      "Validation loss:15.108823 \n",
      "Finished training\n",
      "Accuracy of the network on test set: 97 %\n",
      "[3,  450] loss: 0.064\n",
      "Validation loss:14.872753 \n",
      "Finished training\n",
      "Accuracy of the network on test set: 97 %\n",
      "[3,  500] loss: 0.067\n",
      "Validation loss:13.780496 \n",
      "Finished training\n",
      "Accuracy of the network on test set: 98 %\n",
      "[3,  550] loss: 0.065\n",
      "Validation loss:14.497389 \n",
      "Finished training\n",
      "Accuracy of the network on test set: 97 %\n",
      "[3,  600] loss: 0.077\n",
      "Validation loss:14.790419 \n",
      "Finished training\n",
      "Accuracy of the network on test set: 97 %\n",
      "[3,  650] loss: 0.069\n",
      "Validation loss:12.938893 \n",
      "Finished training\n",
      "Accuracy of the network on test set: 98 %\n",
      "[3,  700] loss: 0.070\n",
      "Validation loss:13.285126 \n",
      "Finished training\n",
      "Accuracy of the network on test set: 98 %\n",
      "[3,  750] loss: 0.065\n",
      "Validation loss:13.273470 \n",
      "Finished training\n",
      "Accuracy of the network on test set: 97 %\n"
     ]
    }
   ],
   "source": [
    "val_loss = [];\n",
    "test_acc = [];\n",
    "train_loss = [];\n",
    "running_loss = 0;\n",
    "for epoch in range(3):\n",
    "    for i,data in enumerate(trainloader,0):\n",
    "        images,labels = data\n",
    "        images.size()\n",
    "        _,_,out = model(images)\n",
    "        _,predicted =torch.max(out.data,1)\n",
    "        loss = criterion(out,labels)\n",
    "        optimizer.zero_grad()\n",
    "        loss.backward()      #backpropagate loss\n",
    "        optimizer.step()     #updating weights\n",
    "       \n",
    "       \n",
    "        \n",
    "        running_loss =running_loss +loss.item()\n",
    "        \n",
    "        \n",
    "        \n",
    "        \n",
    "        if(i%50==49):   #50 mini batches\n",
    "            print('[%d,%5d] loss: %0.3f'%(epoch+1,i+1,running_loss/50))\n",
    "            train_loss.append((running_loss/50))\n",
    "            running_loss = 0\n",
    "            v_loss = valid_accuracy(validloader,model)\n",
    "            val_loss.append(v_loss)\n",
    "            print('Finished training')\n",
    "            t_ac = test_accuracy(testloader,model)\n",
    "            test_acc.append(t_ac)\n",
    "            \n",
    "\n",
    "    \n",
    "    \n",
    "        \n",
    "    "
   ]
  },
  {
   "cell_type": "code",
   "execution_count": 25,
   "metadata": {},
   "outputs": [],
   "source": [
    "modelroot = '/home/anil/data/MNIST/MNISTsaved/saved_model2'"
   ]
  },
  {
   "cell_type": "code",
   "execution_count": 27,
   "metadata": {},
   "outputs": [],
   "source": [
    "torch.save(model.state_dict(), modelroot)"
   ]
  },
  {
   "cell_type": "code",
   "execution_count": 22,
   "metadata": {},
   "outputs": [
    {
     "name": "stdout",
     "output_type": "stream",
     "text": [
      "layer1.0.weight\n",
      "288\n",
      "layer1.0.bias\n",
      "32\n",
      "layer1.1.weight\n",
      "32\n",
      "layer1.1.bias\n",
      "32\n",
      "layer2.0.weight\n",
      "9216\n",
      "layer2.0.bias\n",
      "32\n",
      "fc1.weight\n",
      "784000\n",
      "fc1.bias\n",
      "500\n",
      "fc2.weight\n",
      "5000\n",
      "fc2.bias\n",
      "10\n"
     ]
    }
   ],
   "source": [
    "for name, param in model.named_parameters():\n",
    "    print(name)\n",
    "    print(param.numel())"
   ]
  },
  {
   "cell_type": "code",
   "execution_count": 23,
   "metadata": {},
   "outputs": [
    {
     "data": {
      "image/png": "[encoded data removed]",
      "text/plain": [
       "<Figure size 432x288 with 1 Axes>"
      ]
     },
     "metadata": {},
     "output_type": "display_data"
    },
    {
     "data": {
      "image/png": "[encoded data removed]",
      "text/plain": [
       "<Figure size 432x288 with 1 Axes>"
      ]
     },
     "metadata": {},
     "output_type": "display_data"
    },
    {
     "data": {
      "image/png": "[encoded data removed]",
      "text/plain": [
       "<Figure size 432x288 with 1 Axes>"
      ]
     },
     "metadata": {},
     "output_type": "display_data"
    }
   ],
   "source": [
    "x=list(range(0,2250,50))\n",
    "plt.plot(x,val_loss,'r',label ='Validation Loss')\n",
    "plt.xlabel('Iterations')\n",
    "plt.ylabel('Loss')\n",
    "plt.show()\n",
    "plt.plot(x,test_acc,'g',label = 'Test Accuracy')\n",
    "plt.xlabel('Iterations')\n",
    "plt.ylabel('Accuracy')\n",
    "plt.show()\n",
    "\n",
    "plt.plot(x,train_loss,'b')\n",
    "plt.xlabel('Iterations')\n",
    "plt.ylabel('Train Loss')\n",
    "plt.show()"
   ]
  },
  {
   "cell_type": "code",
   "execution_count": 28,
   "metadata": {
    "scrolled": true
   },
   "outputs": [
    {
     "name": "stderr",
     "output_type": "stream",
     "text": [
      "Clipping input data to the valid range for imshow with RGB data ([0..1] for floats or [0..255] for integers).\n"
     ]
    },
    {
     "data": {
      "text/plain": [
       "<matplotlib.image.AxesImage at 0x7f489963d780>"
      ]
     },
     "execution_count": 28,
     "metadata": {},
     "output_type": "execute_result"
    },
    {
     "data": {
      "image/png": "[encoded data removed]",
      "text/plain": [
       "<Figure size 432x288 with 1 Axes>"
      ]
     },
     "metadata": {},
     "output_type": "display_data"
    }
   ],
   "source": [
    "#reloading\n",
    "model.load_state_dict(torch.load(modelroot))\n",
    "data = iter(trainloader)\n",
    "images,labels = data.next()\n",
    "trainimages = process_normal_img(torchvision.utils.make_grid(images))\n",
    "plt.imshow(trainimages)"
   ]
  },
  {
   "cell_type": "code",
   "execution_count": 29,
   "metadata": {},
   "outputs": [
    {
     "name": "stdout",
     "output_type": "stream",
     "text": [
      "Actual Labels\n",
      "    5     4     8     0     8     4     9     0     4     2     5     2     5     8     7     4     8     0     9     6     4     1     1     8     0     8     1     4     2     1     2     3     5     3     8     1     3     9     4     5     4     8     9     7     0     4     8     2     1     1     9     8     1     1     8     8     3     2     1     2     3     1     2     1\n",
      "Predicted Labels\n",
      "    5     4     8     0     8     4     9     0     4     2     5     2     5     8     7     4     8     0     9     6     4     1     1     8     0     8     1     4     2     1     2     3     5     3     8     1     3     9     4     5     4     8     9     7     0     4     8     2     1     1     9     8     1     1     8     8     3     2     1     2     3     1     2     1\n"
     ]
    }
   ],
   "source": [
    "classes = ('0', '1', '2', '3',\n",
    "           '4', '5', '6', '7', '8', '9')\n",
    "print('Actual Labels')\n",
    "print(' '.join('%5s' % classes[labels[j]] for j in range(batch_size)))\n",
    "\n",
    "\n",
    "print('Predicted Labels')\n",
    "_,_,out =model(images)\n",
    "\n",
    "_, predicted = torch.max(out.data, 1)\n",
    "print(' '.join('%5s' % classes[predicted[j]] for j in range(batch_size)))"
   ]
  },
  {
   "cell_type": "code",
   "execution_count": null,
   "metadata": {},
   "outputs": [],
   "source": []
  },
  {
   "cell_type": "code",
   "execution_count": null,
   "metadata": {},
   "outputs": [],
   "source": []
  }
 ],
 "metadata": {
  "kernelspec": {
   "display_name": "Python 3",
   "language": "python",
   "name": "python3"
  },
  "language_info": {
   "codemirror_mode": {
    "name": "ipython",
    "version": 3
   },
   "file_extension": ".py",
   "mimetype": "text/x-python",
   "name": "python",
   "nbconvert_exporter": "python",
   "pygments_lexer": "ipython3",
   "version": "3.7.6"
  }
 },
 "nbformat": 4,
 "nbformat_minor": 2
}
