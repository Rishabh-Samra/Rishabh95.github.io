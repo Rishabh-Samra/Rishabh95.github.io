{
 "cells": [
  {
   "cell_type": "code",
   "execution_count": 1,
   "metadata": {},
   "outputs": [
    {
     "name": "stdout",
     "output_type": "stream",
     "text": [
      "0.4.1\n"
     ]
    }
   ],
   "source": [
    "import torch\n",
    "import torch.nn as nn\n",
    "import torchvision\n",
    "import torchvision.transforms as transforms\n",
    "import matplotlib.pyplot as plt\n",
    "import numpy as np\n",
    "from torch.utils.data.sampler import SubsetRandomSampler\n",
    "import torch.optim as optim\n",
    "import scipy.misc\n",
    "print(torch.__version__)\n",
    "\n",
    "\n",
    "\n",
    "device = torch.device('cuda:1'if torch.cuda.is_available()else 'cpu')\n",
    "\n",
    "\n",
    "\n",
    "\n",
    "transform = transforms.Compose(\n",
    "   [transforms.ToTensor(),\n",
    "    transforms.Normalize((0.13,), (0.308,))])\n",
    "\n",
    "\n",
    "\n",
    "\n",
    "\n",
    "epochs = 5;\n",
    "lr = 0.0001;\n",
    "batch_size = 1;\n",
    "num_classes = 10;\n",
    "\n",
    "\n",
    "# In[5]:\n",
    "\n",
    "\n",
    "train_dataset = torchvision.datasets.MNIST(root = '/home/anil/data',train =True,transform = transform,download = True)\n",
    "test_dataset = torchvision.datasets.MNIST(root='home/anil/data',\n",
    "                                          train=False, \n",
    "                                          transform=transform,download = True)\n",
    "\n",
    "\n",
    "# In[6]:\n",
    "\n",
    "\n",
    "valid_dataset = torchvision.datasets.MNIST(root = '/home/anil/data',train =True,transform = transform,download = True)\n",
    "\n",
    "\n",
    "# In[7]:\n",
    "\n",
    "\n",
    "num_train = len(train_dataset)\n",
    "indices = list(range(num_train))\n",
    "split=int(np.floor(0.2*num_train))\n",
    "\n",
    "\n",
    "# In[8]:\n",
    "\n",
    "\n",
    "tr_idx,valid_idx = indices[split:],indices[:split]\n",
    "\n",
    "\n",
    "# In[9]:\n",
    "\n",
    "\n",
    "np.random.seed(0)\n",
    "np.random.shuffle(indices)\n",
    "\n",
    "\n",
    "# In[10]:\n",
    "\n",
    "\n",
    "trainsampler = SubsetRandomSampler(tr_idx)\n",
    "validsampler = SubsetRandomSampler(valid_idx)\n",
    "\n",
    "\n",
    "# In[11]:\n",
    "\n",
    "\n",
    "trainloader = torch.utils.data.DataLoader(dataset = train_dataset,sampler = trainsampler,batch_size = batch_size,shuffle = False)\n",
    "testloader = torch.utils.data.DataLoader(dataset=test_dataset,batch_size=batch_size , shuffle=True)\n",
    "validloader = torch.utils.data.DataLoader(dataset = train_dataset,sampler = validsampler,batch_size = batch_size,shuffle = False)\n",
    "\n",
    "\n",
    "# In[12]:\n",
    "\n",
    "\n",
    "#to show image\n",
    "def process_normal_img(img):\n",
    "    img = img*0.3081+0.1307\n",
    "    npimg = img.numpy()\n",
    "    return (np.transpose(npimg,(1,2,0)))\n",
    "\n",
    "\n",
    "# In[13]:\n",
    "\n",
    "\n",
    "def process_network_img(img):\n",
    "    npimg = img.detach().numpy\n",
    "    return (np.transpose(npimg,(1,2,0)))\n",
    "\n",
    "\n",
    "class ConvNet(nn.Module):\n",
    "     def __init__(self,num_classes = 10):\n",
    "            super (ConvNet,self).__init__()\n",
    "            self.layer1 = nn.Sequential(\n",
    "                   nn.Conv2d(1, 32 , kernel_size =3 , stride = 1, padding = 1), #25088\n",
    "                   nn.BatchNorm2d(32),\n",
    "                   nn.ReLU(),\n",
    "                   nn.MaxPool2d(kernel_size = 2, stride = 2))\n",
    "            self.layer2 = nn.Sequential(\n",
    "                   nn.Conv2d(32,32,kernel_size = 3 , stride = 1,padding = 1),\n",
    "                   nn.ReLU(),\n",
    "                   nn.MaxPool2d(kernel_size = 2 , stride = 2))\n",
    "            self.fc1 = nn.Linear(7*7*32,500)\n",
    "            self.fc2 = nn.Linear(500,10)\n",
    "            \n",
    "    \n",
    "     def forward(self,x):\n",
    "            x1 = self.layer1(x)\n",
    "            x2 = self.layer2(x1)\n",
    "            out = x2.reshape(x2.size(0),-1)\n",
    "            out = self.fc1(out)\n",
    "            out = self.fc2(out)\n",
    "            return(x1,x2,out)\n",
    "\n",
    "\n",
    "\n",
    "\n"
   ]
  },
  {
   "cell_type": "code",
   "execution_count": 2,
   "metadata": {},
   "outputs": [],
   "source": [
    "modelroot = '/home/anil/data/MNIST/MNISTsaved/saved_model2'"
   ]
  },
  {
   "cell_type": "code",
   "execution_count": 3,
   "metadata": {},
   "outputs": [],
   "source": [
    "model = ConvNet()\n",
    "model.load_state_dict(torch.load(modelroot))"
   ]
  },
  {
   "cell_type": "code",
   "execution_count": 55,
   "metadata": {},
   "outputs": [
    {
     "name": "stdout",
     "output_type": "stream",
     "text": [
      "Reloading\n",
      "ConvNet(\n",
      "  (layer1): Sequential(\n",
      "    (0): Conv2d(1, 32, kernel_size=(3, 3), stride=(1, 1), padding=(1, 1))\n",
      "    (1): BatchNorm2d(32, eps=1e-05, momentum=0.1, affine=True, track_running_stats=True)\n",
      "    (2): ReLU()\n",
      "    (3): MaxPool2d(kernel_size=2, stride=2, padding=0, dilation=1, ceil_mode=False)\n",
      "  )\n",
      "  (layer2): Sequential(\n",
      "    (0): Conv2d(32, 32, kernel_size=(3, 3), stride=(1, 1), padding=(1, 1))\n",
      "    (1): ReLU()\n",
      "    (2): MaxPool2d(kernel_size=2, stride=2, padding=0, dilation=1, ceil_mode=False)\n",
      "  )\n",
      "  (fc1): Linear(in_features=1568, out_features=500, bias=True)\n",
      "  (fc2): Linear(in_features=500, out_features=10, bias=True)\n",
      ")\n",
      "torch.Size([3, 28, 28])\n"
     ]
    }
   ],
   "source": [
    "print('Reloading')\n",
    "\n",
    "print(model)\n",
    "\n",
    "#getting images\n",
    "dataiter = iter(testloader)\n",
    "act_img,labels = dataiter.next()\n",
    "test_img = process_normal_img(torchvision.utils.make_grid(act_img))\n",
    "classes = ['0','1','2','3','4','5','6','7','8','9']\n",
    "softmax = nn.Softmax(dim = 0)\n",
    "print(torchvision.utils.make_grid(act_img).shape)"
   ]
  },
  {
   "cell_type": "code",
   "execution_count": 5,
   "metadata": {},
   "outputs": [
    {
     "name": "stderr",
     "output_type": "stream",
     "text": [
      "Clipping input data to the valid range for imshow with RGB data ([0..1] for floats or [0..255] for integers).\n"
     ]
    },
    {
     "name": "stdout",
     "output_type": "stream",
     "text": [
      "Actual Images\n",
      "torch.Size([3, 28, 28])\n",
      "(28, 28, 3)\n"
     ]
    },
    {
     "data": {
      "image/png": "[encoded data removed]",
      "text/plain": [
       "<Figure size 432x288 with 1 Axes>"
      ]
     },
     "metadata": {},
     "output_type": "display_data"
    }
   ],
   "source": [
    "print('Actual Images')\n",
    "plt.figure()\n",
    "plt.imshow(test_img)\n",
    "print(torchvision.utils.make_grid(act_img).shape)\n",
    "print(test_img.shape)"
   ]
  },
  {
   "cell_type": "code",
   "execution_count": 9,
   "metadata": {},
   "outputs": [
    {
     "name": "stdout",
     "output_type": "stream",
     "text": [
      "torch.Size([1, 1, 28, 28])\n",
      "(28, 28, 3)\n",
      "torch.Size([3, 28, 28])\n"
     ]
    }
   ],
   "source": [
    "print(act_img.shape)\n",
    "#print(labels[2])\n",
    "\n",
    "print(test_img.shape)\n",
    "print(torchvision.utils.make_grid(act_img).shape)"
   ]
  },
  {
   "cell_type": "code",
   "execution_count": 6,
   "metadata": {
    "scrolled": true
   },
   "outputs": [
    {
     "name": "stdout",
     "output_type": "stream",
     "text": [
      "Actual Labels\n",
      "     3\n",
      "tensor([[1.1949e-09, 1.8443e-08, 6.1413e-06, 9.9787e-01, 7.3225e-10, 1.0746e-06,\n",
      "         2.2102e-11, 8.8726e-06, 1.1325e-03, 9.7717e-04]],\n",
      "       grad_fn=<SoftmaxBackward>)\n",
      "tensor([3])\n",
      "Predicted Labels\n",
      "     3\n"
     ]
    },
    {
     "name": "stderr",
     "output_type": "stream",
     "text": [
      "/home/anil/anaconda3/lib/python3.6/site-packages/ipykernel_launcher.py:4: UserWarning: Implicit dimension choice for softmax has been deprecated. Change the call to include dim=X as an argument.\n",
      "  after removing the cwd from sys.path.\n"
     ]
    }
   ],
   "source": [
    "c1out,c2out,out = model(act_img)\n",
    "print('Actual Labels')\n",
    "print(' '.join('%6s' %classes[labels[j]] for j in range(batch_size)))\n",
    "pred_con = softmax(out)\n",
    "print(pred_con)\n",
    "sc,predicted = torch.max(out.data,1)\n",
    "print(predicted)\n",
    "score = sc\n",
    "print('Predicted Labels')\n",
    "print(' '.join('%6s' %classes[predicted.data.numpy()[j]] for j in range(batch_size)))\n"
   ]
  },
  {
   "cell_type": "code",
   "execution_count": 24,
   "metadata": {
    "scrolled": true
   },
   "outputs": [
    {
     "name": "stdout",
     "output_type": "stream",
     "text": [
      "torch.Size([16, 1, 28, 28])\n"
     ]
    }
   ],
   "source": [
    "\n",
    "occn = []\n",
    "k=0    \n",
    "b = torch.zeros(7,7)\n",
    "a = torch.zeros(1,1,28,28)\n",
    "occ = torch.zeros(16,1,28,28)\n",
    "#print((a[0,0,0:0+7,0:0+7]).size())\n",
    "#print(b.size())\n",
    "for i in range (4):\n",
    "    for j in range(4):  \n",
    "        a = act_img.clone()\n",
    "        a[0,0,7*i:7*i+7,7*j:7*j+7] = b\n",
    "        occ[k,:,:,:]=a\n",
    "        \n",
    "        #occ = occ*0.3081+0.1307\n",
    "        #occn = occ.numpy()\n",
    "        #print(occ)\n",
    "        k=k+1\n",
    "print(occ.shape)"
   ]
  },
  {
   "cell_type": "code",
   "execution_count": 26,
   "metadata": {},
   "outputs": [],
   "source": [
    "#occn = torchvision.utils.make_grid(occ)\n",
    "\n",
    "\n",
    "occn = process_normal_img(torchvision.utils.make_grid(occ))"
   ]
  },
  {
   "cell_type": "code",
   "execution_count": 42,
   "metadata": {},
   "outputs": [
    {
     "name": "stderr",
     "output_type": "stream",
     "text": [
      "Clipping input data to the valid range for imshow with RGB data ([0..1] for floats or [0..255] for integers).\n"
     ]
    },
    {
     "name": "stdout",
     "output_type": "stream",
     "text": [
      "(62, 242, 3)\n"
     ]
    },
    {
     "data": {
      "image/png": "[encoded data removed]",
      "text/plain": [
       "<Figure size 432x288 with 1 Axes>"
      ]
     },
     "metadata": {},
     "output_type": "display_data"
    }
   ],
   "source": [
    "plt.imshow(occn)\n",
    "print(occn.shape)"
   ]
  },
  {
   "cell_type": "code",
   "execution_count": 231,
   "metadata": {},
   "outputs": [
    {
     "name": "stdout",
     "output_type": "stream",
     "text": [
      "[0.99973124 0.99031734 0.99627805 0.99955249 0.9996292  0.99931586\n",
      " 0.8885687  0.99968308 0.99967045 0.99965292 0.99882233 0.99962771\n",
      " 0.99912244 0.99939799 0.99949831 0.99962378]\n"
     ]
    }
   ],
   "source": [
    "c1out,c2out,out = model(occ)\n",
    "pcon = np.zeros((16,10))\n",
    "for i  in range(16):\n",
    "    op = out[i,:]\n",
    "    op = op.detach().numpy()\n",
    "    pcon[i] = np.exp(op)/(np.sum(np.exp(op)))\n",
    "prob = np.amax(pcon,axis=1)\n",
    "print(prob)"
   ]
  },
  {
   "cell_type": "code",
   "execution_count": 233,
   "metadata": {},
   "outputs": [
    {
     "data": {
      "image/png": "[encoded data removed]",
      "text/plain": [
       "<Figure size 432x288 with 1 Axes>"
      ]
     },
     "metadata": {},
     "output_type": "display_data"
    }
   ],
   "source": [
    "a = np.linspace(1,16,16)\n",
    "plt.plot(a,prob)\n",
    "plt.xlabel('images')\n",
    "plt.ylabel('Probability')\n",
    "plt.grid()"
   ]
  },
  {
   "cell_type": "code",
   "execution_count": null,
   "metadata": {},
   "outputs": [],
   "source": []
  }
 ],
 "metadata": {
  "kernelspec": {
   "display_name": "Python 3",
   "language": "python",
   "name": "python3"
  },
  "language_info": {
   "codemirror_mode": {
    "name": "ipython",
    "version": 3
   },
   "file_extension": ".py",
   "mimetype": "text/x-python",
   "name": "python",
   "nbconvert_exporter": "python",
   "pygments_lexer": "ipython3",
   "version": "3.6.5"
  }
 },
 "nbformat": 4,
 "nbformat_minor": 2
}
