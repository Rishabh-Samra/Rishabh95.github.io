{
 "cells": [
  {
   "cell_type": "code",
   "execution_count": 1,
   "metadata": {},
   "outputs": [],
   "source": [
    "from __future__ import print_function, division\n",
    "from skimage import io, transform\n",
    "from skimage.io import imread\n",
    "from torch.autograd import Variable\n",
    "import torch\n",
    "import torch.nn as nn\n",
    "import torch.nn.functional as F\n",
    "import torch.optim as optim\n",
    "from torch.optim import lr_scheduler\n",
    "from torch.utils.data import Dataset, DataLoader\n",
    "import numpy as np\n",
    "import torchvision\n",
    "from torchvision import transforms, utils\n",
    "import matplotlib.pyplot as plt\n",
    "import time\n",
    "import os\n",
    "import copy\n",
    "import glob\n",
    "from PIL import Image"
   ]
  },
  {
   "cell_type": "code",
   "execution_count": 2,
   "metadata": {},
   "outputs": [],
   "source": [
    "data_dir = \"./l_dataset\""
   ]
  },
  {
   "cell_type": "code",
   "execution_count": 3,
   "metadata": {},
   "outputs": [],
   "source": [
    "path1 = \"/home/rishabh/l_dataset/Training/0deg/*.jpg\"\n",
    "file1 = glob.glob(path1)\n",
    "a1 = []\n",
    "for i in file1:\n",
    "    a = imread(i)\n",
    "    a1.append(a)\n",
    "\n",
    "path2 = \"/home/rishabh/l_dataset/Training/60deg/*.jpg\"\n",
    "file2 = glob.glob(path2)\n",
    "a2 = []\n",
    "for j in file2:\n",
    "    a = imread(j)\n",
    "    a2.append(a)\n",
    "\n",
    "path3 = \"/home/rishabh/l_dataset/Training/90deg/*.jpg\"\n",
    "file3 = glob.glob(path3)\n",
    "a3 = []\n",
    "for k in file3:\n",
    "    a = imread(k)\n",
    "    a3.append(a)\n",
    "    \n",
    "path4 = \"/home/rishabh/l_dataset/Training/120deg/*.jpg\"\n",
    "file4 = glob.glob(path4)\n",
    "a4 = []\n",
    "for l in file4:\n",
    "    a = imread(l)\n",
    "    a4.append(a)\n",
    "images = np.concatenate((a1,a2,a3,a4),axis = 0).astype('float32')\n",
    "#images = torch.tensor(images)\n",
    "#images = images.permute(0,3,1,2)\n",
    "#images = Image.fromarray(img)"
   ]
  },
  {
   "cell_type": "code",
   "execution_count": 4,
   "metadata": {},
   "outputs": [],
   "source": [
    "a = np.zeros(10000)\n",
    "b = np.ones(10000)\n",
    "c = np.ones(10000)*2\n",
    "d = np.ones(10000)*3\n",
    "labels = np.concatenate((a,b,c,d), axis= 0)"
   ]
  },
  {
   "cell_type": "code",
   "execution_count": 5,
   "metadata": {},
   "outputs": [],
   "source": [
    "p1 = \"/home/rishabh/l_dataset/Validation/0deg/*.jpg\"\n",
    "f1 = glob.glob(p1)\n",
    "A1 = []\n",
    "for i in f1:\n",
    "    A = imread(i)\n",
    "    A1.append(A)\n",
    "\n",
    "p2 = \"/home/rishabh/l_dataset/Validation/60deg/*.jpg\"\n",
    "f2 = glob.glob(p2)\n",
    "A2 = []\n",
    "for j in f2:\n",
    "    A = imread(j)\n",
    "    A2.append(A)\n",
    "\n",
    "p3 = \"/home/rishabh/l_dataset/Validation/90deg/*.jpg\"\n",
    "f3 = glob.glob(p3)\n",
    "A3 = []\n",
    "for k in f3:\n",
    "    A = imread(k)\n",
    "    A3.append(A)\n",
    "    \n",
    "p4 = \"/home/rishabh/l_dataset/Validation/120deg/*.jpg\"\n",
    "f4 = glob.glob(p4)\n",
    "A4 = []\n",
    "for l in f4:\n",
    "    A = imread(l)\n",
    "    A4.append(A)\n",
    "imgV = np.concatenate((A1,A2,A3,A4), axis = 0).astype('float32')   #400x32x32x3\n",
    "#imgV = Image.fromarray(ig)"
   ]
  },
  {
   "cell_type": "code",
   "execution_count": 6,
   "metadata": {},
   "outputs": [
    {
     "name": "stdout",
     "output_type": "stream",
     "text": [
      "(10000, 32, 32)\n"
     ]
    }
   ],
   "source": [
    "print(imgV.shape)"
   ]
  },
  {
   "cell_type": "code",
   "execution_count": 7,
   "metadata": {},
   "outputs": [
    {
     "name": "stdout",
     "output_type": "stream",
     "text": [
      "(10000,)\n"
     ]
    }
   ],
   "source": [
    "Az = np.zeros(2500)\n",
    "B = np.ones(2500)\n",
    "C = np.ones(2500)*2\n",
    "D = np.ones(2500)*3\n",
    "labV = np.concatenate((Az,B,C,D), axis= 0)     \n",
    "print(labV.shape)"
   ]
  },
  {
   "cell_type": "code",
   "execution_count": 8,
   "metadata": {},
   "outputs": [],
   "source": [
    "class ToTensor(object):\n",
    "    \"\"\"Convert ndarrays in sample to Tensors.\"\"\"\n",
    "\n",
    "    def __call__(self, sample):\n",
    "        image, label = sample['images'], sample['labels']\n",
    "\n",
    "        # swap color axis because\n",
    "        # numpy image: H x W x C\n",
    "        # torch image: C X H X W\n",
    "        image = image.transpose((2, 0, 1))\n",
    "        return {'images': torch.from_numpy(image),\n",
    "                'labels': torch.from_numpy(label)}"
   ]
  },
  {
   "cell_type": "code",
   "execution_count": 9,
   "metadata": {},
   "outputs": [],
   "source": [
    "transform = transforms.Compose([transforms.Grayscale(num_output_channels=1), transforms.Normalize((0.5, 0.5, 0.5), (0.5, 0.5, 0.5)),ToTensor()])"
   ]
  },
  {
   "cell_type": "code",
   "execution_count": 10,
   "metadata": {},
   "outputs": [],
   "source": [
    "class ds(Dataset):\n",
    "    def __init__(self, images, labels, transform = None):\n",
    "        self.images = images\n",
    "        self.labels = labels\n",
    "        self.transform = transform\n",
    "        \n",
    "    def __len__(self):\n",
    "        return len(self.images)\n",
    "    \n",
    "    def __getitem__(self,idx):\n",
    "        image = self.images[idx]\n",
    "        label = self.labels[idx]\n",
    "        #image = img.transpose((2,0,1))\n",
    "        # sample = {'images': image,'labels':label }\n",
    "        \n",
    "        \n",
    "        \n",
    "       # print(image.dtype)\n",
    "#         if self.transform:\n",
    "#             img = torch.from_numpy(img)\n",
    "#             sample = {'images':self.transform(img),'labels':label}  \n",
    "        return image,label"
   ]
  },
  {
   "cell_type": "code",
   "execution_count": 11,
   "metadata": {},
   "outputs": [],
   "source": [
    "trainset = ds(images,labels, transform = transform)\n",
    "testset = ds(imgV, labV, transform = transform)\n",
    "#print(trainset)\n",
    "\n"
   ]
  },
  {
   "cell_type": "code",
   "execution_count": 12,
   "metadata": {},
   "outputs": [],
   "source": [
    "trainloader = torch.utils.data.DataLoader(trainset, batch_size=32,\n",
    "                                          shuffle=True, num_workers=2)\n",
    "testloader = torch.utils.data.DataLoader(testset, batch_size = 32,\n",
    "                                        shuffle= False, num_workers=2)"
   ]
  },
  {
   "cell_type": "code",
   "execution_count": 1,
   "metadata": {},
   "outputs": [
    {
     "ename": "NameError",
     "evalue": "name 'trainloader' is not defined",
     "output_type": "error",
     "traceback": [
      "\u001b[0;31m---------------------------------------------------------------------------\u001b[0m",
      "\u001b[0;31mNameError\u001b[0m                                 Traceback (most recent call last)",
      "\u001b[0;32m<ipython-input-1-37ef88e26b1d>\u001b[0m in \u001b[0;36m<module>\u001b[0;34m\u001b[0m\n\u001b[0;32m----> 1\u001b[0;31m \u001b[0mi\u001b[0m\u001b[0;34m,\u001b[0m\u001b[0ml\u001b[0m \u001b[0;34m=\u001b[0m \u001b[0miter\u001b[0m\u001b[0;34m(\u001b[0m\u001b[0mtrainloader\u001b[0m\u001b[0;34m)\u001b[0m\u001b[0;34m.\u001b[0m\u001b[0mnext\u001b[0m\u001b[0;34m(\u001b[0m\u001b[0;34m)\u001b[0m\u001b[0;34m\u001b[0m\u001b[0;34m\u001b[0m\u001b[0m\n\u001b[0m\u001b[1;32m      2\u001b[0m \u001b[0mprint\u001b[0m\u001b[0;34m(\u001b[0m\u001b[0mi\u001b[0m\u001b[0;34m.\u001b[0m\u001b[0mshape\u001b[0m\u001b[0;34m)\u001b[0m\u001b[0;34m\u001b[0m\u001b[0;34m\u001b[0m\u001b[0m\n",
      "\u001b[0;31mNameError\u001b[0m: name 'trainloader' is not defined"
     ]
    }
   ],
   "source": [
    "i,l = iter(trainloader).next()\n",
    "print(i.shape)"
   ]
  },
  {
   "cell_type": "code",
   "execution_count": 13,
   "metadata": {},
   "outputs": [],
   "source": [
    "class Net(nn.Module):\n",
    "    def __init__(self):\n",
    "        super(Net, self).__init__()\n",
    "        self.conv1 = nn.Conv2d(1, 10, kernel_size=5)\n",
    "        self.conv2 = nn.Conv2d(10, 20, kernel_size=5)\n",
    "        self.conv2_drop = nn.Dropout2d()\n",
    "        self.fc1 = nn.Linear(500, 200)\n",
    "        self.fc2 = nn.Linear(200, 84)\n",
    "        self.fc3 = nn.Linear(84,10)\n",
    "\n",
    "    def forward(self, x):\n",
    "        x = F.relu(F.max_pool2d(self.conv1(x), 2))\n",
    "        x = F.relu(F.max_pool2d(self.conv2_drop(self.conv2(x)), 2))\n",
    "        x = x.view(-1, 500)\n",
    "        x = F.relu(self.fc1(x))\n",
    "        x = F.dropout(x, training=self.training)\n",
    "        x = F.relu(self.fc2(x))\n",
    "        x1 = self.fc3(x)\n",
    "        _,ind = torch.max(x1,1) \n",
    "        return x1,ind\n",
    "net = Net()"
   ]
  },
  {
   "cell_type": "code",
   "execution_count": 14,
   "metadata": {},
   "outputs": [],
   "source": [
    "criterion = nn.CrossEntropyLoss()\n",
    "optimizer = optim.SGD(net.parameters(), lr=0.001, momentum=0.9)"
   ]
  },
  {
   "cell_type": "code",
   "execution_count": 15,
   "metadata": {},
   "outputs": [
    {
     "name": "stdout",
     "output_type": "stream",
     "text": [
      "[1,   100] trainng loss: 1.006\n",
      "[1,   200] trainng loss: 0.807\n",
      "[1,   300] trainng loss: 0.794\n",
      "[1,   400] trainng loss: 0.782\n",
      "[1,   500] trainng loss: 0.771\n",
      "[1,   600] trainng loss: 0.759\n",
      "[1,   700] trainng loss: 0.750\n",
      "[1,   800] trainng loss: 0.741\n",
      "[1,   900] trainng loss: 0.732\n",
      "[1,  1000] trainng loss: 0.724\n",
      "[1,  1100] trainng loss: 0.718\n",
      "[1,  1200] trainng loss: 0.712\n",
      "Accuracy: 99.558\n",
      "[2,   100] trainng loss: 0.703\n",
      "[2,   200] trainng loss: 0.697\n",
      "[2,   300] trainng loss: 0.691\n",
      "[2,   400] trainng loss: 0.685\n",
      "[2,   500] trainng loss: 0.679\n",
      "[2,   600] trainng loss: 0.674\n",
      "[2,   700] trainng loss: 0.668\n",
      "[2,   800] trainng loss: 0.663\n",
      "[2,   900] trainng loss: 0.658\n",
      "[2,  1000] trainng loss: 0.652\n",
      "[2,  1100] trainng loss: 0.647\n",
      "[2,  1200] trainng loss: 0.642\n",
      "Accuracy: 100.000\n",
      "[3,   100] trainng loss: 0.634\n",
      "[3,   200] trainng loss: 0.629\n",
      "[3,   300] trainng loss: 0.624\n",
      "[3,   400] trainng loss: 0.619\n",
      "[3,   500] trainng loss: 0.614\n",
      "[3,   600] trainng loss: 0.609\n",
      "[3,   700] trainng loss: 0.604\n",
      "[3,   800] trainng loss: 0.599\n",
      "[3,   900] trainng loss: 0.594\n",
      "[3,  1000] trainng loss: 0.590\n",
      "[3,  1100] trainng loss: 0.585\n",
      "[3,  1200] trainng loss: 0.580\n",
      "Accuracy: 100.000\n",
      "[4,   100] trainng loss: 0.573\n",
      "[4,   200] trainng loss: 0.568\n",
      "[4,   300] trainng loss: 0.563\n",
      "[4,   400] trainng loss: 0.558\n",
      "[4,   500] trainng loss: 0.554\n",
      "[4,   600] trainng loss: 0.549\n",
      "[4,   700] trainng loss: 0.544\n",
      "[4,   800] trainng loss: 0.540\n",
      "[4,   900] trainng loss: 0.535\n",
      "[4,  1000] trainng loss: 0.530\n",
      "[4,  1100] trainng loss: 0.526\n",
      "[4,  1200] trainng loss: 0.521\n",
      "Accuracy: 100.000\n",
      "[5,   100] trainng loss: 0.514\n",
      "[5,   200] trainng loss: 0.509\n",
      "[5,   300] trainng loss: 0.505\n",
      "[5,   400] trainng loss: 0.500\n",
      "[5,   500] trainng loss: 0.495\n",
      "[5,   600] trainng loss: 0.491\n",
      "[5,   700] trainng loss: 0.486\n",
      "[5,   800] trainng loss: 0.482\n",
      "[5,   900] trainng loss: 0.477\n",
      "[5,  1000] trainng loss: 0.472\n",
      "[5,  1100] trainng loss: 0.468\n",
      "[5,  1200] trainng loss: 0.463\n",
      "Accuracy: 100.000\n",
      "[6,   100] trainng loss: 0.456\n",
      "[6,   200] trainng loss: 0.452\n",
      "[6,   300] trainng loss: 0.447\n",
      "[6,   400] trainng loss: 0.443\n",
      "[6,   500] trainng loss: 0.438\n",
      "[6,   600] trainng loss: 0.434\n",
      "[6,   700] trainng loss: 0.429\n",
      "[6,   800] trainng loss: 0.425\n",
      "[6,   900] trainng loss: 0.420\n",
      "[6,  1000] trainng loss: 0.416\n",
      "[6,  1100] trainng loss: 0.411\n",
      "[6,  1200] trainng loss: 0.407\n",
      "Accuracy: 100.000\n",
      "[7,   100] trainng loss: 0.400\n",
      "[7,   200] trainng loss: 0.396\n",
      "[7,   300] trainng loss: 0.391\n",
      "[7,   400] trainng loss: 0.387\n",
      "[7,   500] trainng loss: 0.382\n",
      "[7,   600] trainng loss: 0.378\n",
      "[7,   700] trainng loss: 0.374\n",
      "[7,   800] trainng loss: 0.369\n",
      "[7,   900] trainng loss: 0.365\n",
      "[7,  1000] trainng loss: 0.361\n",
      "[7,  1100] trainng loss: 0.356\n",
      "[7,  1200] trainng loss: 0.352\n",
      "Accuracy: 100.000\n",
      "[8,   100] trainng loss: 0.346\n",
      "[8,   200] trainng loss: 0.341\n",
      "[8,   300] trainng loss: 0.337\n",
      "[8,   400] trainng loss: 0.333\n",
      "[8,   500] trainng loss: 0.329\n",
      "[8,   600] trainng loss: 0.324\n",
      "[8,   700] trainng loss: 0.320\n",
      "[8,   800] trainng loss: 0.316\n",
      "[8,   900] trainng loss: 0.312\n",
      "[8,  1000] trainng loss: 0.308\n",
      "[8,  1100] trainng loss: 0.304\n",
      "[8,  1200] trainng loss: 0.300\n",
      "Accuracy: 100.000\n",
      "[9,   100] trainng loss: 0.294\n",
      "[9,   200] trainng loss: 0.290\n",
      "[9,   300] trainng loss: 0.286\n",
      "[9,   400] trainng loss: 0.282\n",
      "[9,   500] trainng loss: 0.278\n",
      "[9,   600] trainng loss: 0.274\n",
      "[9,   700] trainng loss: 0.270\n",
      "[9,   800] trainng loss: 0.266\n",
      "[9,   900] trainng loss: 0.262\n",
      "[9,  1000] trainng loss: 0.259\n",
      "[9,  1100] trainng loss: 0.255\n",
      "[9,  1200] trainng loss: 0.251\n",
      "Accuracy: 100.000\n",
      "[10,   100] trainng loss: 0.246\n",
      "[10,   200] trainng loss: 0.242\n",
      "[10,   300] trainng loss: 0.239\n",
      "[10,   400] trainng loss: 0.235\n",
      "[10,   500] trainng loss: 0.232\n",
      "[10,   600] trainng loss: 0.228\n",
      "[10,   700] trainng loss: 0.225\n",
      "[10,   800] trainng loss: 0.222\n",
      "[10,   900] trainng loss: 0.218\n",
      "[10,  1000] trainng loss: 0.215\n",
      "[10,  1100] trainng loss: 0.212\n",
      "[10,  1200] trainng loss: 0.209\n",
      "Accuracy: 100.000\n",
      "[11,   100] trainng loss: 0.204\n",
      "[11,   200] trainng loss: 0.202\n",
      "[11,   300] trainng loss: 0.199\n",
      "[11,   400] trainng loss: 0.196\n",
      "[11,   500] trainng loss: 0.193\n",
      "[11,   600] trainng loss: 0.191\n",
      "[11,   700] trainng loss: 0.188\n",
      "[11,   800] trainng loss: 0.185\n",
      "[11,   900] trainng loss: 0.183\n",
      "[11,  1000] trainng loss: 0.181\n",
      "[11,  1100] trainng loss: 0.178\n",
      "[11,  1200] trainng loss: 0.176\n",
      "Accuracy: 100.000\n",
      "[12,   100] trainng loss: 0.173\n",
      "[12,   200] trainng loss: 0.170\n",
      "[12,   300] trainng loss: 0.168\n",
      "[12,   400] trainng loss: 0.166\n",
      "[12,   500] trainng loss: 0.164\n",
      "[12,   600] trainng loss: 0.163\n",
      "[12,   700] trainng loss: 0.161\n",
      "[12,   800] trainng loss: 0.159\n",
      "[12,   900] trainng loss: 0.157\n",
      "[12,  1000] trainng loss: 0.156\n",
      "[12,  1100] trainng loss: 0.154\n",
      "[12,  1200] trainng loss: 0.152\n",
      "Accuracy: 100.000\n",
      "[13,   100] trainng loss: 0.150\n",
      "[13,   200] trainng loss: 0.149\n",
      "[13,   300] trainng loss: 0.147\n",
      "[13,   400] trainng loss: 0.146\n",
      "[13,   500] trainng loss: 0.144\n",
      "[13,   600] trainng loss: 0.143\n",
      "[13,   700] trainng loss: 0.142\n",
      "[13,   800] trainng loss: 0.141\n",
      "[13,   900] trainng loss: 0.139\n",
      "[13,  1000] trainng loss: 0.138\n",
      "[13,  1100] trainng loss: 0.137\n",
      "[13,  1200] trainng loss: 0.136\n",
      "Accuracy: 100.000\n",
      "[14,   100] trainng loss: 0.135\n",
      "[14,   200] trainng loss: 0.134\n",
      "[14,   300] trainng loss: 0.133\n",
      "[14,   400] trainng loss: 0.132\n",
      "[14,   500] trainng loss: 0.131\n",
      "[14,   600] trainng loss: 0.130\n",
      "[14,   700] trainng loss: 0.129\n",
      "[14,   800] trainng loss: 0.129\n",
      "[14,   900] trainng loss: 0.128\n",
      "[14,  1000] trainng loss: 0.127\n",
      "[14,  1100] trainng loss: 0.126\n",
      "[14,  1200] trainng loss: 0.126\n",
      "Accuracy: 100.000\n",
      "[15,   100] trainng loss: 0.125\n",
      "[15,   200] trainng loss: 0.124\n",
      "[15,   300] trainng loss: 0.124\n",
      "[15,   400] trainng loss: 0.124\n",
      "[15,   500] trainng loss: 0.123\n",
      "[15,   600] trainng loss: 0.122\n",
      "[15,   700] trainng loss: 0.122\n",
      "[15,   800] trainng loss: 0.122\n",
      "[15,   900] trainng loss: 0.121\n",
      "[15,  1000] trainng loss: 0.121\n",
      "[15,  1100] trainng loss: 0.121\n",
      "[15,  1200] trainng loss: 0.120\n",
      "Accuracy: 100.000\n",
      "[16,   100] trainng loss: 0.120\n",
      "[16,   200] trainng loss: 0.120\n",
      "[16,   300] trainng loss: 0.120\n",
      "[16,   400] trainng loss: 0.120\n",
      "[16,   500] trainng loss: 0.119\n",
      "[16,   600] trainng loss: 0.119\n",
      "[16,   700] trainng loss: 0.119\n",
      "[16,   800] trainng loss: 0.119\n",
      "[16,   900] trainng loss: 0.119\n",
      "[16,  1000] trainng loss: 0.119\n",
      "[16,  1100] trainng loss: 0.118\n",
      "[16,  1200] trainng loss: 0.118\n",
      "Accuracy: 100.000\n",
      "[17,   100] trainng loss: 0.118\n",
      "[17,   200] trainng loss: 0.118\n",
      "[17,   300] trainng loss: 0.118\n",
      "[17,   400] trainng loss: 0.118\n",
      "[17,   500] trainng loss: 0.118\n",
      "[17,   600] trainng loss: 0.118\n",
      "[17,   700] trainng loss: 0.118\n",
      "[17,   800] trainng loss: 0.118\n",
      "[17,   900] trainng loss: 0.118\n",
      "[17,  1000] trainng loss: 0.118\n",
      "[17,  1100] trainng loss: 0.118\n",
      "[17,  1200] trainng loss: 0.118\n",
      "Accuracy: 100.000\n",
      "[18,   100] trainng loss: 0.117\n",
      "[18,   200] trainng loss: 0.117\n",
      "[18,   300] trainng loss: 0.118\n",
      "[18,   400] trainng loss: 0.117\n",
      "[18,   500] trainng loss: 0.117\n",
      "[18,   600] trainng loss: 0.117\n",
      "[18,   700] trainng loss: 0.117\n",
      "[18,   800] trainng loss: 0.117\n",
      "[18,   900] trainng loss: 0.117\n",
      "[18,  1000] trainng loss: 0.117\n",
      "[18,  1100] trainng loss: 0.117\n",
      "[18,  1200] trainng loss: 0.117\n",
      "Accuracy: 100.000\n",
      "[19,   100] trainng loss: 0.117\n",
      "[19,   200] trainng loss: 0.117\n",
      "[19,   300] trainng loss: 0.117\n",
      "[19,   400] trainng loss: 0.117\n",
      "[19,   500] trainng loss: 0.117\n",
      "[19,   600] trainng loss: 0.117\n",
      "[19,   700] trainng loss: 0.117\n",
      "[19,   800] trainng loss: 0.117\n",
      "[19,   900] trainng loss: 0.117\n",
      "[19,  1000] trainng loss: 0.117\n",
      "[19,  1100] trainng loss: 0.117\n",
      "[19,  1200] trainng loss: 0.117\n",
      "Accuracy: 100.000\n",
      "[20,   100] trainng loss: 0.117\n",
      "[20,   200] trainng loss: 0.117\n",
      "[20,   300] trainng loss: 0.117\n",
      "[20,   400] trainng loss: 0.117\n",
      "[20,   500] trainng loss: 0.117\n",
      "[20,   600] trainng loss: 0.117\n",
      "[20,   700] trainng loss: 0.117\n",
      "[20,   800] trainng loss: 0.117\n",
      "[20,   900] trainng loss: 0.117\n",
      "[20,  1000] trainng loss: 0.117\n",
      "[20,  1100] trainng loss: 0.117\n",
      "[20,  1200] trainng loss: 0.117\n",
      "Accuracy: 100.000\n"
     ]
    }
   ],
   "source": [
    "il = []\n",
    "Vil = []\n",
    "acc = []\n",
    "Vacc = []\n",
    "ep = 20\n",
    "for epoch in range(ep):\n",
    "    running_loss = 0.0\n",
    "    correct = 0\n",
    "    iter_loss = 0    \n",
    "    for i,data in enumerate(trainloader,0):\n",
    "        inputs,labels = data\n",
    "#         inputs = Variable(inputs)\n",
    "#         labels = Variable(labels)\n",
    "        optimizer.zero_grad()\n",
    "        \n",
    "        outputs,ind = net(inputs)\n",
    "        labels=labels.long()\n",
    "        \n",
    "        loss = criterion(outputs, labels)\n",
    "        l2_reg = None                   #regularization\n",
    "        for w in net.parameters():\n",
    "            if l2_reg is None:\n",
    "                l2_reg = w.norm(2)\n",
    "            else:\n",
    "                l2_reg = l2_reg + w.norm(2)\n",
    "        loss += 0.05 * l2_reg\n",
    "        loss.backward()\n",
    "        optimizer.step()\n",
    "        correct += (ind == labels).float().sum()\n",
    "        running_loss += loss.item()\n",
    "        iter_loss += loss.item()\n",
    "        if i % 100 == 99:    # print every 50 mini-batches\n",
    "            print('[%d, %5d] trainng loss: %.3f' %(epoch + 1, i + 1, running_loss/100))\n",
    "            running_loss = 0.0\n",
    "    il.append((iter_loss*32/len(trainset)))   #training it_loss\n",
    "    TrAccuracy = 100 * correct / len(trainset)\n",
    "    print('Accuracy: %.3f' %(TrAccuracy))\n",
    "    acc.append(TrAccuracy)\n",
    "            \n",
    "    \n",
    "    Vit_loss = 0.0\n",
    "    cor = 0\n",
    "    for j,dat in enumerate(testloader,0):\n",
    "        inputs,labels = dat\n",
    "\n",
    "        optimizer.zero_grad()\n",
    "        outputs,ind = net(inputs)\n",
    "        labels=labels.long()\n",
    "\n",
    "        loss = criterion(outputs, labels)\n",
    "\n",
    "        cor += (ind == labels).float().sum()\n",
    "        Vit_loss += loss.item()\n",
    "#         if j % 100 == 99:    # print every 100 mini-batches\n",
    "#             print('[%d, %5d] ' %(epoch + 1, j + 1))\n",
    "#             running_loss = 0.0\n",
    "    Vil.append(Vit_loss*16/len(testset))  #validation it_loss\n",
    "    accuracy = 100 * cor / len(testset)\n",
    "    Vacc.append(accuracy)\n",
    "            \n",
    "            "
   ]
  },
  {
   "cell_type": "code",
   "execution_count": 1,
   "metadata": {},
   "outputs": [
    {
     "ename": "NameError",
     "evalue": "name 'torch' is not defined",
     "output_type": "error",
     "traceback": [
      "\u001b[0;31m---------------------------------------------------------------------------\u001b[0m",
      "\u001b[0;31mNameError\u001b[0m                                 Traceback (most recent call last)",
      "\u001b[0;32m<ipython-input-1-3fb0e80237e9>\u001b[0m in \u001b[0;36m<module>\u001b[0;34m\u001b[0m\n\u001b[0;32m----> 1\u001b[0;31m \u001b[0mprint\u001b[0m\u001b[0;34m(\u001b[0m\u001b[0mtorch\u001b[0m\u001b[0;34m.\u001b[0m\u001b[0mversion\u001b[0m\u001b[0;34m)\u001b[0m\u001b[0;34m\u001b[0m\u001b[0;34m\u001b[0m\u001b[0m\n\u001b[0m",
      "\u001b[0;31mNameError\u001b[0m: name 'torch' is not defined"
     ]
    }
   ],
   "source": [
    "print(torch.version)"
   ]
  },
  {
   "cell_type": "code",
   "execution_count": 16,
   "metadata": {},
   "outputs": [],
   "source": [
    "torch.save(net.state_dict(),'/home/rishabh/TrLeExp/Models/LineData1/1.pth')"
   ]
  },
  {
   "cell_type": "code",
   "execution_count": 19,
   "metadata": {},
   "outputs": [
    {
     "data": {
      "image/png": "[encoded data removed]",
      "text/plain": [
       "<Figure size 432x288 with 1 Axes>"
      ]
     },
     "metadata": {
      "needs_background": "light"
     },
     "output_type": "display_data"
    },
    {
     "data": {
      "image/png": "[encoded data removed]",
      "text/plain": [
       "<Figure size 432x288 with 1 Axes>"
      ]
     },
     "metadata": {
      "needs_background": "light"
     },
     "output_type": "display_data"
    }
   ],
   "source": [
    "x = np.linspace(1,20,20)\n",
    "plt.plot(x,il,label = 'Training Loss')\n",
    "plt.xlabel('Epochs')\n",
    "plt.ylabel('TrainingLoss')\n",
    "plt.legend()\n",
    "plt.savefig('/home/rishabh/TrLeExp/Simple2/TrainingLoss2.png')\n",
    "plt.show()\n",
    "\n",
    "\n",
    "plt.plot(x,acc,label = 'Accuracy')\n",
    "plt.xlabel('Epochs')\n",
    "plt.ylabel('Accuracy')\n",
    "plt.legend()\n",
    "plt.savefig('/home/rishabh/TrLeExp/Simple2/TRaccuracy2.png')\n",
    "plt.show()"
   ]
  },
  {
   "cell_type": "code",
   "execution_count": 18,
   "metadata": {},
   "outputs": [
    {
     "data": {
      "image/png": "[encoded data removed]",
      "text/plain": [
       "<Figure size 432x288 with 1 Axes>"
      ]
     },
     "metadata": {
      "needs_background": "light"
     },
     "output_type": "display_data"
    },
    {
     "data": {
      "image/png": "[encoded data removed]",
      "text/plain": [
       "<Figure size 432x288 with 1 Axes>"
      ]
     },
     "metadata": {
      "needs_background": "light"
     },
     "output_type": "display_data"
    }
   ],
   "source": [
    "y = np.linspace(1,20,20)\n",
    "plt.plot(y,Vil,label = 'Validation Loss')\n",
    "plt.xlabel('Epochs')\n",
    "plt.ylabel('ValidationLoss')\n",
    "plt.legend()\n",
    "plt.savefig('/home/rishabh/TrLeExp/Simple2/Val/ValidationLoss2.png')\n",
    "plt.show()\n",
    "\n",
    "\n",
    "plt.plot(y,Vacc,label = 'Validation Accuracy')\n",
    "plt.xlabel('Epochs')\n",
    "plt.ylabel('Accuracy')\n",
    "plt.legend()\n",
    "plt.savefig('/home/rishabh/TrLeExp/Simple2/Val/valaccuracy2.png')\n",
    "plt.show()"
   ]
  }
 ],
 "metadata": {
  "kernelspec": {
   "display_name": "Python 3",
   "language": "python",
   "name": "python3"
  },
  "language_info": {
   "codemirror_mode": {
    "name": "ipython",
    "version": 3
   },
   "file_extension": ".py",
   "mimetype": "text/x-python",
   "name": "python",
   "nbconvert_exporter": "python",
   "pygments_lexer": "ipython3",
   "version": "3.8.5"
  }
 },
 "nbformat": 4,
 "nbformat_minor": 2
}
