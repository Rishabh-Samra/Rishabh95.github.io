{
 "cells": [
  {
   "cell_type": "markdown",
   "metadata": {},
   "source": [
    "# Data Science Case Study         \n",
    "\n",
    "## Rishabh Samra, Final Year MS Scholar, IIT-Madras"
   ]
  },
  {
   "cell_type": "code",
   "execution_count": 1,
   "metadata": {},
   "outputs": [],
   "source": [
    "import matplotlib.pyplot as plt\n",
    "import seaborn as sns\n",
    "import time\n",
    "from sklearn.preprocessing import StandardScaler\n",
    "import pandas as pd\n",
    "import numpy as np\n",
    "from sklearn.model_selection import train_test_split\n",
    "from sklearn.metrics import classification_report,confusion_matrix\n",
    "from sklearn.ensemble import RandomForestClassifier\n",
    "from sklearn.tree import DecisionTreeClassifier\n",
    "from sklearn.metrics import confusion_matrix"
   ]
  },
  {
   "cell_type": "code",
   "execution_count": 2,
   "metadata": {},
   "outputs": [],
   "source": [
    "Baselines = pd.read_csv('/home/rishabh/Downloads/JaiKisan/Data/baselines.csv')\n",
    "LabVital = pd.read_csv('/home/rishabh/Downloads/JaiKisan/Data/lab and vitals.csv')"
   ]
  },
  {
   "cell_type": "code",
   "execution_count": 3,
   "metadata": {},
   "outputs": [
    {
     "data": {
      "text/plain": [
       "mrn                             0\n",
       "Age                             0\n",
       "sex.factor                      0\n",
       "bmi                             0\n",
       "hypoxia_ed.factor               0\n",
       "smoke_vape                      0\n",
       "dm.factor                       0\n",
       "htn.factor                      0\n",
       "pulm___1.factor                 0\n",
       "renal___1.factor                0\n",
       "renal___2.factor                0\n",
       "cad.factor                      0\n",
       "cancer                          0\n",
       "any_immunosuppression           0\n",
       "symptoms___1.factor             0\n",
       "symptoms___2.factor             0\n",
       "symptoms___10.factor            0\n",
       "symptoms___9.factor             0\n",
       "symptoms___8.factor             0\n",
       "symptoms___3.factor             0\n",
       "first_cxr_results___0.factor    0\n",
       "first_cxr_results___1.factor    0\n",
       "first_cxr_results___2.factor    0\n",
       "first_cxr_results___3.factor    0\n",
       "duration_symptoms               0\n",
       "Ed_before_order_set             0\n",
       "event                           0\n",
       "dtype: int64"
      ]
     },
     "execution_count": 3,
     "metadata": {},
     "output_type": "execute_result"
    }
   ],
   "source": [
    "Baselines.isnull().sum()    #No Empty Values"
   ]
  },
  {
   "cell_type": "code",
   "execution_count": 4,
   "metadata": {},
   "outputs": [
    {
     "data": {
      "text/html": [
       "<div>\n",
       "<style scoped>\n",
       "    .dataframe tbody tr th:only-of-type {\n",
       "        vertical-align: middle;\n",
       "    }\n",
       "\n",
       "    .dataframe tbody tr th {\n",
       "        vertical-align: top;\n",
       "    }\n",
       "\n",
       "    .dataframe thead th {\n",
       "        text-align: right;\n",
       "    }\n",
       "</style>\n",
       "<table border=\"1\" class=\"dataframe\">\n",
       "  <thead>\n",
       "    <tr style=\"text-align: right;\">\n",
       "      <th></th>\n",
       "      <th>mrn</th>\n",
       "      <th>Age</th>\n",
       "      <th>bmi</th>\n",
       "      <th>duration_symptoms</th>\n",
       "    </tr>\n",
       "  </thead>\n",
       "  <tbody>\n",
       "    <tr>\n",
       "      <th>count</th>\n",
       "      <td>1.345000e+03</td>\n",
       "      <td>1345.000000</td>\n",
       "      <td>1345.000000</td>\n",
       "      <td>1345.000000</td>\n",
       "    </tr>\n",
       "    <tr>\n",
       "      <th>mean</th>\n",
       "      <td>5.518217e+07</td>\n",
       "      <td>65.424301</td>\n",
       "      <td>27.844956</td>\n",
       "      <td>8.896654</td>\n",
       "    </tr>\n",
       "    <tr>\n",
       "      <th>std</th>\n",
       "      <td>3.899901e+07</td>\n",
       "      <td>17.321518</td>\n",
       "      <td>6.513850</td>\n",
       "      <td>5.154361</td>\n",
       "    </tr>\n",
       "    <tr>\n",
       "      <th>min</th>\n",
       "      <td>6.555280e+05</td>\n",
       "      <td>-2.079025</td>\n",
       "      <td>9.861328</td>\n",
       "      <td>1.000000</td>\n",
       "    </tr>\n",
       "    <tr>\n",
       "      <th>25%</th>\n",
       "      <td>6.467320e+06</td>\n",
       "      <td>54.142753</td>\n",
       "      <td>23.596934</td>\n",
       "      <td>5.000000</td>\n",
       "    </tr>\n",
       "    <tr>\n",
       "      <th>50%</th>\n",
       "      <td>7.670870e+07</td>\n",
       "      <td>66.963905</td>\n",
       "      <td>27.237496</td>\n",
       "      <td>9.000000</td>\n",
       "    </tr>\n",
       "    <tr>\n",
       "      <th>75%</th>\n",
       "      <td>9.007959e+07</td>\n",
       "      <td>77.862961</td>\n",
       "      <td>30.961962</td>\n",
       "      <td>11.000000</td>\n",
       "    </tr>\n",
       "    <tr>\n",
       "      <th>max</th>\n",
       "      <td>9.028996e+07</td>\n",
       "      <td>113.674338</td>\n",
       "      <td>58.904689</td>\n",
       "      <td>35.000000</td>\n",
       "    </tr>\n",
       "  </tbody>\n",
       "</table>\n",
       "</div>"
      ],
      "text/plain": [
       "                mrn          Age          bmi  duration_symptoms\n",
       "count  1.345000e+03  1345.000000  1345.000000        1345.000000\n",
       "mean   5.518217e+07    65.424301    27.844956           8.896654\n",
       "std    3.899901e+07    17.321518     6.513850           5.154361\n",
       "min    6.555280e+05    -2.079025     9.861328           1.000000\n",
       "25%    6.467320e+06    54.142753    23.596934           5.000000\n",
       "50%    7.670870e+07    66.963905    27.237496           9.000000\n",
       "75%    9.007959e+07    77.862961    30.961962          11.000000\n",
       "max    9.028996e+07   113.674338    58.904689          35.000000"
      ]
     },
     "execution_count": 4,
     "metadata": {},
     "output_type": "execute_result"
    }
   ],
   "source": [
    "Baselines.describe()"
   ]
  },
  {
   "cell_type": "code",
   "execution_count": 5,
   "metadata": {},
   "outputs": [
    {
     "data": {
      "image/png": "[encoded data removed]",
      "text/plain": [
       "<Figure size 432x288 with 1 Axes>"
      ]
     },
     "metadata": {
      "needs_background": "light"
     },
     "output_type": "display_data"
    }
   ],
   "source": [
    "plt.hist(Baselines[\"Age\"])\n",
    "plt.xlabel('Age')\n",
    "plt.ylabel('Counts')\n",
    "plt.title('Age Distribution')\n",
    "plt.show()"
   ]
  },
  {
   "cell_type": "code",
   "execution_count": 6,
   "metadata": {},
   "outputs": [
    {
     "data": {
      "text/html": [
       "<div>\n",
       "<style scoped>\n",
       "    .dataframe tbody tr th:only-of-type {\n",
       "        vertical-align: middle;\n",
       "    }\n",
       "\n",
       "    .dataframe tbody tr th {\n",
       "        vertical-align: top;\n",
       "    }\n",
       "\n",
       "    .dataframe thead th {\n",
       "        text-align: right;\n",
       "    }\n",
       "</style>\n",
       "<table border=\"1\" class=\"dataframe\">\n",
       "  <thead>\n",
       "    <tr style=\"text-align: right;\">\n",
       "      <th></th>\n",
       "      <th>mrn</th>\n",
       "      <th>Age</th>\n",
       "      <th>bmi</th>\n",
       "      <th>duration_symptoms</th>\n",
       "    </tr>\n",
       "  </thead>\n",
       "  <tbody>\n",
       "    <tr>\n",
       "      <th>count</th>\n",
       "      <td>1.345000e+03</td>\n",
       "      <td>1345.000000</td>\n",
       "      <td>1345.000000</td>\n",
       "      <td>1345.000000</td>\n",
       "    </tr>\n",
       "    <tr>\n",
       "      <th>mean</th>\n",
       "      <td>5.518217e+07</td>\n",
       "      <td>65.474174</td>\n",
       "      <td>27.844956</td>\n",
       "      <td>8.896654</td>\n",
       "    </tr>\n",
       "    <tr>\n",
       "      <th>std</th>\n",
       "      <td>3.899901e+07</td>\n",
       "      <td>17.223304</td>\n",
       "      <td>6.513850</td>\n",
       "      <td>5.154361</td>\n",
       "    </tr>\n",
       "    <tr>\n",
       "      <th>min</th>\n",
       "      <td>6.555280e+05</td>\n",
       "      <td>5.408467</td>\n",
       "      <td>9.861328</td>\n",
       "      <td>1.000000</td>\n",
       "    </tr>\n",
       "    <tr>\n",
       "      <th>25%</th>\n",
       "      <td>6.467320e+06</td>\n",
       "      <td>54.153658</td>\n",
       "      <td>23.596934</td>\n",
       "      <td>5.000000</td>\n",
       "    </tr>\n",
       "    <tr>\n",
       "      <th>50%</th>\n",
       "      <td>7.670870e+07</td>\n",
       "      <td>66.963905</td>\n",
       "      <td>27.237496</td>\n",
       "      <td>9.000000</td>\n",
       "    </tr>\n",
       "    <tr>\n",
       "      <th>75%</th>\n",
       "      <td>9.007959e+07</td>\n",
       "      <td>77.862961</td>\n",
       "      <td>30.961962</td>\n",
       "      <td>11.000000</td>\n",
       "    </tr>\n",
       "    <tr>\n",
       "      <th>max</th>\n",
       "      <td>9.028996e+07</td>\n",
       "      <td>113.674338</td>\n",
       "      <td>58.904689</td>\n",
       "      <td>35.000000</td>\n",
       "    </tr>\n",
       "  </tbody>\n",
       "</table>\n",
       "</div>"
      ],
      "text/plain": [
       "                mrn          Age          bmi  duration_symptoms\n",
       "count  1.345000e+03  1345.000000  1345.000000        1345.000000\n",
       "mean   5.518217e+07    65.474174    27.844956           8.896654\n",
       "std    3.899901e+07    17.223304     6.513850           5.154361\n",
       "min    6.555280e+05     5.408467     9.861328           1.000000\n",
       "25%    6.467320e+06    54.153658    23.596934           5.000000\n",
       "50%    7.670870e+07    66.963905    27.237496           9.000000\n",
       "75%    9.007959e+07    77.862961    30.961962          11.000000\n",
       "max    9.028996e+07   113.674338    58.904689          35.000000"
      ]
     },
     "execution_count": 6,
     "metadata": {},
     "output_type": "execute_result"
    }
   ],
   "source": [
    "#Minimum value of age clipped to 0\n",
    "Baselines.loc[(Baselines['Age'] < 0), 'Age']=65\n",
    "#df.loc[(df.Event == 'Dance'),\"Event']='Hip-Hop'\n",
    "Baselines.describe()"
   ]
  },
  {
   "cell_type": "code",
   "execution_count": 7,
   "metadata": {},
   "outputs": [
    {
     "data": {
      "image/png": "[encoded data removed]",
      "text/plain": [
       "<Figure size 432x288 with 1 Axes>"
      ]
     },
     "metadata": {
      "needs_background": "light"
     },
     "output_type": "display_data"
    }
   ],
   "source": [
    "plt.hist(Baselines[\"Age\"])\n",
    "plt.xlabel('Age')\n",
    "plt.ylabel('Counts')\n",
    "plt.title('Age Distribution')\n",
    "plt.show()"
   ]
  },
  {
   "cell_type": "code",
   "execution_count": 8,
   "metadata": {},
   "outputs": [
    {
     "data": {
      "text/html": [
       "<div>\n",
       "<style scoped>\n",
       "    .dataframe tbody tr th:only-of-type {\n",
       "        vertical-align: middle;\n",
       "    }\n",
       "\n",
       "    .dataframe tbody tr th {\n",
       "        vertical-align: top;\n",
       "    }\n",
       "\n",
       "    .dataframe thead th {\n",
       "        text-align: right;\n",
       "    }\n",
       "</style>\n",
       "<table border=\"1\" class=\"dataframe\">\n",
       "  <thead>\n",
       "    <tr style=\"text-align: right;\">\n",
       "      <th></th>\n",
       "      <th>sex.factor</th>\n",
       "      <th>event</th>\n",
       "      <th>count</th>\n",
       "    </tr>\n",
       "  </thead>\n",
       "  <tbody>\n",
       "    <tr>\n",
       "      <th>0</th>\n",
       "      <td>Female</td>\n",
       "      <td>No</td>\n",
       "      <td>296</td>\n",
       "    </tr>\n",
       "    <tr>\n",
       "      <th>1</th>\n",
       "      <td>Female</td>\n",
       "      <td>Yes</td>\n",
       "      <td>261</td>\n",
       "    </tr>\n",
       "    <tr>\n",
       "      <th>2</th>\n",
       "      <td>Male</td>\n",
       "      <td>No</td>\n",
       "      <td>404</td>\n",
       "    </tr>\n",
       "    <tr>\n",
       "      <th>3</th>\n",
       "      <td>Male</td>\n",
       "      <td>Yes</td>\n",
       "      <td>384</td>\n",
       "    </tr>\n",
       "  </tbody>\n",
       "</table>\n",
       "</div>"
      ],
      "text/plain": [
       "  sex.factor event  count\n",
       "0     Female    No    296\n",
       "1     Female   Yes    261\n",
       "2       Male    No    404\n",
       "3       Male   Yes    384"
      ]
     },
     "execution_count": 8,
     "metadata": {},
     "output_type": "execute_result"
    }
   ],
   "source": [
    "Baselines.groupby(['sex.factor','event']).size().reset_index(name='count')\n",
    "#% of Males requiring Ventilators : 48.8%\n",
    "#% of Females requiring Ventilators : 46.8%"
   ]
  },
  {
   "cell_type": "code",
   "execution_count": 9,
   "metadata": {},
   "outputs": [
    {
     "name": "stderr",
     "output_type": "stream",
     "text": [
      "No handles with labels found to put in legend.\n"
     ]
    },
    {
     "data": {
      "image/png": "[encoded data removed]",
      "text/plain": [
       "<Figure size 432x288 with 1 Axes>"
      ]
     },
     "metadata": {
      "needs_background": "light"
     },
     "output_type": "display_data"
    },
    {
     "name": "stderr",
     "output_type": "stream",
     "text": [
      "No handles with labels found to put in legend.\n"
     ]
    },
    {
     "data": {
      "image/png": "[encoded data removed]",
      "text/plain": [
       "<Figure size 432x288 with 1 Axes>"
      ]
     },
     "metadata": {
      "needs_background": "light"
     },
     "output_type": "display_data"
    }
   ],
   "source": [
    "plt.hist(Baselines.loc[Baselines['sex.factor'] == 'Male', \"bmi\"])\n",
    "plt.title('Male BMI Distribution')\n",
    "plt.legend()\n",
    "plt.show()\n",
    "plt.hist(Baselines.loc[Baselines['sex.factor'] == 'Female', \"bmi\"])\n",
    "plt.title('Female BMI Distribution')\n",
    "plt.legend()\n",
    "plt.show()"
   ]
  },
  {
   "cell_type": "code",
   "execution_count": 10,
   "metadata": {},
   "outputs": [
    {
     "data": {
      "text/html": [
       "<div>\n",
       "<style scoped>\n",
       "    .dataframe tbody tr th:only-of-type {\n",
       "        vertical-align: middle;\n",
       "    }\n",
       "\n",
       "    .dataframe tbody tr th {\n",
       "        vertical-align: top;\n",
       "    }\n",
       "\n",
       "    .dataframe thead th {\n",
       "        text-align: right;\n",
       "    }\n",
       "</style>\n",
       "<table border=\"1\" class=\"dataframe\">\n",
       "  <thead>\n",
       "    <tr style=\"text-align: right;\">\n",
       "      <th></th>\n",
       "      <th>cancer</th>\n",
       "      <th>event</th>\n",
       "      <th>count</th>\n",
       "    </tr>\n",
       "  </thead>\n",
       "  <tbody>\n",
       "    <tr>\n",
       "      <th>0</th>\n",
       "      <td>No</td>\n",
       "      <td>No</td>\n",
       "      <td>631</td>\n",
       "    </tr>\n",
       "    <tr>\n",
       "      <th>1</th>\n",
       "      <td>No</td>\n",
       "      <td>Yes</td>\n",
       "      <td>612</td>\n",
       "    </tr>\n",
       "    <tr>\n",
       "      <th>2</th>\n",
       "      <td>Yes</td>\n",
       "      <td>No</td>\n",
       "      <td>69</td>\n",
       "    </tr>\n",
       "    <tr>\n",
       "      <th>3</th>\n",
       "      <td>Yes</td>\n",
       "      <td>Yes</td>\n",
       "      <td>33</td>\n",
       "    </tr>\n",
       "  </tbody>\n",
       "</table>\n",
       "</div>"
      ],
      "text/plain": [
       "  cancer event  count\n",
       "0     No    No    631\n",
       "1     No   Yes    612\n",
       "2    Yes    No     69\n",
       "3    Yes   Yes     33"
      ]
     },
     "execution_count": 10,
     "metadata": {},
     "output_type": "execute_result"
    }
   ],
   "source": [
    "Baselines.groupby(['cancer','event']).size().reset_index(name='count')\n",
    "# % of cancer people to whom ventilator is assigned: 32.35\n",
    "# % of non-cancer patients to whom ventilator is assigned: 49.27"
   ]
  },
  {
   "cell_type": "code",
   "execution_count": 11,
   "metadata": {},
   "outputs": [],
   "source": [
    "#Replacing Event values of Yes/No with 0/1\n",
    "d = {'No': 0, 'Yes': 1}\n",
    "Baselines['event'] = Baselines['event'].map(d).fillna(Baselines['event'])"
   ]
  },
  {
   "cell_type": "code",
   "execution_count": 12,
   "metadata": {},
   "outputs": [
    {
     "data": {
      "text/plain": [
       "<matplotlib.axes._subplots.AxesSubplot at 0x7f5a6603cd90>"
      ]
     },
     "execution_count": 12,
     "metadata": {},
     "output_type": "execute_result"
    },
    {
     "data": {
      "image/png": "[encoded data removed]",
      "text/plain": [
       "<Figure size 432x288 with 1 Axes>"
      ]
     },
     "metadata": {
      "needs_background": "light"
     },
     "output_type": "display_data"
    }
   ],
   "source": [
    "#We can infer that there is more chance of assigning ventilators to patients not having cancer\n",
    "#Also males are having high chance of using ventilators as compared to females.\n",
    "sns.barplot(x=\"sex.factor\", y=\"event\", hue=\"cancer\", data=Baselines)"
   ]
  },
  {
   "cell_type": "code",
   "execution_count": 13,
   "metadata": {},
   "outputs": [
    {
     "data": {
      "text/html": [
       "<div>\n",
       "<style scoped>\n",
       "    .dataframe tbody tr th:only-of-type {\n",
       "        vertical-align: middle;\n",
       "    }\n",
       "\n",
       "    .dataframe tbody tr th {\n",
       "        vertical-align: top;\n",
       "    }\n",
       "\n",
       "    .dataframe thead th {\n",
       "        text-align: right;\n",
       "    }\n",
       "</style>\n",
       "<table border=\"1\" class=\"dataframe\">\n",
       "  <thead>\n",
       "    <tr style=\"text-align: right;\">\n",
       "      <th></th>\n",
       "      <th>any_immunosuppression</th>\n",
       "      <th>event</th>\n",
       "      <th>count</th>\n",
       "    </tr>\n",
       "  </thead>\n",
       "  <tbody>\n",
       "    <tr>\n",
       "      <th>0</th>\n",
       "      <td>Yes</td>\n",
       "      <td>0</td>\n",
       "      <td>16</td>\n",
       "    </tr>\n",
       "    <tr>\n",
       "      <th>1</th>\n",
       "      <td>Yes</td>\n",
       "      <td>1</td>\n",
       "      <td>24</td>\n",
       "    </tr>\n",
       "    <tr>\n",
       "      <th>2</th>\n",
       "      <td>unknown/No</td>\n",
       "      <td>0</td>\n",
       "      <td>684</td>\n",
       "    </tr>\n",
       "    <tr>\n",
       "      <th>3</th>\n",
       "      <td>unknown/No</td>\n",
       "      <td>1</td>\n",
       "      <td>621</td>\n",
       "    </tr>\n",
       "  </tbody>\n",
       "</table>\n",
       "</div>"
      ],
      "text/plain": [
       "  any_immunosuppression  event  count\n",
       "0                   Yes      0     16\n",
       "1                   Yes      1     24\n",
       "2            unknown/No      0    684\n",
       "3            unknown/No      1    621"
      ]
     },
     "execution_count": 13,
     "metadata": {},
     "output_type": "execute_result"
    }
   ],
   "source": [
    "Baselines.groupby(['any_immunosuppression','event']).size().reset_index(name='count')\n",
    "#% of immunosuppressed people to whom ventilator is supplied: 60\n",
    "#% of non-immunosuppressed people to whom ventilator is supplied: 47.6s"
   ]
  },
  {
   "cell_type": "code",
   "execution_count": 14,
   "metadata": {},
   "outputs": [
    {
     "data": {
      "text/plain": [
       "<matplotlib.axes._subplots.AxesSubplot at 0x7f5a65fb06d0>"
      ]
     },
     "execution_count": 14,
     "metadata": {},
     "output_type": "execute_result"
    },
    {
     "data": {
      "image/png": "[encoded data removed]",
      "text/plain": [
       "<Figure size 432x288 with 1 Axes>"
      ]
     },
     "metadata": {
      "needs_background": "light"
     },
     "output_type": "display_data"
    }
   ],
   "source": [
    "sns.barplot(x=\"sex.factor\", y=\"event\", hue=\"any_immunosuppression\", data=Baselines)"
   ]
  },
  {
   "cell_type": "code",
   "execution_count": 15,
   "metadata": {},
   "outputs": [
    {
     "data": {
      "text/plain": [
       "<matplotlib.axes._subplots.AxesSubplot at 0x7f5a65f3ac10>"
      ]
     },
     "execution_count": 15,
     "metadata": {},
     "output_type": "execute_result"
    },
    {
     "data": {
      "image/png": "[encoded data removed]",
      "text/plain": [
       "<Figure size 432x288 with 1 Axes>"
      ]
     },
     "metadata": {
      "needs_background": "light"
     },
     "output_type": "display_data"
    }
   ],
   "source": [
    "sns.barplot(x=\"sex.factor\", y=\"event\", hue=\"cad.factor\", data=Baselines)"
   ]
  },
  {
   "cell_type": "code",
   "execution_count": 16,
   "metadata": {},
   "outputs": [
    {
     "data": {
      "text/plain": [
       "<matplotlib.axes._subplots.AxesSubplot at 0x7f5a66094990>"
      ]
     },
     "execution_count": 16,
     "metadata": {},
     "output_type": "execute_result"
    },
    {
     "data": {
      "image/png": "[encoded data removed]",
      "text/plain": [
       "<Figure size 432x288 with 1 Axes>"
      ]
     },
     "metadata": {
      "needs_background": "light"
     },
     "output_type": "display_data"
    }
   ],
   "source": [
    "sns.barplot(x=\"sex.factor\", y=\"event\", hue=\"pulm___1.factor\", data=Baselines)"
   ]
  },
  {
   "cell_type": "code",
   "execution_count": 17,
   "metadata": {},
   "outputs": [
    {
     "data": {
      "text/plain": [
       "<matplotlib.axes._subplots.AxesSubplot at 0x7f5a66292050>"
      ]
     },
     "execution_count": 17,
     "metadata": {},
     "output_type": "execute_result"
    },
    {
     "data": {
      "image/png": "[encoded data removed]",
      "text/plain": [
       "<Figure size 432x288 with 1 Axes>"
      ]
     },
     "metadata": {
      "needs_background": "light"
     },
     "output_type": "display_data"
    }
   ],
   "source": [
    "sns.barplot(x=\"sex.factor\", y=\"event\", hue=\"renal___1.factor\", data=Baselines)"
   ]
  },
  {
   "cell_type": "code",
   "execution_count": 18,
   "metadata": {},
   "outputs": [
    {
     "data": {
      "text/plain": [
       "<matplotlib.axes._subplots.AxesSubplot at 0x7f5a66aa8ed0>"
      ]
     },
     "execution_count": 18,
     "metadata": {},
     "output_type": "execute_result"
    },
    {
     "data": {
      "image/png": "[encoded data removed]",
      "text/plain": [
       "<Figure size 432x288 with 1 Axes>"
      ]
     },
     "metadata": {
      "needs_background": "light"
     },
     "output_type": "display_data"
    }
   ],
   "source": [
    "sns.barplot(x=\"sex.factor\", y=\"event\", hue=\"renal___2.factor\", data=Baselines)"
   ]
  },
  {
   "cell_type": "code",
   "execution_count": null,
   "metadata": {},
   "outputs": [],
   "source": [
    "sns.barplot(x=\"sex.factor\", y=\"event\", hue=\"symptoms___1.factor\", data=Baselines)"
   ]
  },
  {
   "cell_type": "code",
   "execution_count": 19,
   "metadata": {},
   "outputs": [
    {
     "data": {
      "text/plain": [
       "<matplotlib.axes._subplots.AxesSubplot at 0x7f5a660da990>"
      ]
     },
     "execution_count": 19,
     "metadata": {},
     "output_type": "execute_result"
    },
    {
     "data": {
      "image/png": "[encoded data removed]",
      "text/plain": [
       "<Figure size 432x288 with 1 Axes>"
      ]
     },
     "metadata": {
      "needs_background": "light"
     },
     "output_type": "display_data"
    }
   ],
   "source": [
    "sns.barplot(x=\"sex.factor\", y=\"event\", hue=\"symptoms___2.factor\", data=Baselines)"
   ]
  },
  {
   "cell_type": "code",
   "execution_count": 20,
   "metadata": {},
   "outputs": [
    {
     "data": {
      "text/plain": [
       "<matplotlib.axes._subplots.AxesSubplot at 0x7f5a65f09910>"
      ]
     },
     "execution_count": 20,
     "metadata": {},
     "output_type": "execute_result"
    },
    {
     "data": {
      "image/png": "[encoded data removed]",
      "text/plain": [
       "<Figure size 432x288 with 1 Axes>"
      ]
     },
     "metadata": {
      "needs_background": "light"
     },
     "output_type": "display_data"
    }
   ],
   "source": [
    "sns.barplot(x=\"sex.factor\", y=\"event\", hue=\"symptoms___3.factor\", data=Baselines)"
   ]
  },
  {
   "cell_type": "code",
   "execution_count": 23,
   "metadata": {},
   "outputs": [
    {
     "data": {
      "text/plain": [
       "<matplotlib.axes._subplots.AxesSubplot at 0x7f5a657449d0>"
      ]
     },
     "execution_count": 23,
     "metadata": {},
     "output_type": "execute_result"
    },
    {
     "data": {
      "image/png": "[encoded data removed]",
      "text/plain": [
       "<Figure size 432x288 with 1 Axes>"
      ]
     },
     "metadata": {
      "needs_background": "light"
     },
     "output_type": "display_data"
    }
   ],
   "source": [
    "sns.barplot(x=\"sex.factor\", y=\"event\", hue=\"symptoms___10.factor\", data=Baselines)"
   ]
  },
  {
   "cell_type": "code",
   "execution_count": null,
   "metadata": {},
   "outputs": [],
   "source": [
    "sns.barplot(x=\"sex.factor\", y=\"event\", hue=\"first_cxr_results___0.factor\", data=Baselines)"
   ]
  },
  {
   "cell_type": "code",
   "execution_count": null,
   "metadata": {},
   "outputs": [],
   "source": [
    "sns.barplot(x=\"sex.factor\", y=\"event\", hue=\"first_cxr_results___1.factor\", data=Baselines)"
   ]
  },
  {
   "cell_type": "code",
   "execution_count": 21,
   "metadata": {},
   "outputs": [
    {
     "data": {
      "text/plain": [
       "<matplotlib.axes._subplots.AxesSubplot at 0x7f5a65ef9610>"
      ]
     },
     "execution_count": 21,
     "metadata": {},
     "output_type": "execute_result"
    },
    {
     "data": {
      "image/png": "[encoded data removed]",
      "text/plain": [
       "<Figure size 432x288 with 1 Axes>"
      ]
     },
     "metadata": {
      "needs_background": "light"
     },
     "output_type": "display_data"
    }
   ],
   "source": [
    "sns.barplot(x=\"sex.factor\", y=\"event\", hue=\"first_cxr_results___2.factor\", data=Baselines)"
   ]
  },
  {
   "cell_type": "code",
   "execution_count": 22,
   "metadata": {},
   "outputs": [
    {
     "data": {
      "text/plain": [
       "<matplotlib.axes._subplots.AxesSubplot at 0x7f5a657d33d0>"
      ]
     },
     "execution_count": 22,
     "metadata": {},
     "output_type": "execute_result"
    },
    {
     "data": {
      "image/png": "[encoded data removed]",
      "text/plain": [
       "<Figure size 432x288 with 1 Axes>"
      ]
     },
     "metadata": {
      "needs_background": "light"
     },
     "output_type": "display_data"
    }
   ],
   "source": [
    "sns.barplot(x=\"sex.factor\", y=\"event\", hue=\"first_cxr_results___3.factor\", data=Baselines)"
   ]
  },
  {
   "cell_type": "code",
   "execution_count": 24,
   "metadata": {},
   "outputs": [
    {
     "data": {
      "text/html": [
       "<div>\n",
       "<style scoped>\n",
       "    .dataframe tbody tr th:only-of-type {\n",
       "        vertical-align: middle;\n",
       "    }\n",
       "\n",
       "    .dataframe tbody tr th {\n",
       "        vertical-align: top;\n",
       "    }\n",
       "\n",
       "    .dataframe thead th {\n",
       "        text-align: right;\n",
       "    }\n",
       "</style>\n",
       "<table border=\"1\" class=\"dataframe\">\n",
       "  <thead>\n",
       "    <tr style=\"text-align: right;\">\n",
       "      <th></th>\n",
       "      <th>symptoms___1.factor</th>\n",
       "      <th>symptoms___2.factor</th>\n",
       "      <th>event</th>\n",
       "      <th>count</th>\n",
       "    </tr>\n",
       "  </thead>\n",
       "  <tbody>\n",
       "    <tr>\n",
       "      <th>0</th>\n",
       "      <td>Checked</td>\n",
       "      <td>Checked</td>\n",
       "      <td>0</td>\n",
       "      <td>295</td>\n",
       "    </tr>\n",
       "    <tr>\n",
       "      <th>1</th>\n",
       "      <td>Checked</td>\n",
       "      <td>Checked</td>\n",
       "      <td>1</td>\n",
       "      <td>292</td>\n",
       "    </tr>\n",
       "    <tr>\n",
       "      <th>2</th>\n",
       "      <td>Checked</td>\n",
       "      <td>Unchecked</td>\n",
       "      <td>0</td>\n",
       "      <td>138</td>\n",
       "    </tr>\n",
       "    <tr>\n",
       "      <th>3</th>\n",
       "      <td>Checked</td>\n",
       "      <td>Unchecked</td>\n",
       "      <td>1</td>\n",
       "      <td>139</td>\n",
       "    </tr>\n",
       "    <tr>\n",
       "      <th>4</th>\n",
       "      <td>Unchecked</td>\n",
       "      <td>Checked</td>\n",
       "      <td>0</td>\n",
       "      <td>188</td>\n",
       "    </tr>\n",
       "    <tr>\n",
       "      <th>5</th>\n",
       "      <td>Unchecked</td>\n",
       "      <td>Checked</td>\n",
       "      <td>1</td>\n",
       "      <td>157</td>\n",
       "    </tr>\n",
       "    <tr>\n",
       "      <th>6</th>\n",
       "      <td>Unchecked</td>\n",
       "      <td>Unchecked</td>\n",
       "      <td>0</td>\n",
       "      <td>79</td>\n",
       "    </tr>\n",
       "    <tr>\n",
       "      <th>7</th>\n",
       "      <td>Unchecked</td>\n",
       "      <td>Unchecked</td>\n",
       "      <td>1</td>\n",
       "      <td>57</td>\n",
       "    </tr>\n",
       "  </tbody>\n",
       "</table>\n",
       "</div>"
      ],
      "text/plain": [
       "  symptoms___1.factor symptoms___2.factor  event  count\n",
       "0             Checked             Checked      0    295\n",
       "1             Checked             Checked      1    292\n",
       "2             Checked           Unchecked      0    138\n",
       "3             Checked           Unchecked      1    139\n",
       "4           Unchecked             Checked      0    188\n",
       "5           Unchecked             Checked      1    157\n",
       "6           Unchecked           Unchecked      0     79\n",
       "7           Unchecked           Unchecked      1     57"
      ]
     },
     "execution_count": 24,
     "metadata": {},
     "output_type": "execute_result"
    }
   ],
   "source": [
    "Baselines.groupby(['symptoms___1.factor','symptoms___2.factor','event']).size().reset_index(name='count')"
   ]
  },
  {
   "cell_type": "code",
   "execution_count": 25,
   "metadata": {},
   "outputs": [
    {
     "data": {
      "text/html": [
       "<div>\n",
       "<style scoped>\n",
       "    .dataframe tbody tr th:only-of-type {\n",
       "        vertical-align: middle;\n",
       "    }\n",
       "\n",
       "    .dataframe tbody tr th {\n",
       "        vertical-align: top;\n",
       "    }\n",
       "\n",
       "    .dataframe thead th {\n",
       "        text-align: right;\n",
       "    }\n",
       "</style>\n",
       "<table border=\"1\" class=\"dataframe\">\n",
       "  <thead>\n",
       "    <tr style=\"text-align: right;\">\n",
       "      <th></th>\n",
       "      <th>symptoms___2.factor</th>\n",
       "      <th>pulm___1.factor</th>\n",
       "      <th>event</th>\n",
       "      <th>count</th>\n",
       "    </tr>\n",
       "  </thead>\n",
       "  <tbody>\n",
       "    <tr>\n",
       "      <th>0</th>\n",
       "      <td>Checked</td>\n",
       "      <td>Checked</td>\n",
       "      <td>0</td>\n",
       "      <td>24</td>\n",
       "    </tr>\n",
       "    <tr>\n",
       "      <th>1</th>\n",
       "      <td>Checked</td>\n",
       "      <td>Checked</td>\n",
       "      <td>1</td>\n",
       "      <td>24</td>\n",
       "    </tr>\n",
       "    <tr>\n",
       "      <th>2</th>\n",
       "      <td>Checked</td>\n",
       "      <td>Unchecked</td>\n",
       "      <td>0</td>\n",
       "      <td>459</td>\n",
       "    </tr>\n",
       "    <tr>\n",
       "      <th>3</th>\n",
       "      <td>Checked</td>\n",
       "      <td>Unchecked</td>\n",
       "      <td>1</td>\n",
       "      <td>425</td>\n",
       "    </tr>\n",
       "    <tr>\n",
       "      <th>4</th>\n",
       "      <td>Unchecked</td>\n",
       "      <td>Checked</td>\n",
       "      <td>0</td>\n",
       "      <td>9</td>\n",
       "    </tr>\n",
       "    <tr>\n",
       "      <th>5</th>\n",
       "      <td>Unchecked</td>\n",
       "      <td>Checked</td>\n",
       "      <td>1</td>\n",
       "      <td>10</td>\n",
       "    </tr>\n",
       "    <tr>\n",
       "      <th>6</th>\n",
       "      <td>Unchecked</td>\n",
       "      <td>Unchecked</td>\n",
       "      <td>0</td>\n",
       "      <td>208</td>\n",
       "    </tr>\n",
       "    <tr>\n",
       "      <th>7</th>\n",
       "      <td>Unchecked</td>\n",
       "      <td>Unchecked</td>\n",
       "      <td>1</td>\n",
       "      <td>186</td>\n",
       "    </tr>\n",
       "  </tbody>\n",
       "</table>\n",
       "</div>"
      ],
      "text/plain": [
       "  symptoms___2.factor pulm___1.factor  event  count\n",
       "0             Checked         Checked      0     24\n",
       "1             Checked         Checked      1     24\n",
       "2             Checked       Unchecked      0    459\n",
       "3             Checked       Unchecked      1    425\n",
       "4           Unchecked         Checked      0      9\n",
       "5           Unchecked         Checked      1     10\n",
       "6           Unchecked       Unchecked      0    208\n",
       "7           Unchecked       Unchecked      1    186"
      ]
     },
     "execution_count": 25,
     "metadata": {},
     "output_type": "execute_result"
    }
   ],
   "source": [
    "Baselines.groupby(['symptoms___2.factor','pulm___1.factor','event']).size().reset_index(name='count')"
   ]
  },
  {
   "cell_type": "code",
   "execution_count": 26,
   "metadata": {},
   "outputs": [
    {
     "data": {
      "text/html": [
       "<div>\n",
       "<style scoped>\n",
       "    .dataframe tbody tr th:only-of-type {\n",
       "        vertical-align: middle;\n",
       "    }\n",
       "\n",
       "    .dataframe tbody tr th {\n",
       "        vertical-align: top;\n",
       "    }\n",
       "\n",
       "    .dataframe thead th {\n",
       "        text-align: right;\n",
       "    }\n",
       "</style>\n",
       "<table border=\"1\" class=\"dataframe\">\n",
       "  <thead>\n",
       "    <tr style=\"text-align: right;\">\n",
       "      <th></th>\n",
       "      <th>symptoms___2.factor</th>\n",
       "      <th>symptoms___3.factor</th>\n",
       "      <th>event</th>\n",
       "      <th>count</th>\n",
       "    </tr>\n",
       "  </thead>\n",
       "  <tbody>\n",
       "    <tr>\n",
       "      <th>0</th>\n",
       "      <td>Checked</td>\n",
       "      <td>Checked</td>\n",
       "      <td>0</td>\n",
       "      <td>297</td>\n",
       "    </tr>\n",
       "    <tr>\n",
       "      <th>1</th>\n",
       "      <td>Checked</td>\n",
       "      <td>Checked</td>\n",
       "      <td>1</td>\n",
       "      <td>283</td>\n",
       "    </tr>\n",
       "    <tr>\n",
       "      <th>2</th>\n",
       "      <td>Checked</td>\n",
       "      <td>Unchecked</td>\n",
       "      <td>0</td>\n",
       "      <td>186</td>\n",
       "    </tr>\n",
       "    <tr>\n",
       "      <th>3</th>\n",
       "      <td>Checked</td>\n",
       "      <td>Unchecked</td>\n",
       "      <td>1</td>\n",
       "      <td>166</td>\n",
       "    </tr>\n",
       "    <tr>\n",
       "      <th>4</th>\n",
       "      <td>Unchecked</td>\n",
       "      <td>Checked</td>\n",
       "      <td>0</td>\n",
       "      <td>125</td>\n",
       "    </tr>\n",
       "    <tr>\n",
       "      <th>5</th>\n",
       "      <td>Unchecked</td>\n",
       "      <td>Checked</td>\n",
       "      <td>1</td>\n",
       "      <td>115</td>\n",
       "    </tr>\n",
       "    <tr>\n",
       "      <th>6</th>\n",
       "      <td>Unchecked</td>\n",
       "      <td>Unchecked</td>\n",
       "      <td>0</td>\n",
       "      <td>92</td>\n",
       "    </tr>\n",
       "    <tr>\n",
       "      <th>7</th>\n",
       "      <td>Unchecked</td>\n",
       "      <td>Unchecked</td>\n",
       "      <td>1</td>\n",
       "      <td>81</td>\n",
       "    </tr>\n",
       "  </tbody>\n",
       "</table>\n",
       "</div>"
      ],
      "text/plain": [
       "  symptoms___2.factor symptoms___3.factor  event  count\n",
       "0             Checked             Checked      0    297\n",
       "1             Checked             Checked      1    283\n",
       "2             Checked           Unchecked      0    186\n",
       "3             Checked           Unchecked      1    166\n",
       "4           Unchecked             Checked      0    125\n",
       "5           Unchecked             Checked      1    115\n",
       "6           Unchecked           Unchecked      0     92\n",
       "7           Unchecked           Unchecked      1     81"
      ]
     },
     "execution_count": 26,
     "metadata": {},
     "output_type": "execute_result"
    }
   ],
   "source": [
    "Baselines.groupby(['symptoms___2.factor','symptoms___3.factor','event']).size().reset_index(name='count')"
   ]
  },
  {
   "cell_type": "code",
   "execution_count": null,
   "metadata": {},
   "outputs": [],
   "source": []
  },
  {
   "cell_type": "markdown",
   "metadata": {},
   "source": [
    "## Lab and Vitals Dataset"
   ]
  },
  {
   "cell_type": "code",
   "execution_count": null,
   "metadata": {},
   "outputs": [],
   "source": [
    "LabVital"
   ]
  },
  {
   "cell_type": "code",
   "execution_count": 27,
   "metadata": {},
   "outputs": [
    {
     "data": {
      "text/plain": [
       "array(['s_bp_noninvasive (d)', 'vs_bp_noninvasive (s)', 'vs_hr_hr',\n",
       "       'xp_resp_rate_pt', 'xp_resp_spo2'], dtype=object)"
      ]
     },
     "execution_count": 27,
     "metadata": {},
     "output_type": "execute_result"
    }
   ],
   "source": [
    "LabVital.name.unique()"
   ]
  },
  {
   "cell_type": "code",
   "execution_count": null,
   "metadata": {},
   "outputs": [],
   "source": [
    "# LabVital = LabVital.astype({\"subject\":'str', \"value\":'str'})\n",
    "# print(LabVital.dtypes)"
   ]
  },
  {
   "cell_type": "code",
   "execution_count": 28,
   "metadata": {},
   "outputs": [
    {
     "name": "stdout",
     "output_type": "stream",
     "text": [
      "                        name   subject      value            time_stamp\n",
      "4       s_bp_noninvasive (d)  89909248  62.435513  2020-07-09T00:06:47Z\n",
      "8       s_bp_noninvasive (d)  89909248  59.183847  2020-07-09T11:05:04Z\n",
      "9       s_bp_noninvasive (d)  89909248  61.897375  2020-07-09T13:49:38Z\n",
      "10      s_bp_noninvasive (d)  89909248  63.328003  2020-07-09T16:34:12Z\n",
      "11      s_bp_noninvasive (d)  89909248  58.359772  2020-07-09T19:18:47Z\n",
      "...                      ...       ...        ...                   ...\n",
      "708101          xp_resp_spo2   7252819  91.374689  2020-07-08T16:29:55Z\n",
      "708102          xp_resp_spo2   7252819  92.573189  2020-07-08T18:16:35Z\n",
      "708103          xp_resp_spo2   7252819  92.588154  2020-07-08T20:03:15Z\n",
      "708104          xp_resp_spo2   7252819  93.327085  2020-07-08T21:49:55Z\n",
      "708105          xp_resp_spo2   7252819  91.875465  2020-07-08T23:36:35Z\n",
      "\n",
      "[622291 rows x 4 columns]\n"
     ]
    }
   ],
   "source": [
    "#Dropped NaN Values\n",
    "LabVit = LabVital.dropna()\n",
    "print(LabVit)"
   ]
  },
  {
   "cell_type": "code",
   "execution_count": 29,
   "metadata": {},
   "outputs": [
    {
     "data": {
      "text/html": [
       "<div>\n",
       "<style scoped>\n",
       "    .dataframe tbody tr th:only-of-type {\n",
       "        vertical-align: middle;\n",
       "    }\n",
       "\n",
       "    .dataframe tbody tr th {\n",
       "        vertical-align: top;\n",
       "    }\n",
       "\n",
       "    .dataframe thead th {\n",
       "        text-align: right;\n",
       "    }\n",
       "</style>\n",
       "<table border=\"1\" class=\"dataframe\">\n",
       "  <thead>\n",
       "    <tr style=\"text-align: right;\">\n",
       "      <th>name</th>\n",
       "      <th>subject</th>\n",
       "      <th>s_bp_noninvasive(d)Avg</th>\n",
       "      <th>vs_bp_noninvasive(s)Avg</th>\n",
       "      <th>vs_hr_hrAvg</th>\n",
       "      <th>xp_resp_rate_ptAvg</th>\n",
       "      <th>xp_resp_spo2Avg</th>\n",
       "    </tr>\n",
       "  </thead>\n",
       "  <tbody>\n",
       "    <tr>\n",
       "      <th>0</th>\n",
       "      <td>655528</td>\n",
       "      <td>61.162459</td>\n",
       "      <td>129.902067</td>\n",
       "      <td>72.801656</td>\n",
       "      <td>30.400445</td>\n",
       "      <td>91.445496</td>\n",
       "    </tr>\n",
       "    <tr>\n",
       "      <th>1</th>\n",
       "      <td>729545</td>\n",
       "      <td>58.777900</td>\n",
       "      <td>128.472046</td>\n",
       "      <td>72.903227</td>\n",
       "      <td>29.859476</td>\n",
       "      <td>92.746338</td>\n",
       "    </tr>\n",
       "    <tr>\n",
       "      <th>2</th>\n",
       "      <td>805568</td>\n",
       "      <td>60.488792</td>\n",
       "      <td>129.666909</td>\n",
       "      <td>74.767961</td>\n",
       "      <td>29.835982</td>\n",
       "      <td>91.200127</td>\n",
       "    </tr>\n",
       "    <tr>\n",
       "      <th>3</th>\n",
       "      <td>895876</td>\n",
       "      <td>59.276564</td>\n",
       "      <td>131.727024</td>\n",
       "      <td>76.640413</td>\n",
       "      <td>30.124052</td>\n",
       "      <td>92.662587</td>\n",
       "    </tr>\n",
       "    <tr>\n",
       "      <th>4</th>\n",
       "      <td>905164</td>\n",
       "      <td>59.334065</td>\n",
       "      <td>129.495319</td>\n",
       "      <td>77.028180</td>\n",
       "      <td>28.720727</td>\n",
       "      <td>91.492369</td>\n",
       "    </tr>\n",
       "  </tbody>\n",
       "</table>\n",
       "</div>"
      ],
      "text/plain": [
       "name  subject  s_bp_noninvasive(d)Avg  vs_bp_noninvasive(s)Avg  vs_hr_hrAvg  \\\n",
       "0      655528               61.162459               129.902067    72.801656   \n",
       "1      729545               58.777900               128.472046    72.903227   \n",
       "2      805568               60.488792               129.666909    74.767961   \n",
       "3      895876               59.276564               131.727024    76.640413   \n",
       "4      905164               59.334065               129.495319    77.028180   \n",
       "\n",
       "name  xp_resp_rate_ptAvg  xp_resp_spo2Avg  \n",
       "0              30.400445        91.445496  \n",
       "1              29.859476        92.746338  \n",
       "2              29.835982        91.200127  \n",
       "3              30.124052        92.662587  \n",
       "4              28.720727        91.492369  "
      ]
     },
     "execution_count": 29,
     "metadata": {},
     "output_type": "execute_result"
    }
   ],
   "source": [
    "#Does Mean of all the grouped values\n",
    "LVMean = LabVit.groupby(['subject', 'name'],as_index = False).agg({'value':'mean'})\n",
    "LaViMean=LVMean.pivot(index='subject', columns='name', values='value').reset_index()\n",
    "LaViMean=LaViMean.rename(columns = {\"s_bp_noninvasive (d)\":\"s_bp_noninvasive(d)Avg\",\"vs_bp_noninvasive (s)\":\"vs_bp_noninvasive(s)Avg\",\"vs_hr_hr\":\"vs_hr_hrAvg\",\"xp_resp_rate_pt\":\"xp_resp_rate_ptAvg\",\"xp_resp_spo2\":\"xp_resp_spo2Avg\"})\n",
    "LaViMean.head()"
   ]
  },
  {
   "cell_type": "code",
   "execution_count": 30,
   "metadata": {},
   "outputs": [
    {
     "data": {
      "text/html": [
       "<div>\n",
       "<style scoped>\n",
       "    .dataframe tbody tr th:only-of-type {\n",
       "        vertical-align: middle;\n",
       "    }\n",
       "\n",
       "    .dataframe tbody tr th {\n",
       "        vertical-align: top;\n",
       "    }\n",
       "\n",
       "    .dataframe thead th {\n",
       "        text-align: right;\n",
       "    }\n",
       "</style>\n",
       "<table border=\"1\" class=\"dataframe\">\n",
       "  <thead>\n",
       "    <tr style=\"text-align: right;\">\n",
       "      <th>name</th>\n",
       "      <th>subject</th>\n",
       "      <th>s_bp_noninvasive(d)Min</th>\n",
       "      <th>vs_bp_noninvasive(s)Min</th>\n",
       "      <th>vs_hr_hrMin</th>\n",
       "      <th>xp_resp_rate_ptMin</th>\n",
       "      <th>xp_resp_spo2Min</th>\n",
       "    </tr>\n",
       "  </thead>\n",
       "  <tbody>\n",
       "    <tr>\n",
       "      <th>0</th>\n",
       "      <td>655528</td>\n",
       "      <td>55.864589</td>\n",
       "      <td>124.909075</td>\n",
       "      <td>66.680792</td>\n",
       "      <td>27.394691</td>\n",
       "      <td>85.851285</td>\n",
       "    </tr>\n",
       "    <tr>\n",
       "      <th>1</th>\n",
       "      <td>729545</td>\n",
       "      <td>54.336709</td>\n",
       "      <td>125.390764</td>\n",
       "      <td>66.978891</td>\n",
       "      <td>28.576244</td>\n",
       "      <td>86.892212</td>\n",
       "    </tr>\n",
       "    <tr>\n",
       "      <th>2</th>\n",
       "      <td>805568</td>\n",
       "      <td>53.678706</td>\n",
       "      <td>124.513776</td>\n",
       "      <td>71.122778</td>\n",
       "      <td>23.515832</td>\n",
       "      <td>87.472743</td>\n",
       "    </tr>\n",
       "    <tr>\n",
       "      <th>3</th>\n",
       "      <td>895876</td>\n",
       "      <td>55.895045</td>\n",
       "      <td>126.102565</td>\n",
       "      <td>72.864779</td>\n",
       "      <td>25.249702</td>\n",
       "      <td>87.810329</td>\n",
       "    </tr>\n",
       "    <tr>\n",
       "      <th>4</th>\n",
       "      <td>905164</td>\n",
       "      <td>57.022347</td>\n",
       "      <td>125.715506</td>\n",
       "      <td>72.893187</td>\n",
       "      <td>24.693358</td>\n",
       "      <td>86.366743</td>\n",
       "    </tr>\n",
       "  </tbody>\n",
       "</table>\n",
       "</div>"
      ],
      "text/plain": [
       "name  subject  s_bp_noninvasive(d)Min  vs_bp_noninvasive(s)Min  vs_hr_hrMin  \\\n",
       "0      655528               55.864589               124.909075    66.680792   \n",
       "1      729545               54.336709               125.390764    66.978891   \n",
       "2      805568               53.678706               124.513776    71.122778   \n",
       "3      895876               55.895045               126.102565    72.864779   \n",
       "4      905164               57.022347               125.715506    72.893187   \n",
       "\n",
       "name  xp_resp_rate_ptMin  xp_resp_spo2Min  \n",
       "0              27.394691        85.851285  \n",
       "1              28.576244        86.892212  \n",
       "2              23.515832        87.472743  \n",
       "3              25.249702        87.810329  \n",
       "4              24.693358        86.366743  "
      ]
     },
     "execution_count": 30,
     "metadata": {},
     "output_type": "execute_result"
    }
   ],
   "source": [
    "#Does Minimum of all the grouped values\n",
    "\n",
    "LVMin = LabVit.groupby(['subject', 'name'],as_index = False).agg({'value':'min'})\n",
    "LaViMin=LVMin.pivot(index='subject', columns='name', values='value').reset_index()\n",
    "LaViMin=LaViMin.rename(columns = {\"s_bp_noninvasive (d)\":\"s_bp_noninvasive(d)Min\",\"vs_bp_noninvasive (s)\":\"vs_bp_noninvasive(s)Min\",\"vs_hr_hr\":\"vs_hr_hrMin\",\"xp_resp_rate_pt\":\"xp_resp_rate_ptMin\",\"xp_resp_spo2\":\"xp_resp_spo2Min\"})\n",
    "LaViMin.head()"
   ]
  },
  {
   "cell_type": "code",
   "execution_count": 31,
   "metadata": {},
   "outputs": [
    {
     "data": {
      "text/html": [
       "<div>\n",
       "<style scoped>\n",
       "    .dataframe tbody tr th:only-of-type {\n",
       "        vertical-align: middle;\n",
       "    }\n",
       "\n",
       "    .dataframe tbody tr th {\n",
       "        vertical-align: top;\n",
       "    }\n",
       "\n",
       "    .dataframe thead th {\n",
       "        text-align: right;\n",
       "    }\n",
       "</style>\n",
       "<table border=\"1\" class=\"dataframe\">\n",
       "  <thead>\n",
       "    <tr style=\"text-align: right;\">\n",
       "      <th>name</th>\n",
       "      <th>subject</th>\n",
       "      <th>s_bp_noninvasive(d)Max</th>\n",
       "      <th>vs_bp_noninvasive(s)Max</th>\n",
       "      <th>vs_hr_hrMax</th>\n",
       "      <th>xp_resp_rate_ptMax</th>\n",
       "      <th>xp_resp_spo2Max</th>\n",
       "    </tr>\n",
       "  </thead>\n",
       "  <tbody>\n",
       "    <tr>\n",
       "      <th>0</th>\n",
       "      <td>655528</td>\n",
       "      <td>65.358869</td>\n",
       "      <td>134.885183</td>\n",
       "      <td>77.408236</td>\n",
       "      <td>33.976935</td>\n",
       "      <td>99.261517</td>\n",
       "    </tr>\n",
       "    <tr>\n",
       "      <th>1</th>\n",
       "      <td>729545</td>\n",
       "      <td>62.797679</td>\n",
       "      <td>135.156700</td>\n",
       "      <td>77.364256</td>\n",
       "      <td>31.598743</td>\n",
       "      <td>96.216565</td>\n",
       "    </tr>\n",
       "    <tr>\n",
       "      <th>2</th>\n",
       "      <td>805568</td>\n",
       "      <td>64.848642</td>\n",
       "      <td>135.640160</td>\n",
       "      <td>81.120618</td>\n",
       "      <td>34.848911</td>\n",
       "      <td>94.663084</td>\n",
       "    </tr>\n",
       "    <tr>\n",
       "      <th>3</th>\n",
       "      <td>895876</td>\n",
       "      <td>62.823134</td>\n",
       "      <td>137.934264</td>\n",
       "      <td>79.806152</td>\n",
       "      <td>33.890384</td>\n",
       "      <td>97.485132</td>\n",
       "    </tr>\n",
       "    <tr>\n",
       "      <th>4</th>\n",
       "      <td>905164</td>\n",
       "      <td>62.964323</td>\n",
       "      <td>133.997336</td>\n",
       "      <td>80.893087</td>\n",
       "      <td>34.020580</td>\n",
       "      <td>94.581302</td>\n",
       "    </tr>\n",
       "  </tbody>\n",
       "</table>\n",
       "</div>"
      ],
      "text/plain": [
       "name  subject  s_bp_noninvasive(d)Max  vs_bp_noninvasive(s)Max  vs_hr_hrMax  \\\n",
       "0      655528               65.358869               134.885183    77.408236   \n",
       "1      729545               62.797679               135.156700    77.364256   \n",
       "2      805568               64.848642               135.640160    81.120618   \n",
       "3      895876               62.823134               137.934264    79.806152   \n",
       "4      905164               62.964323               133.997336    80.893087   \n",
       "\n",
       "name  xp_resp_rate_ptMax  xp_resp_spo2Max  \n",
       "0              33.976935        99.261517  \n",
       "1              31.598743        96.216565  \n",
       "2              34.848911        94.663084  \n",
       "3              33.890384        97.485132  \n",
       "4              34.020580        94.581302  "
      ]
     },
     "execution_count": 31,
     "metadata": {},
     "output_type": "execute_result"
    }
   ],
   "source": [
    "#Does Maximum of all the grouped values\n",
    "LVMax = LabVit.groupby(['subject', 'name'],as_index = False).agg({'value':'max'})\n",
    "LaViMax=LVMax.pivot(index='subject', columns='name', values='value').reset_index()\n",
    "LaViMax=LaViMax.rename(columns = {\"s_bp_noninvasive (d)\":\"s_bp_noninvasive(d)Max\",\"vs_bp_noninvasive (s)\":\"vs_bp_noninvasive(s)Max\",\"vs_hr_hr\":\"vs_hr_hrMax\",\"xp_resp_rate_pt\":\"xp_resp_rate_ptMax\",\"xp_resp_spo2\":\"xp_resp_spo2Max\"})\n",
    "LaViMax.head()"
   ]
  },
  {
   "cell_type": "code",
   "execution_count": 32,
   "metadata": {},
   "outputs": [],
   "source": [
    "Baselines = Baselines.rename(columns = {\"mrn\":\"subject\"})"
   ]
  },
  {
   "cell_type": "code",
   "execution_count": 33,
   "metadata": {
    "scrolled": true
   },
   "outputs": [],
   "source": [
    "combined = pd.merge(Baselines, LaViMean, on = 'subject', how='left')"
   ]
  },
  {
   "cell_type": "code",
   "execution_count": 34,
   "metadata": {},
   "outputs": [],
   "source": [
    "combined = pd.merge(combined, LaViMin, on = 'subject', how='left')"
   ]
  },
  {
   "cell_type": "code",
   "execution_count": 35,
   "metadata": {},
   "outputs": [],
   "source": [
    "combined = pd.merge(combined, LaViMax, on = 'subject', how='left')"
   ]
  },
  {
   "cell_type": "code",
   "execution_count": 36,
   "metadata": {},
   "outputs": [
    {
     "data": {
      "text/html": [
       "<div>\n",
       "<style scoped>\n",
       "    .dataframe tbody tr th:only-of-type {\n",
       "        vertical-align: middle;\n",
       "    }\n",
       "\n",
       "    .dataframe tbody tr th {\n",
       "        vertical-align: top;\n",
       "    }\n",
       "\n",
       "    .dataframe thead th {\n",
       "        text-align: right;\n",
       "    }\n",
       "</style>\n",
       "<table border=\"1\" class=\"dataframe\">\n",
       "  <thead>\n",
       "    <tr style=\"text-align: right;\">\n",
       "      <th></th>\n",
       "      <th>0</th>\n",
       "      <th>1</th>\n",
       "      <th>2</th>\n",
       "      <th>3</th>\n",
       "      <th>4</th>\n",
       "      <th>5</th>\n",
       "      <th>6</th>\n",
       "      <th>7</th>\n",
       "      <th>8</th>\n",
       "      <th>9</th>\n",
       "      <th>...</th>\n",
       "      <th>1335</th>\n",
       "      <th>1336</th>\n",
       "      <th>1337</th>\n",
       "      <th>1338</th>\n",
       "      <th>1339</th>\n",
       "      <th>1340</th>\n",
       "      <th>1341</th>\n",
       "      <th>1342</th>\n",
       "      <th>1343</th>\n",
       "      <th>1344</th>\n",
       "    </tr>\n",
       "  </thead>\n",
       "  <tbody>\n",
       "    <tr>\n",
       "      <th>Age</th>\n",
       "      <td>62.321679</td>\n",
       "      <td>78.625586</td>\n",
       "      <td>70.460677</td>\n",
       "      <td>59.043149</td>\n",
       "      <td>90.477229</td>\n",
       "      <td>70.614480</td>\n",
       "      <td>72.287110</td>\n",
       "      <td>47.817602</td>\n",
       "      <td>62.987040</td>\n",
       "      <td>76.243595</td>\n",
       "      <td>...</td>\n",
       "      <td>89.336410</td>\n",
       "      <td>77.719834</td>\n",
       "      <td>40.176299</td>\n",
       "      <td>84.430982</td>\n",
       "      <td>108.897797</td>\n",
       "      <td>43.972308</td>\n",
       "      <td>31.864515</td>\n",
       "      <td>20.301802</td>\n",
       "      <td>98.249858</td>\n",
       "      <td>64.086610</td>\n",
       "    </tr>\n",
       "    <tr>\n",
       "      <th>bmi</th>\n",
       "      <td>20.388645</td>\n",
       "      <td>27.554594</td>\n",
       "      <td>34.141729</td>\n",
       "      <td>19.833296</td>\n",
       "      <td>19.858003</td>\n",
       "      <td>28.132920</td>\n",
       "      <td>34.979119</td>\n",
       "      <td>26.842840</td>\n",
       "      <td>33.686343</td>\n",
       "      <td>21.458219</td>\n",
       "      <td>...</td>\n",
       "      <td>33.719737</td>\n",
       "      <td>18.668466</td>\n",
       "      <td>26.296768</td>\n",
       "      <td>30.421071</td>\n",
       "      <td>35.377276</td>\n",
       "      <td>29.990926</td>\n",
       "      <td>28.560150</td>\n",
       "      <td>25.636694</td>\n",
       "      <td>22.520367</td>\n",
       "      <td>28.502931</td>\n",
       "    </tr>\n",
       "    <tr>\n",
       "      <th>duration_symptoms</th>\n",
       "      <td>8.000000</td>\n",
       "      <td>20.000000</td>\n",
       "      <td>9.000000</td>\n",
       "      <td>7.000000</td>\n",
       "      <td>25.000000</td>\n",
       "      <td>6.000000</td>\n",
       "      <td>7.000000</td>\n",
       "      <td>9.000000</td>\n",
       "      <td>13.000000</td>\n",
       "      <td>8.000000</td>\n",
       "      <td>...</td>\n",
       "      <td>10.000000</td>\n",
       "      <td>8.000000</td>\n",
       "      <td>11.000000</td>\n",
       "      <td>2.000000</td>\n",
       "      <td>2.000000</td>\n",
       "      <td>9.000000</td>\n",
       "      <td>12.000000</td>\n",
       "      <td>3.000000</td>\n",
       "      <td>6.000000</td>\n",
       "      <td>2.000000</td>\n",
       "    </tr>\n",
       "    <tr>\n",
       "      <th>event</th>\n",
       "      <td>1.000000</td>\n",
       "      <td>1.000000</td>\n",
       "      <td>0.000000</td>\n",
       "      <td>0.000000</td>\n",
       "      <td>0.000000</td>\n",
       "      <td>1.000000</td>\n",
       "      <td>0.000000</td>\n",
       "      <td>1.000000</td>\n",
       "      <td>0.000000</td>\n",
       "      <td>0.000000</td>\n",
       "      <td>...</td>\n",
       "      <td>0.000000</td>\n",
       "      <td>0.000000</td>\n",
       "      <td>1.000000</td>\n",
       "      <td>0.000000</td>\n",
       "      <td>0.000000</td>\n",
       "      <td>1.000000</td>\n",
       "      <td>0.000000</td>\n",
       "      <td>1.000000</td>\n",
       "      <td>0.000000</td>\n",
       "      <td>1.000000</td>\n",
       "    </tr>\n",
       "    <tr>\n",
       "      <th>s_bp_noninvasive(d)Avg</th>\n",
       "      <td>61.162459</td>\n",
       "      <td>58.777900</td>\n",
       "      <td>60.488792</td>\n",
       "      <td>59.276564</td>\n",
       "      <td>59.334065</td>\n",
       "      <td>60.984211</td>\n",
       "      <td>59.897450</td>\n",
       "      <td>61.397920</td>\n",
       "      <td>61.840342</td>\n",
       "      <td>62.030968</td>\n",
       "      <td>...</td>\n",
       "      <td>61.453748</td>\n",
       "      <td>60.483824</td>\n",
       "      <td>59.110603</td>\n",
       "      <td>58.678820</td>\n",
       "      <td>58.011014</td>\n",
       "      <td>60.377749</td>\n",
       "      <td>62.284739</td>\n",
       "      <td>60.810227</td>\n",
       "      <td>59.640382</td>\n",
       "      <td>61.267579</td>\n",
       "    </tr>\n",
       "    <tr>\n",
       "      <th>vs_bp_noninvasive(s)Avg</th>\n",
       "      <td>129.902067</td>\n",
       "      <td>128.472046</td>\n",
       "      <td>129.666909</td>\n",
       "      <td>131.727024</td>\n",
       "      <td>129.495319</td>\n",
       "      <td>129.841418</td>\n",
       "      <td>130.217326</td>\n",
       "      <td>128.044415</td>\n",
       "      <td>131.396879</td>\n",
       "      <td>131.425096</td>\n",
       "      <td>...</td>\n",
       "      <td>129.499923</td>\n",
       "      <td>130.496255</td>\n",
       "      <td>130.524107</td>\n",
       "      <td>130.315339</td>\n",
       "      <td>128.495680</td>\n",
       "      <td>129.318512</td>\n",
       "      <td>129.634777</td>\n",
       "      <td>131.418772</td>\n",
       "      <td>130.406128</td>\n",
       "      <td>130.142080</td>\n",
       "    </tr>\n",
       "    <tr>\n",
       "      <th>vs_hr_hrAvg</th>\n",
       "      <td>72.801656</td>\n",
       "      <td>72.903227</td>\n",
       "      <td>74.767961</td>\n",
       "      <td>76.640413</td>\n",
       "      <td>77.028180</td>\n",
       "      <td>74.087811</td>\n",
       "      <td>74.162966</td>\n",
       "      <td>74.796017</td>\n",
       "      <td>75.442723</td>\n",
       "      <td>74.660892</td>\n",
       "      <td>...</td>\n",
       "      <td>74.215717</td>\n",
       "      <td>74.741867</td>\n",
       "      <td>73.650188</td>\n",
       "      <td>76.233757</td>\n",
       "      <td>74.535166</td>\n",
       "      <td>73.589357</td>\n",
       "      <td>74.987461</td>\n",
       "      <td>75.715752</td>\n",
       "      <td>75.813503</td>\n",
       "      <td>75.010405</td>\n",
       "    </tr>\n",
       "    <tr>\n",
       "      <th>xp_resp_rate_ptAvg</th>\n",
       "      <td>30.400445</td>\n",
       "      <td>29.859476</td>\n",
       "      <td>29.835982</td>\n",
       "      <td>30.124052</td>\n",
       "      <td>28.720727</td>\n",
       "      <td>30.585173</td>\n",
       "      <td>29.610647</td>\n",
       "      <td>29.200154</td>\n",
       "      <td>30.456923</td>\n",
       "      <td>30.009413</td>\n",
       "      <td>...</td>\n",
       "      <td>27.753587</td>\n",
       "      <td>30.774337</td>\n",
       "      <td>29.576207</td>\n",
       "      <td>27.964381</td>\n",
       "      <td>30.392787</td>\n",
       "      <td>28.912006</td>\n",
       "      <td>30.351910</td>\n",
       "      <td>28.935384</td>\n",
       "      <td>30.712350</td>\n",
       "      <td>30.456829</td>\n",
       "    </tr>\n",
       "    <tr>\n",
       "      <th>xp_resp_spo2Avg</th>\n",
       "      <td>91.445496</td>\n",
       "      <td>92.746338</td>\n",
       "      <td>91.200127</td>\n",
       "      <td>92.662587</td>\n",
       "      <td>91.492369</td>\n",
       "      <td>92.468985</td>\n",
       "      <td>93.356742</td>\n",
       "      <td>91.804319</td>\n",
       "      <td>91.481816</td>\n",
       "      <td>92.257381</td>\n",
       "      <td>...</td>\n",
       "      <td>92.757866</td>\n",
       "      <td>92.425630</td>\n",
       "      <td>93.265451</td>\n",
       "      <td>92.263874</td>\n",
       "      <td>92.364296</td>\n",
       "      <td>93.633057</td>\n",
       "      <td>92.314679</td>\n",
       "      <td>91.513000</td>\n",
       "      <td>90.838096</td>\n",
       "      <td>89.991002</td>\n",
       "    </tr>\n",
       "    <tr>\n",
       "      <th>s_bp_noninvasive(d)Min</th>\n",
       "      <td>55.864589</td>\n",
       "      <td>54.336709</td>\n",
       "      <td>53.678706</td>\n",
       "      <td>55.895045</td>\n",
       "      <td>57.022347</td>\n",
       "      <td>55.133744</td>\n",
       "      <td>54.655280</td>\n",
       "      <td>56.107933</td>\n",
       "      <td>58.355740</td>\n",
       "      <td>56.695903</td>\n",
       "      <td>...</td>\n",
       "      <td>57.543847</td>\n",
       "      <td>57.351856</td>\n",
       "      <td>56.167504</td>\n",
       "      <td>53.119753</td>\n",
       "      <td>53.610272</td>\n",
       "      <td>56.207150</td>\n",
       "      <td>59.918367</td>\n",
       "      <td>57.188709</td>\n",
       "      <td>55.718947</td>\n",
       "      <td>55.836901</td>\n",
       "    </tr>\n",
       "    <tr>\n",
       "      <th>vs_bp_noninvasive(s)Min</th>\n",
       "      <td>124.909075</td>\n",
       "      <td>125.390764</td>\n",
       "      <td>124.513776</td>\n",
       "      <td>126.102565</td>\n",
       "      <td>125.715506</td>\n",
       "      <td>126.145770</td>\n",
       "      <td>125.596104</td>\n",
       "      <td>122.365724</td>\n",
       "      <td>126.471156</td>\n",
       "      <td>126.197437</td>\n",
       "      <td>...</td>\n",
       "      <td>123.036936</td>\n",
       "      <td>124.807902</td>\n",
       "      <td>125.555075</td>\n",
       "      <td>124.043823</td>\n",
       "      <td>122.809358</td>\n",
       "      <td>121.871790</td>\n",
       "      <td>124.279389</td>\n",
       "      <td>126.935342</td>\n",
       "      <td>125.499449</td>\n",
       "      <td>126.570306</td>\n",
       "    </tr>\n",
       "    <tr>\n",
       "      <th>vs_hr_hrMin</th>\n",
       "      <td>66.680792</td>\n",
       "      <td>66.978891</td>\n",
       "      <td>71.122778</td>\n",
       "      <td>72.864779</td>\n",
       "      <td>72.893187</td>\n",
       "      <td>71.730249</td>\n",
       "      <td>70.091088</td>\n",
       "      <td>70.915929</td>\n",
       "      <td>70.890645</td>\n",
       "      <td>70.297013</td>\n",
       "      <td>...</td>\n",
       "      <td>69.760470</td>\n",
       "      <td>70.216553</td>\n",
       "      <td>68.854057</td>\n",
       "      <td>73.670997</td>\n",
       "      <td>70.456635</td>\n",
       "      <td>69.770945</td>\n",
       "      <td>70.349831</td>\n",
       "      <td>71.969835</td>\n",
       "      <td>68.774438</td>\n",
       "      <td>70.351842</td>\n",
       "    </tr>\n",
       "    <tr>\n",
       "      <th>xp_resp_rate_ptMin</th>\n",
       "      <td>27.394691</td>\n",
       "      <td>28.576244</td>\n",
       "      <td>23.515832</td>\n",
       "      <td>25.249702</td>\n",
       "      <td>24.693358</td>\n",
       "      <td>26.446381</td>\n",
       "      <td>24.346727</td>\n",
       "      <td>25.507836</td>\n",
       "      <td>22.479352</td>\n",
       "      <td>27.136237</td>\n",
       "      <td>...</td>\n",
       "      <td>22.770039</td>\n",
       "      <td>27.109440</td>\n",
       "      <td>26.190052</td>\n",
       "      <td>23.344522</td>\n",
       "      <td>26.640124</td>\n",
       "      <td>22.960260</td>\n",
       "      <td>24.681062</td>\n",
       "      <td>23.943344</td>\n",
       "      <td>26.290824</td>\n",
       "      <td>25.817317</td>\n",
       "    </tr>\n",
       "    <tr>\n",
       "      <th>xp_resp_spo2Min</th>\n",
       "      <td>85.851285</td>\n",
       "      <td>86.892212</td>\n",
       "      <td>87.472743</td>\n",
       "      <td>87.810329</td>\n",
       "      <td>86.366743</td>\n",
       "      <td>86.168101</td>\n",
       "      <td>88.725538</td>\n",
       "      <td>88.059046</td>\n",
       "      <td>86.947783</td>\n",
       "      <td>87.429683</td>\n",
       "      <td>...</td>\n",
       "      <td>87.900008</td>\n",
       "      <td>86.914004</td>\n",
       "      <td>90.328672</td>\n",
       "      <td>88.459388</td>\n",
       "      <td>87.857482</td>\n",
       "      <td>87.711207</td>\n",
       "      <td>86.655135</td>\n",
       "      <td>84.104855</td>\n",
       "      <td>86.187564</td>\n",
       "      <td>85.666258</td>\n",
       "    </tr>\n",
       "    <tr>\n",
       "      <th>s_bp_noninvasive(d)Max</th>\n",
       "      <td>65.358869</td>\n",
       "      <td>62.797679</td>\n",
       "      <td>64.848642</td>\n",
       "      <td>62.823134</td>\n",
       "      <td>62.964323</td>\n",
       "      <td>65.961985</td>\n",
       "      <td>64.355479</td>\n",
       "      <td>65.219153</td>\n",
       "      <td>64.911450</td>\n",
       "      <td>66.733049</td>\n",
       "      <td>...</td>\n",
       "      <td>64.144905</td>\n",
       "      <td>63.048294</td>\n",
       "      <td>64.193958</td>\n",
       "      <td>63.727311</td>\n",
       "      <td>62.317588</td>\n",
       "      <td>65.554279</td>\n",
       "      <td>65.359320</td>\n",
       "      <td>63.439188</td>\n",
       "      <td>63.536994</td>\n",
       "      <td>65.073735</td>\n",
       "    </tr>\n",
       "    <tr>\n",
       "      <th>vs_bp_noninvasive(s)Max</th>\n",
       "      <td>134.885183</td>\n",
       "      <td>135.156700</td>\n",
       "      <td>135.640160</td>\n",
       "      <td>137.934264</td>\n",
       "      <td>133.997336</td>\n",
       "      <td>133.047941</td>\n",
       "      <td>133.014438</td>\n",
       "      <td>134.984005</td>\n",
       "      <td>136.689796</td>\n",
       "      <td>135.551927</td>\n",
       "      <td>...</td>\n",
       "      <td>134.112689</td>\n",
       "      <td>139.605102</td>\n",
       "      <td>134.159431</td>\n",
       "      <td>134.345792</td>\n",
       "      <td>133.029124</td>\n",
       "      <td>135.522841</td>\n",
       "      <td>134.478388</td>\n",
       "      <td>136.409593</td>\n",
       "      <td>135.409592</td>\n",
       "      <td>134.407157</td>\n",
       "    </tr>\n",
       "    <tr>\n",
       "      <th>vs_hr_hrMax</th>\n",
       "      <td>77.408236</td>\n",
       "      <td>77.364256</td>\n",
       "      <td>81.120618</td>\n",
       "      <td>79.806152</td>\n",
       "      <td>80.893087</td>\n",
       "      <td>76.672076</td>\n",
       "      <td>77.670789</td>\n",
       "      <td>79.297417</td>\n",
       "      <td>81.848626</td>\n",
       "      <td>77.888161</td>\n",
       "      <td>...</td>\n",
       "      <td>78.503798</td>\n",
       "      <td>79.244469</td>\n",
       "      <td>77.797535</td>\n",
       "      <td>77.954437</td>\n",
       "      <td>81.446642</td>\n",
       "      <td>76.711323</td>\n",
       "      <td>78.548130</td>\n",
       "      <td>81.046422</td>\n",
       "      <td>81.212623</td>\n",
       "      <td>80.125158</td>\n",
       "    </tr>\n",
       "    <tr>\n",
       "      <th>xp_resp_rate_ptMax</th>\n",
       "      <td>33.976935</td>\n",
       "      <td>31.598743</td>\n",
       "      <td>34.848911</td>\n",
       "      <td>33.890384</td>\n",
       "      <td>34.020580</td>\n",
       "      <td>36.557598</td>\n",
       "      <td>34.525262</td>\n",
       "      <td>31.739129</td>\n",
       "      <td>37.134086</td>\n",
       "      <td>32.961751</td>\n",
       "      <td>...</td>\n",
       "      <td>34.006375</td>\n",
       "      <td>34.242850</td>\n",
       "      <td>34.304705</td>\n",
       "      <td>30.584578</td>\n",
       "      <td>34.558815</td>\n",
       "      <td>33.359952</td>\n",
       "      <td>36.926688</td>\n",
       "      <td>33.013986</td>\n",
       "      <td>34.752158</td>\n",
       "      <td>33.975141</td>\n",
       "    </tr>\n",
       "    <tr>\n",
       "      <th>xp_resp_spo2Max</th>\n",
       "      <td>99.261517</td>\n",
       "      <td>96.216565</td>\n",
       "      <td>94.663084</td>\n",
       "      <td>97.485132</td>\n",
       "      <td>94.581302</td>\n",
       "      <td>97.183643</td>\n",
       "      <td>98.085754</td>\n",
       "      <td>95.975133</td>\n",
       "      <td>95.019284</td>\n",
       "      <td>97.713909</td>\n",
       "      <td>...</td>\n",
       "      <td>98.194255</td>\n",
       "      <td>99.518970</td>\n",
       "      <td>95.939092</td>\n",
       "      <td>97.629691</td>\n",
       "      <td>96.882368</td>\n",
       "      <td>98.279209</td>\n",
       "      <td>97.557219</td>\n",
       "      <td>98.395703</td>\n",
       "      <td>95.929976</td>\n",
       "      <td>95.061641</td>\n",
       "    </tr>\n",
       "    <tr>\n",
       "      <th>sex.factor_Male</th>\n",
       "      <td>1.000000</td>\n",
       "      <td>0.000000</td>\n",
       "      <td>0.000000</td>\n",
       "      <td>1.000000</td>\n",
       "      <td>1.000000</td>\n",
       "      <td>0.000000</td>\n",
       "      <td>1.000000</td>\n",
       "      <td>0.000000</td>\n",
       "      <td>1.000000</td>\n",
       "      <td>1.000000</td>\n",
       "      <td>...</td>\n",
       "      <td>1.000000</td>\n",
       "      <td>1.000000</td>\n",
       "      <td>1.000000</td>\n",
       "      <td>0.000000</td>\n",
       "      <td>0.000000</td>\n",
       "      <td>0.000000</td>\n",
       "      <td>1.000000</td>\n",
       "      <td>1.000000</td>\n",
       "      <td>1.000000</td>\n",
       "      <td>0.000000</td>\n",
       "    </tr>\n",
       "    <tr>\n",
       "      <th>hypoxia_ed.factor_Yes</th>\n",
       "      <td>0.000000</td>\n",
       "      <td>1.000000</td>\n",
       "      <td>1.000000</td>\n",
       "      <td>1.000000</td>\n",
       "      <td>0.000000</td>\n",
       "      <td>1.000000</td>\n",
       "      <td>0.000000</td>\n",
       "      <td>1.000000</td>\n",
       "      <td>1.000000</td>\n",
       "      <td>0.000000</td>\n",
       "      <td>...</td>\n",
       "      <td>0.000000</td>\n",
       "      <td>0.000000</td>\n",
       "      <td>0.000000</td>\n",
       "      <td>0.000000</td>\n",
       "      <td>0.000000</td>\n",
       "      <td>0.000000</td>\n",
       "      <td>0.000000</td>\n",
       "      <td>0.000000</td>\n",
       "      <td>0.000000</td>\n",
       "      <td>1.000000</td>\n",
       "    </tr>\n",
       "    <tr>\n",
       "      <th>smoke_vape_Yes</th>\n",
       "      <td>0.000000</td>\n",
       "      <td>0.000000</td>\n",
       "      <td>0.000000</td>\n",
       "      <td>1.000000</td>\n",
       "      <td>0.000000</td>\n",
       "      <td>1.000000</td>\n",
       "      <td>0.000000</td>\n",
       "      <td>0.000000</td>\n",
       "      <td>0.000000</td>\n",
       "      <td>0.000000</td>\n",
       "      <td>...</td>\n",
       "      <td>0.000000</td>\n",
       "      <td>0.000000</td>\n",
       "      <td>0.000000</td>\n",
       "      <td>0.000000</td>\n",
       "      <td>1.000000</td>\n",
       "      <td>0.000000</td>\n",
       "      <td>1.000000</td>\n",
       "      <td>1.000000</td>\n",
       "      <td>0.000000</td>\n",
       "      <td>1.000000</td>\n",
       "    </tr>\n",
       "    <tr>\n",
       "      <th>dm.factor_Yes</th>\n",
       "      <td>0.000000</td>\n",
       "      <td>1.000000</td>\n",
       "      <td>1.000000</td>\n",
       "      <td>1.000000</td>\n",
       "      <td>1.000000</td>\n",
       "      <td>1.000000</td>\n",
       "      <td>0.000000</td>\n",
       "      <td>0.000000</td>\n",
       "      <td>0.000000</td>\n",
       "      <td>0.000000</td>\n",
       "      <td>...</td>\n",
       "      <td>0.000000</td>\n",
       "      <td>0.000000</td>\n",
       "      <td>1.000000</td>\n",
       "      <td>1.000000</td>\n",
       "      <td>0.000000</td>\n",
       "      <td>1.000000</td>\n",
       "      <td>1.000000</td>\n",
       "      <td>0.000000</td>\n",
       "      <td>0.000000</td>\n",
       "      <td>0.000000</td>\n",
       "    </tr>\n",
       "    <tr>\n",
       "      <th>htn.factor_Yes</th>\n",
       "      <td>1.000000</td>\n",
       "      <td>1.000000</td>\n",
       "      <td>1.000000</td>\n",
       "      <td>0.000000</td>\n",
       "      <td>1.000000</td>\n",
       "      <td>0.000000</td>\n",
       "      <td>0.000000</td>\n",
       "      <td>1.000000</td>\n",
       "      <td>0.000000</td>\n",
       "      <td>1.000000</td>\n",
       "      <td>...</td>\n",
       "      <td>0.000000</td>\n",
       "      <td>1.000000</td>\n",
       "      <td>1.000000</td>\n",
       "      <td>1.000000</td>\n",
       "      <td>0.000000</td>\n",
       "      <td>0.000000</td>\n",
       "      <td>1.000000</td>\n",
       "      <td>0.000000</td>\n",
       "      <td>1.000000</td>\n",
       "      <td>1.000000</td>\n",
       "    </tr>\n",
       "    <tr>\n",
       "      <th>pulm___1.factor_Unchecked</th>\n",
       "      <td>1.000000</td>\n",
       "      <td>1.000000</td>\n",
       "      <td>1.000000</td>\n",
       "      <td>1.000000</td>\n",
       "      <td>1.000000</td>\n",
       "      <td>1.000000</td>\n",
       "      <td>1.000000</td>\n",
       "      <td>1.000000</td>\n",
       "      <td>1.000000</td>\n",
       "      <td>1.000000</td>\n",
       "      <td>...</td>\n",
       "      <td>0.000000</td>\n",
       "      <td>1.000000</td>\n",
       "      <td>1.000000</td>\n",
       "      <td>1.000000</td>\n",
       "      <td>1.000000</td>\n",
       "      <td>0.000000</td>\n",
       "      <td>1.000000</td>\n",
       "      <td>1.000000</td>\n",
       "      <td>1.000000</td>\n",
       "      <td>1.000000</td>\n",
       "    </tr>\n",
       "    <tr>\n",
       "      <th>renal___1.factor_Unchecked</th>\n",
       "      <td>1.000000</td>\n",
       "      <td>1.000000</td>\n",
       "      <td>1.000000</td>\n",
       "      <td>1.000000</td>\n",
       "      <td>1.000000</td>\n",
       "      <td>1.000000</td>\n",
       "      <td>1.000000</td>\n",
       "      <td>1.000000</td>\n",
       "      <td>1.000000</td>\n",
       "      <td>1.000000</td>\n",
       "      <td>...</td>\n",
       "      <td>1.000000</td>\n",
       "      <td>1.000000</td>\n",
       "      <td>1.000000</td>\n",
       "      <td>1.000000</td>\n",
       "      <td>1.000000</td>\n",
       "      <td>1.000000</td>\n",
       "      <td>1.000000</td>\n",
       "      <td>1.000000</td>\n",
       "      <td>1.000000</td>\n",
       "      <td>1.000000</td>\n",
       "    </tr>\n",
       "    <tr>\n",
       "      <th>renal___2.factor_Unchecked</th>\n",
       "      <td>1.000000</td>\n",
       "      <td>1.000000</td>\n",
       "      <td>1.000000</td>\n",
       "      <td>1.000000</td>\n",
       "      <td>1.000000</td>\n",
       "      <td>1.000000</td>\n",
       "      <td>1.000000</td>\n",
       "      <td>1.000000</td>\n",
       "      <td>1.000000</td>\n",
       "      <td>1.000000</td>\n",
       "      <td>...</td>\n",
       "      <td>1.000000</td>\n",
       "      <td>0.000000</td>\n",
       "      <td>1.000000</td>\n",
       "      <td>1.000000</td>\n",
       "      <td>1.000000</td>\n",
       "      <td>1.000000</td>\n",
       "      <td>1.000000</td>\n",
       "      <td>1.000000</td>\n",
       "      <td>1.000000</td>\n",
       "      <td>1.000000</td>\n",
       "    </tr>\n",
       "    <tr>\n",
       "      <th>cad.factor_Yes</th>\n",
       "      <td>0.000000</td>\n",
       "      <td>0.000000</td>\n",
       "      <td>1.000000</td>\n",
       "      <td>1.000000</td>\n",
       "      <td>0.000000</td>\n",
       "      <td>0.000000</td>\n",
       "      <td>0.000000</td>\n",
       "      <td>0.000000</td>\n",
       "      <td>0.000000</td>\n",
       "      <td>0.000000</td>\n",
       "      <td>...</td>\n",
       "      <td>0.000000</td>\n",
       "      <td>0.000000</td>\n",
       "      <td>0.000000</td>\n",
       "      <td>0.000000</td>\n",
       "      <td>0.000000</td>\n",
       "      <td>0.000000</td>\n",
       "      <td>0.000000</td>\n",
       "      <td>0.000000</td>\n",
       "      <td>1.000000</td>\n",
       "      <td>1.000000</td>\n",
       "    </tr>\n",
       "    <tr>\n",
       "      <th>cancer_Yes</th>\n",
       "      <td>0.000000</td>\n",
       "      <td>0.000000</td>\n",
       "      <td>0.000000</td>\n",
       "      <td>0.000000</td>\n",
       "      <td>0.000000</td>\n",
       "      <td>0.000000</td>\n",
       "      <td>0.000000</td>\n",
       "      <td>0.000000</td>\n",
       "      <td>0.000000</td>\n",
       "      <td>0.000000</td>\n",
       "      <td>...</td>\n",
       "      <td>0.000000</td>\n",
       "      <td>0.000000</td>\n",
       "      <td>0.000000</td>\n",
       "      <td>0.000000</td>\n",
       "      <td>0.000000</td>\n",
       "      <td>0.000000</td>\n",
       "      <td>0.000000</td>\n",
       "      <td>0.000000</td>\n",
       "      <td>0.000000</td>\n",
       "      <td>0.000000</td>\n",
       "    </tr>\n",
       "    <tr>\n",
       "      <th>any_immunosuppression_unknown/No</th>\n",
       "      <td>1.000000</td>\n",
       "      <td>1.000000</td>\n",
       "      <td>1.000000</td>\n",
       "      <td>1.000000</td>\n",
       "      <td>1.000000</td>\n",
       "      <td>1.000000</td>\n",
       "      <td>1.000000</td>\n",
       "      <td>1.000000</td>\n",
       "      <td>1.000000</td>\n",
       "      <td>1.000000</td>\n",
       "      <td>...</td>\n",
       "      <td>1.000000</td>\n",
       "      <td>1.000000</td>\n",
       "      <td>1.000000</td>\n",
       "      <td>1.000000</td>\n",
       "      <td>1.000000</td>\n",
       "      <td>1.000000</td>\n",
       "      <td>1.000000</td>\n",
       "      <td>1.000000</td>\n",
       "      <td>1.000000</td>\n",
       "      <td>1.000000</td>\n",
       "    </tr>\n",
       "    <tr>\n",
       "      <th>symptoms___1.factor_Unchecked</th>\n",
       "      <td>0.000000</td>\n",
       "      <td>0.000000</td>\n",
       "      <td>0.000000</td>\n",
       "      <td>0.000000</td>\n",
       "      <td>1.000000</td>\n",
       "      <td>0.000000</td>\n",
       "      <td>0.000000</td>\n",
       "      <td>1.000000</td>\n",
       "      <td>0.000000</td>\n",
       "      <td>0.000000</td>\n",
       "      <td>...</td>\n",
       "      <td>1.000000</td>\n",
       "      <td>1.000000</td>\n",
       "      <td>0.000000</td>\n",
       "      <td>0.000000</td>\n",
       "      <td>0.000000</td>\n",
       "      <td>0.000000</td>\n",
       "      <td>0.000000</td>\n",
       "      <td>0.000000</td>\n",
       "      <td>0.000000</td>\n",
       "      <td>0.000000</td>\n",
       "    </tr>\n",
       "    <tr>\n",
       "      <th>symptoms___2.factor_Unchecked</th>\n",
       "      <td>0.000000</td>\n",
       "      <td>0.000000</td>\n",
       "      <td>0.000000</td>\n",
       "      <td>1.000000</td>\n",
       "      <td>0.000000</td>\n",
       "      <td>0.000000</td>\n",
       "      <td>0.000000</td>\n",
       "      <td>0.000000</td>\n",
       "      <td>1.000000</td>\n",
       "      <td>0.000000</td>\n",
       "      <td>...</td>\n",
       "      <td>0.000000</td>\n",
       "      <td>0.000000</td>\n",
       "      <td>0.000000</td>\n",
       "      <td>0.000000</td>\n",
       "      <td>0.000000</td>\n",
       "      <td>0.000000</td>\n",
       "      <td>1.000000</td>\n",
       "      <td>0.000000</td>\n",
       "      <td>1.000000</td>\n",
       "      <td>1.000000</td>\n",
       "    </tr>\n",
       "    <tr>\n",
       "      <th>symptoms___10.factor_Unchecked</th>\n",
       "      <td>1.000000</td>\n",
       "      <td>1.000000</td>\n",
       "      <td>1.000000</td>\n",
       "      <td>1.000000</td>\n",
       "      <td>1.000000</td>\n",
       "      <td>1.000000</td>\n",
       "      <td>0.000000</td>\n",
       "      <td>1.000000</td>\n",
       "      <td>0.000000</td>\n",
       "      <td>1.000000</td>\n",
       "      <td>...</td>\n",
       "      <td>1.000000</td>\n",
       "      <td>1.000000</td>\n",
       "      <td>1.000000</td>\n",
       "      <td>1.000000</td>\n",
       "      <td>1.000000</td>\n",
       "      <td>1.000000</td>\n",
       "      <td>1.000000</td>\n",
       "      <td>0.000000</td>\n",
       "      <td>0.000000</td>\n",
       "      <td>0.000000</td>\n",
       "    </tr>\n",
       "    <tr>\n",
       "      <th>symptoms___9.factor_Unchecked</th>\n",
       "      <td>1.000000</td>\n",
       "      <td>0.000000</td>\n",
       "      <td>1.000000</td>\n",
       "      <td>1.000000</td>\n",
       "      <td>1.000000</td>\n",
       "      <td>1.000000</td>\n",
       "      <td>1.000000</td>\n",
       "      <td>1.000000</td>\n",
       "      <td>1.000000</td>\n",
       "      <td>1.000000</td>\n",
       "      <td>...</td>\n",
       "      <td>1.000000</td>\n",
       "      <td>0.000000</td>\n",
       "      <td>0.000000</td>\n",
       "      <td>1.000000</td>\n",
       "      <td>1.000000</td>\n",
       "      <td>1.000000</td>\n",
       "      <td>1.000000</td>\n",
       "      <td>1.000000</td>\n",
       "      <td>1.000000</td>\n",
       "      <td>1.000000</td>\n",
       "    </tr>\n",
       "    <tr>\n",
       "      <th>symptoms___8.factor_Unchecked</th>\n",
       "      <td>1.000000</td>\n",
       "      <td>1.000000</td>\n",
       "      <td>1.000000</td>\n",
       "      <td>1.000000</td>\n",
       "      <td>1.000000</td>\n",
       "      <td>1.000000</td>\n",
       "      <td>0.000000</td>\n",
       "      <td>1.000000</td>\n",
       "      <td>1.000000</td>\n",
       "      <td>0.000000</td>\n",
       "      <td>...</td>\n",
       "      <td>1.000000</td>\n",
       "      <td>0.000000</td>\n",
       "      <td>0.000000</td>\n",
       "      <td>1.000000</td>\n",
       "      <td>1.000000</td>\n",
       "      <td>0.000000</td>\n",
       "      <td>1.000000</td>\n",
       "      <td>1.000000</td>\n",
       "      <td>1.000000</td>\n",
       "      <td>1.000000</td>\n",
       "    </tr>\n",
       "    <tr>\n",
       "      <th>symptoms___3.factor_Unchecked</th>\n",
       "      <td>0.000000</td>\n",
       "      <td>0.000000</td>\n",
       "      <td>1.000000</td>\n",
       "      <td>1.000000</td>\n",
       "      <td>0.000000</td>\n",
       "      <td>0.000000</td>\n",
       "      <td>0.000000</td>\n",
       "      <td>0.000000</td>\n",
       "      <td>1.000000</td>\n",
       "      <td>0.000000</td>\n",
       "      <td>...</td>\n",
       "      <td>0.000000</td>\n",
       "      <td>0.000000</td>\n",
       "      <td>0.000000</td>\n",
       "      <td>0.000000</td>\n",
       "      <td>0.000000</td>\n",
       "      <td>0.000000</td>\n",
       "      <td>1.000000</td>\n",
       "      <td>1.000000</td>\n",
       "      <td>1.000000</td>\n",
       "      <td>0.000000</td>\n",
       "    </tr>\n",
       "    <tr>\n",
       "      <th>first_cxr_results___0.factor_Unchecked</th>\n",
       "      <td>1.000000</td>\n",
       "      <td>1.000000</td>\n",
       "      <td>1.000000</td>\n",
       "      <td>1.000000</td>\n",
       "      <td>1.000000</td>\n",
       "      <td>1.000000</td>\n",
       "      <td>1.000000</td>\n",
       "      <td>1.000000</td>\n",
       "      <td>1.000000</td>\n",
       "      <td>1.000000</td>\n",
       "      <td>...</td>\n",
       "      <td>1.000000</td>\n",
       "      <td>1.000000</td>\n",
       "      <td>1.000000</td>\n",
       "      <td>0.000000</td>\n",
       "      <td>1.000000</td>\n",
       "      <td>1.000000</td>\n",
       "      <td>1.000000</td>\n",
       "      <td>1.000000</td>\n",
       "      <td>0.000000</td>\n",
       "      <td>1.000000</td>\n",
       "    </tr>\n",
       "    <tr>\n",
       "      <th>first_cxr_results___1.factor_Unchecked</th>\n",
       "      <td>1.000000</td>\n",
       "      <td>1.000000</td>\n",
       "      <td>1.000000</td>\n",
       "      <td>0.000000</td>\n",
       "      <td>1.000000</td>\n",
       "      <td>1.000000</td>\n",
       "      <td>0.000000</td>\n",
       "      <td>1.000000</td>\n",
       "      <td>1.000000</td>\n",
       "      <td>1.000000</td>\n",
       "      <td>...</td>\n",
       "      <td>1.000000</td>\n",
       "      <td>1.000000</td>\n",
       "      <td>0.000000</td>\n",
       "      <td>0.000000</td>\n",
       "      <td>0.000000</td>\n",
       "      <td>1.000000</td>\n",
       "      <td>1.000000</td>\n",
       "      <td>1.000000</td>\n",
       "      <td>0.000000</td>\n",
       "      <td>1.000000</td>\n",
       "    </tr>\n",
       "    <tr>\n",
       "      <th>first_cxr_results___2.factor_Unchecked</th>\n",
       "      <td>0.000000</td>\n",
       "      <td>0.000000</td>\n",
       "      <td>0.000000</td>\n",
       "      <td>1.000000</td>\n",
       "      <td>0.000000</td>\n",
       "      <td>1.000000</td>\n",
       "      <td>0.000000</td>\n",
       "      <td>0.000000</td>\n",
       "      <td>0.000000</td>\n",
       "      <td>0.000000</td>\n",
       "      <td>...</td>\n",
       "      <td>0.000000</td>\n",
       "      <td>1.000000</td>\n",
       "      <td>0.000000</td>\n",
       "      <td>1.000000</td>\n",
       "      <td>0.000000</td>\n",
       "      <td>0.000000</td>\n",
       "      <td>1.000000</td>\n",
       "      <td>0.000000</td>\n",
       "      <td>0.000000</td>\n",
       "      <td>1.000000</td>\n",
       "    </tr>\n",
       "    <tr>\n",
       "      <th>first_cxr_results___3.factor_Unchecked</th>\n",
       "      <td>1.000000</td>\n",
       "      <td>1.000000</td>\n",
       "      <td>1.000000</td>\n",
       "      <td>1.000000</td>\n",
       "      <td>1.000000</td>\n",
       "      <td>1.000000</td>\n",
       "      <td>1.000000</td>\n",
       "      <td>1.000000</td>\n",
       "      <td>1.000000</td>\n",
       "      <td>1.000000</td>\n",
       "      <td>...</td>\n",
       "      <td>1.000000</td>\n",
       "      <td>1.000000</td>\n",
       "      <td>1.000000</td>\n",
       "      <td>1.000000</td>\n",
       "      <td>1.000000</td>\n",
       "      <td>1.000000</td>\n",
       "      <td>1.000000</td>\n",
       "      <td>1.000000</td>\n",
       "      <td>1.000000</td>\n",
       "      <td>0.000000</td>\n",
       "    </tr>\n",
       "    <tr>\n",
       "      <th>Ed_before_order_set_Yes</th>\n",
       "      <td>0.000000</td>\n",
       "      <td>1.000000</td>\n",
       "      <td>0.000000</td>\n",
       "      <td>0.000000</td>\n",
       "      <td>1.000000</td>\n",
       "      <td>1.000000</td>\n",
       "      <td>1.000000</td>\n",
       "      <td>0.000000</td>\n",
       "      <td>0.000000</td>\n",
       "      <td>1.000000</td>\n",
       "      <td>...</td>\n",
       "      <td>0.000000</td>\n",
       "      <td>1.000000</td>\n",
       "      <td>1.000000</td>\n",
       "      <td>1.000000</td>\n",
       "      <td>1.000000</td>\n",
       "      <td>0.000000</td>\n",
       "      <td>1.000000</td>\n",
       "      <td>0.000000</td>\n",
       "      <td>1.000000</td>\n",
       "      <td>0.000000</td>\n",
       "    </tr>\n",
       "  </tbody>\n",
       "</table>\n",
       "<p>41 rows × 1345 columns</p>\n",
       "</div>"
      ],
      "text/plain": [
       "                                              0           1           2     \\\n",
       "Age                                      62.321679   78.625586   70.460677   \n",
       "bmi                                      20.388645   27.554594   34.141729   \n",
       "duration_symptoms                         8.000000   20.000000    9.000000   \n",
       "event                                     1.000000    1.000000    0.000000   \n",
       "s_bp_noninvasive(d)Avg                   61.162459   58.777900   60.488792   \n",
       "vs_bp_noninvasive(s)Avg                 129.902067  128.472046  129.666909   \n",
       "vs_hr_hrAvg                              72.801656   72.903227   74.767961   \n",
       "xp_resp_rate_ptAvg                       30.400445   29.859476   29.835982   \n",
       "xp_resp_spo2Avg                          91.445496   92.746338   91.200127   \n",
       "s_bp_noninvasive(d)Min                   55.864589   54.336709   53.678706   \n",
       "vs_bp_noninvasive(s)Min                 124.909075  125.390764  124.513776   \n",
       "vs_hr_hrMin                              66.680792   66.978891   71.122778   \n",
       "xp_resp_rate_ptMin                       27.394691   28.576244   23.515832   \n",
       "xp_resp_spo2Min                          85.851285   86.892212   87.472743   \n",
       "s_bp_noninvasive(d)Max                   65.358869   62.797679   64.848642   \n",
       "vs_bp_noninvasive(s)Max                 134.885183  135.156700  135.640160   \n",
       "vs_hr_hrMax                              77.408236   77.364256   81.120618   \n",
       "xp_resp_rate_ptMax                       33.976935   31.598743   34.848911   \n",
       "xp_resp_spo2Max                          99.261517   96.216565   94.663084   \n",
       "sex.factor_Male                           1.000000    0.000000    0.000000   \n",
       "hypoxia_ed.factor_Yes                     0.000000    1.000000    1.000000   \n",
       "smoke_vape_Yes                            0.000000    0.000000    0.000000   \n",
       "dm.factor_Yes                             0.000000    1.000000    1.000000   \n",
       "htn.factor_Yes                            1.000000    1.000000    1.000000   \n",
       "pulm___1.factor_Unchecked                 1.000000    1.000000    1.000000   \n",
       "renal___1.factor_Unchecked                1.000000    1.000000    1.000000   \n",
       "renal___2.factor_Unchecked                1.000000    1.000000    1.000000   \n",
       "cad.factor_Yes                            0.000000    0.000000    1.000000   \n",
       "cancer_Yes                                0.000000    0.000000    0.000000   \n",
       "any_immunosuppression_unknown/No          1.000000    1.000000    1.000000   \n",
       "symptoms___1.factor_Unchecked             0.000000    0.000000    0.000000   \n",
       "symptoms___2.factor_Unchecked             0.000000    0.000000    0.000000   \n",
       "symptoms___10.factor_Unchecked            1.000000    1.000000    1.000000   \n",
       "symptoms___9.factor_Unchecked             1.000000    0.000000    1.000000   \n",
       "symptoms___8.factor_Unchecked             1.000000    1.000000    1.000000   \n",
       "symptoms___3.factor_Unchecked             0.000000    0.000000    1.000000   \n",
       "first_cxr_results___0.factor_Unchecked    1.000000    1.000000    1.000000   \n",
       "first_cxr_results___1.factor_Unchecked    1.000000    1.000000    1.000000   \n",
       "first_cxr_results___2.factor_Unchecked    0.000000    0.000000    0.000000   \n",
       "first_cxr_results___3.factor_Unchecked    1.000000    1.000000    1.000000   \n",
       "Ed_before_order_set_Yes                   0.000000    1.000000    0.000000   \n",
       "\n",
       "                                              3           4           5     \\\n",
       "Age                                      59.043149   90.477229   70.614480   \n",
       "bmi                                      19.833296   19.858003   28.132920   \n",
       "duration_symptoms                         7.000000   25.000000    6.000000   \n",
       "event                                     0.000000    0.000000    1.000000   \n",
       "s_bp_noninvasive(d)Avg                   59.276564   59.334065   60.984211   \n",
       "vs_bp_noninvasive(s)Avg                 131.727024  129.495319  129.841418   \n",
       "vs_hr_hrAvg                              76.640413   77.028180   74.087811   \n",
       "xp_resp_rate_ptAvg                       30.124052   28.720727   30.585173   \n",
       "xp_resp_spo2Avg                          92.662587   91.492369   92.468985   \n",
       "s_bp_noninvasive(d)Min                   55.895045   57.022347   55.133744   \n",
       "vs_bp_noninvasive(s)Min                 126.102565  125.715506  126.145770   \n",
       "vs_hr_hrMin                              72.864779   72.893187   71.730249   \n",
       "xp_resp_rate_ptMin                       25.249702   24.693358   26.446381   \n",
       "xp_resp_spo2Min                          87.810329   86.366743   86.168101   \n",
       "s_bp_noninvasive(d)Max                   62.823134   62.964323   65.961985   \n",
       "vs_bp_noninvasive(s)Max                 137.934264  133.997336  133.047941   \n",
       "vs_hr_hrMax                              79.806152   80.893087   76.672076   \n",
       "xp_resp_rate_ptMax                       33.890384   34.020580   36.557598   \n",
       "xp_resp_spo2Max                          97.485132   94.581302   97.183643   \n",
       "sex.factor_Male                           1.000000    1.000000    0.000000   \n",
       "hypoxia_ed.factor_Yes                     1.000000    0.000000    1.000000   \n",
       "smoke_vape_Yes                            1.000000    0.000000    1.000000   \n",
       "dm.factor_Yes                             1.000000    1.000000    1.000000   \n",
       "htn.factor_Yes                            0.000000    1.000000    0.000000   \n",
       "pulm___1.factor_Unchecked                 1.000000    1.000000    1.000000   \n",
       "renal___1.factor_Unchecked                1.000000    1.000000    1.000000   \n",
       "renal___2.factor_Unchecked                1.000000    1.000000    1.000000   \n",
       "cad.factor_Yes                            1.000000    0.000000    0.000000   \n",
       "cancer_Yes                                0.000000    0.000000    0.000000   \n",
       "any_immunosuppression_unknown/No          1.000000    1.000000    1.000000   \n",
       "symptoms___1.factor_Unchecked             0.000000    1.000000    0.000000   \n",
       "symptoms___2.factor_Unchecked             1.000000    0.000000    0.000000   \n",
       "symptoms___10.factor_Unchecked            1.000000    1.000000    1.000000   \n",
       "symptoms___9.factor_Unchecked             1.000000    1.000000    1.000000   \n",
       "symptoms___8.factor_Unchecked             1.000000    1.000000    1.000000   \n",
       "symptoms___3.factor_Unchecked             1.000000    0.000000    0.000000   \n",
       "first_cxr_results___0.factor_Unchecked    1.000000    1.000000    1.000000   \n",
       "first_cxr_results___1.factor_Unchecked    0.000000    1.000000    1.000000   \n",
       "first_cxr_results___2.factor_Unchecked    1.000000    0.000000    1.000000   \n",
       "first_cxr_results___3.factor_Unchecked    1.000000    1.000000    1.000000   \n",
       "Ed_before_order_set_Yes                   0.000000    1.000000    1.000000   \n",
       "\n",
       "                                              6           7           8     \\\n",
       "Age                                      72.287110   47.817602   62.987040   \n",
       "bmi                                      34.979119   26.842840   33.686343   \n",
       "duration_symptoms                         7.000000    9.000000   13.000000   \n",
       "event                                     0.000000    1.000000    0.000000   \n",
       "s_bp_noninvasive(d)Avg                   59.897450   61.397920   61.840342   \n",
       "vs_bp_noninvasive(s)Avg                 130.217326  128.044415  131.396879   \n",
       "vs_hr_hrAvg                              74.162966   74.796017   75.442723   \n",
       "xp_resp_rate_ptAvg                       29.610647   29.200154   30.456923   \n",
       "xp_resp_spo2Avg                          93.356742   91.804319   91.481816   \n",
       "s_bp_noninvasive(d)Min                   54.655280   56.107933   58.355740   \n",
       "vs_bp_noninvasive(s)Min                 125.596104  122.365724  126.471156   \n",
       "vs_hr_hrMin                              70.091088   70.915929   70.890645   \n",
       "xp_resp_rate_ptMin                       24.346727   25.507836   22.479352   \n",
       "xp_resp_spo2Min                          88.725538   88.059046   86.947783   \n",
       "s_bp_noninvasive(d)Max                   64.355479   65.219153   64.911450   \n",
       "vs_bp_noninvasive(s)Max                 133.014438  134.984005  136.689796   \n",
       "vs_hr_hrMax                              77.670789   79.297417   81.848626   \n",
       "xp_resp_rate_ptMax                       34.525262   31.739129   37.134086   \n",
       "xp_resp_spo2Max                          98.085754   95.975133   95.019284   \n",
       "sex.factor_Male                           1.000000    0.000000    1.000000   \n",
       "hypoxia_ed.factor_Yes                     0.000000    1.000000    1.000000   \n",
       "smoke_vape_Yes                            0.000000    0.000000    0.000000   \n",
       "dm.factor_Yes                             0.000000    0.000000    0.000000   \n",
       "htn.factor_Yes                            0.000000    1.000000    0.000000   \n",
       "pulm___1.factor_Unchecked                 1.000000    1.000000    1.000000   \n",
       "renal___1.factor_Unchecked                1.000000    1.000000    1.000000   \n",
       "renal___2.factor_Unchecked                1.000000    1.000000    1.000000   \n",
       "cad.factor_Yes                            0.000000    0.000000    0.000000   \n",
       "cancer_Yes                                0.000000    0.000000    0.000000   \n",
       "any_immunosuppression_unknown/No          1.000000    1.000000    1.000000   \n",
       "symptoms___1.factor_Unchecked             0.000000    1.000000    0.000000   \n",
       "symptoms___2.factor_Unchecked             0.000000    0.000000    1.000000   \n",
       "symptoms___10.factor_Unchecked            0.000000    1.000000    0.000000   \n",
       "symptoms___9.factor_Unchecked             1.000000    1.000000    1.000000   \n",
       "symptoms___8.factor_Unchecked             0.000000    1.000000    1.000000   \n",
       "symptoms___3.factor_Unchecked             0.000000    0.000000    1.000000   \n",
       "first_cxr_results___0.factor_Unchecked    1.000000    1.000000    1.000000   \n",
       "first_cxr_results___1.factor_Unchecked    0.000000    1.000000    1.000000   \n",
       "first_cxr_results___2.factor_Unchecked    0.000000    0.000000    0.000000   \n",
       "first_cxr_results___3.factor_Unchecked    1.000000    1.000000    1.000000   \n",
       "Ed_before_order_set_Yes                   1.000000    0.000000    0.000000   \n",
       "\n",
       "                                              9     ...        1335  \\\n",
       "Age                                      76.243595  ...   89.336410   \n",
       "bmi                                      21.458219  ...   33.719737   \n",
       "duration_symptoms                         8.000000  ...   10.000000   \n",
       "event                                     0.000000  ...    0.000000   \n",
       "s_bp_noninvasive(d)Avg                   62.030968  ...   61.453748   \n",
       "vs_bp_noninvasive(s)Avg                 131.425096  ...  129.499923   \n",
       "vs_hr_hrAvg                              74.660892  ...   74.215717   \n",
       "xp_resp_rate_ptAvg                       30.009413  ...   27.753587   \n",
       "xp_resp_spo2Avg                          92.257381  ...   92.757866   \n",
       "s_bp_noninvasive(d)Min                   56.695903  ...   57.543847   \n",
       "vs_bp_noninvasive(s)Min                 126.197437  ...  123.036936   \n",
       "vs_hr_hrMin                              70.297013  ...   69.760470   \n",
       "xp_resp_rate_ptMin                       27.136237  ...   22.770039   \n",
       "xp_resp_spo2Min                          87.429683  ...   87.900008   \n",
       "s_bp_noninvasive(d)Max                   66.733049  ...   64.144905   \n",
       "vs_bp_noninvasive(s)Max                 135.551927  ...  134.112689   \n",
       "vs_hr_hrMax                              77.888161  ...   78.503798   \n",
       "xp_resp_rate_ptMax                       32.961751  ...   34.006375   \n",
       "xp_resp_spo2Max                          97.713909  ...   98.194255   \n",
       "sex.factor_Male                           1.000000  ...    1.000000   \n",
       "hypoxia_ed.factor_Yes                     0.000000  ...    0.000000   \n",
       "smoke_vape_Yes                            0.000000  ...    0.000000   \n",
       "dm.factor_Yes                             0.000000  ...    0.000000   \n",
       "htn.factor_Yes                            1.000000  ...    0.000000   \n",
       "pulm___1.factor_Unchecked                 1.000000  ...    0.000000   \n",
       "renal___1.factor_Unchecked                1.000000  ...    1.000000   \n",
       "renal___2.factor_Unchecked                1.000000  ...    1.000000   \n",
       "cad.factor_Yes                            0.000000  ...    0.000000   \n",
       "cancer_Yes                                0.000000  ...    0.000000   \n",
       "any_immunosuppression_unknown/No          1.000000  ...    1.000000   \n",
       "symptoms___1.factor_Unchecked             0.000000  ...    1.000000   \n",
       "symptoms___2.factor_Unchecked             0.000000  ...    0.000000   \n",
       "symptoms___10.factor_Unchecked            1.000000  ...    1.000000   \n",
       "symptoms___9.factor_Unchecked             1.000000  ...    1.000000   \n",
       "symptoms___8.factor_Unchecked             0.000000  ...    1.000000   \n",
       "symptoms___3.factor_Unchecked             0.000000  ...    0.000000   \n",
       "first_cxr_results___0.factor_Unchecked    1.000000  ...    1.000000   \n",
       "first_cxr_results___1.factor_Unchecked    1.000000  ...    1.000000   \n",
       "first_cxr_results___2.factor_Unchecked    0.000000  ...    0.000000   \n",
       "first_cxr_results___3.factor_Unchecked    1.000000  ...    1.000000   \n",
       "Ed_before_order_set_Yes                   1.000000  ...    0.000000   \n",
       "\n",
       "                                              1336        1337        1338  \\\n",
       "Age                                      77.719834   40.176299   84.430982   \n",
       "bmi                                      18.668466   26.296768   30.421071   \n",
       "duration_symptoms                         8.000000   11.000000    2.000000   \n",
       "event                                     0.000000    1.000000    0.000000   \n",
       "s_bp_noninvasive(d)Avg                   60.483824   59.110603   58.678820   \n",
       "vs_bp_noninvasive(s)Avg                 130.496255  130.524107  130.315339   \n",
       "vs_hr_hrAvg                              74.741867   73.650188   76.233757   \n",
       "xp_resp_rate_ptAvg                       30.774337   29.576207   27.964381   \n",
       "xp_resp_spo2Avg                          92.425630   93.265451   92.263874   \n",
       "s_bp_noninvasive(d)Min                   57.351856   56.167504   53.119753   \n",
       "vs_bp_noninvasive(s)Min                 124.807902  125.555075  124.043823   \n",
       "vs_hr_hrMin                              70.216553   68.854057   73.670997   \n",
       "xp_resp_rate_ptMin                       27.109440   26.190052   23.344522   \n",
       "xp_resp_spo2Min                          86.914004   90.328672   88.459388   \n",
       "s_bp_noninvasive(d)Max                   63.048294   64.193958   63.727311   \n",
       "vs_bp_noninvasive(s)Max                 139.605102  134.159431  134.345792   \n",
       "vs_hr_hrMax                              79.244469   77.797535   77.954437   \n",
       "xp_resp_rate_ptMax                       34.242850   34.304705   30.584578   \n",
       "xp_resp_spo2Max                          99.518970   95.939092   97.629691   \n",
       "sex.factor_Male                           1.000000    1.000000    0.000000   \n",
       "hypoxia_ed.factor_Yes                     0.000000    0.000000    0.000000   \n",
       "smoke_vape_Yes                            0.000000    0.000000    0.000000   \n",
       "dm.factor_Yes                             0.000000    1.000000    1.000000   \n",
       "htn.factor_Yes                            1.000000    1.000000    1.000000   \n",
       "pulm___1.factor_Unchecked                 1.000000    1.000000    1.000000   \n",
       "renal___1.factor_Unchecked                1.000000    1.000000    1.000000   \n",
       "renal___2.factor_Unchecked                0.000000    1.000000    1.000000   \n",
       "cad.factor_Yes                            0.000000    0.000000    0.000000   \n",
       "cancer_Yes                                0.000000    0.000000    0.000000   \n",
       "any_immunosuppression_unknown/No          1.000000    1.000000    1.000000   \n",
       "symptoms___1.factor_Unchecked             1.000000    0.000000    0.000000   \n",
       "symptoms___2.factor_Unchecked             0.000000    0.000000    0.000000   \n",
       "symptoms___10.factor_Unchecked            1.000000    1.000000    1.000000   \n",
       "symptoms___9.factor_Unchecked             0.000000    0.000000    1.000000   \n",
       "symptoms___8.factor_Unchecked             0.000000    0.000000    1.000000   \n",
       "symptoms___3.factor_Unchecked             0.000000    0.000000    0.000000   \n",
       "first_cxr_results___0.factor_Unchecked    1.000000    1.000000    0.000000   \n",
       "first_cxr_results___1.factor_Unchecked    1.000000    0.000000    0.000000   \n",
       "first_cxr_results___2.factor_Unchecked    1.000000    0.000000    1.000000   \n",
       "first_cxr_results___3.factor_Unchecked    1.000000    1.000000    1.000000   \n",
       "Ed_before_order_set_Yes                   1.000000    1.000000    1.000000   \n",
       "\n",
       "                                              1339        1340        1341  \\\n",
       "Age                                     108.897797   43.972308   31.864515   \n",
       "bmi                                      35.377276   29.990926   28.560150   \n",
       "duration_symptoms                         2.000000    9.000000   12.000000   \n",
       "event                                     0.000000    1.000000    0.000000   \n",
       "s_bp_noninvasive(d)Avg                   58.011014   60.377749   62.284739   \n",
       "vs_bp_noninvasive(s)Avg                 128.495680  129.318512  129.634777   \n",
       "vs_hr_hrAvg                              74.535166   73.589357   74.987461   \n",
       "xp_resp_rate_ptAvg                       30.392787   28.912006   30.351910   \n",
       "xp_resp_spo2Avg                          92.364296   93.633057   92.314679   \n",
       "s_bp_noninvasive(d)Min                   53.610272   56.207150   59.918367   \n",
       "vs_bp_noninvasive(s)Min                 122.809358  121.871790  124.279389   \n",
       "vs_hr_hrMin                              70.456635   69.770945   70.349831   \n",
       "xp_resp_rate_ptMin                       26.640124   22.960260   24.681062   \n",
       "xp_resp_spo2Min                          87.857482   87.711207   86.655135   \n",
       "s_bp_noninvasive(d)Max                   62.317588   65.554279   65.359320   \n",
       "vs_bp_noninvasive(s)Max                 133.029124  135.522841  134.478388   \n",
       "vs_hr_hrMax                              81.446642   76.711323   78.548130   \n",
       "xp_resp_rate_ptMax                       34.558815   33.359952   36.926688   \n",
       "xp_resp_spo2Max                          96.882368   98.279209   97.557219   \n",
       "sex.factor_Male                           0.000000    0.000000    1.000000   \n",
       "hypoxia_ed.factor_Yes                     0.000000    0.000000    0.000000   \n",
       "smoke_vape_Yes                            1.000000    0.000000    1.000000   \n",
       "dm.factor_Yes                             0.000000    1.000000    1.000000   \n",
       "htn.factor_Yes                            0.000000    0.000000    1.000000   \n",
       "pulm___1.factor_Unchecked                 1.000000    0.000000    1.000000   \n",
       "renal___1.factor_Unchecked                1.000000    1.000000    1.000000   \n",
       "renal___2.factor_Unchecked                1.000000    1.000000    1.000000   \n",
       "cad.factor_Yes                            0.000000    0.000000    0.000000   \n",
       "cancer_Yes                                0.000000    0.000000    0.000000   \n",
       "any_immunosuppression_unknown/No          1.000000    1.000000    1.000000   \n",
       "symptoms___1.factor_Unchecked             0.000000    0.000000    0.000000   \n",
       "symptoms___2.factor_Unchecked             0.000000    0.000000    1.000000   \n",
       "symptoms___10.factor_Unchecked            1.000000    1.000000    1.000000   \n",
       "symptoms___9.factor_Unchecked             1.000000    1.000000    1.000000   \n",
       "symptoms___8.factor_Unchecked             1.000000    0.000000    1.000000   \n",
       "symptoms___3.factor_Unchecked             0.000000    0.000000    1.000000   \n",
       "first_cxr_results___0.factor_Unchecked    1.000000    1.000000    1.000000   \n",
       "first_cxr_results___1.factor_Unchecked    0.000000    1.000000    1.000000   \n",
       "first_cxr_results___2.factor_Unchecked    0.000000    0.000000    1.000000   \n",
       "first_cxr_results___3.factor_Unchecked    1.000000    1.000000    1.000000   \n",
       "Ed_before_order_set_Yes                   1.000000    0.000000    1.000000   \n",
       "\n",
       "                                              1342        1343        1344  \n",
       "Age                                      20.301802   98.249858   64.086610  \n",
       "bmi                                      25.636694   22.520367   28.502931  \n",
       "duration_symptoms                         3.000000    6.000000    2.000000  \n",
       "event                                     1.000000    0.000000    1.000000  \n",
       "s_bp_noninvasive(d)Avg                   60.810227   59.640382   61.267579  \n",
       "vs_bp_noninvasive(s)Avg                 131.418772  130.406128  130.142080  \n",
       "vs_hr_hrAvg                              75.715752   75.813503   75.010405  \n",
       "xp_resp_rate_ptAvg                       28.935384   30.712350   30.456829  \n",
       "xp_resp_spo2Avg                          91.513000   90.838096   89.991002  \n",
       "s_bp_noninvasive(d)Min                   57.188709   55.718947   55.836901  \n",
       "vs_bp_noninvasive(s)Min                 126.935342  125.499449  126.570306  \n",
       "vs_hr_hrMin                              71.969835   68.774438   70.351842  \n",
       "xp_resp_rate_ptMin                       23.943344   26.290824   25.817317  \n",
       "xp_resp_spo2Min                          84.104855   86.187564   85.666258  \n",
       "s_bp_noninvasive(d)Max                   63.439188   63.536994   65.073735  \n",
       "vs_bp_noninvasive(s)Max                 136.409593  135.409592  134.407157  \n",
       "vs_hr_hrMax                              81.046422   81.212623   80.125158  \n",
       "xp_resp_rate_ptMax                       33.013986   34.752158   33.975141  \n",
       "xp_resp_spo2Max                          98.395703   95.929976   95.061641  \n",
       "sex.factor_Male                           1.000000    1.000000    0.000000  \n",
       "hypoxia_ed.factor_Yes                     0.000000    0.000000    1.000000  \n",
       "smoke_vape_Yes                            1.000000    0.000000    1.000000  \n",
       "dm.factor_Yes                             0.000000    0.000000    0.000000  \n",
       "htn.factor_Yes                            0.000000    1.000000    1.000000  \n",
       "pulm___1.factor_Unchecked                 1.000000    1.000000    1.000000  \n",
       "renal___1.factor_Unchecked                1.000000    1.000000    1.000000  \n",
       "renal___2.factor_Unchecked                1.000000    1.000000    1.000000  \n",
       "cad.factor_Yes                            0.000000    1.000000    1.000000  \n",
       "cancer_Yes                                0.000000    0.000000    0.000000  \n",
       "any_immunosuppression_unknown/No          1.000000    1.000000    1.000000  \n",
       "symptoms___1.factor_Unchecked             0.000000    0.000000    0.000000  \n",
       "symptoms___2.factor_Unchecked             0.000000    1.000000    1.000000  \n",
       "symptoms___10.factor_Unchecked            0.000000    0.000000    0.000000  \n",
       "symptoms___9.factor_Unchecked             1.000000    1.000000    1.000000  \n",
       "symptoms___8.factor_Unchecked             1.000000    1.000000    1.000000  \n",
       "symptoms___3.factor_Unchecked             1.000000    1.000000    0.000000  \n",
       "first_cxr_results___0.factor_Unchecked    1.000000    0.000000    1.000000  \n",
       "first_cxr_results___1.factor_Unchecked    1.000000    0.000000    1.000000  \n",
       "first_cxr_results___2.factor_Unchecked    0.000000    0.000000    1.000000  \n",
       "first_cxr_results___3.factor_Unchecked    1.000000    1.000000    0.000000  \n",
       "Ed_before_order_set_Yes                   0.000000    1.000000    0.000000  \n",
       "\n",
       "[41 rows x 1345 columns]"
      ]
     },
     "execution_count": 36,
     "metadata": {},
     "output_type": "execute_result"
    }
   ],
   "source": [
    "final_data = pd.get_dummies(combined.drop(columns=['subject']),drop_first = True)\n",
    "final_data.T"
   ]
  },
  {
   "cell_type": "code",
   "execution_count": 37,
   "metadata": {},
   "outputs": [],
   "source": [
    "from sklearn.model_selection import train_test_split\n",
    "X = final_data.drop('event',axis=1)\n",
    "y = final_data['event']\n",
    "X_train, X_test, y_train, y_test = train_test_split(X, y, test_size=0.30, random_state=101)"
   ]
  },
  {
   "cell_type": "code",
   "execution_count": 38,
   "metadata": {},
   "outputs": [
    {
     "data": {
      "text/plain": [
       "DecisionTreeClassifier(ccp_alpha=0.0, class_weight=None, criterion='gini',\n",
       "                       max_depth=None, max_features=None, max_leaf_nodes=None,\n",
       "                       min_impurity_decrease=0.0, min_impurity_split=None,\n",
       "                       min_samples_leaf=1, min_samples_split=2,\n",
       "                       min_weight_fraction_leaf=0.0, presort=False,\n",
       "                       random_state=None, splitter='best')"
      ]
     },
     "execution_count": 38,
     "metadata": {},
     "output_type": "execute_result"
    }
   ],
   "source": [
    "dtree = DecisionTreeClassifier()\n",
    "dtree.fit(X_train,y_train)\n",
    "DecisionTreeClassifier(class_weight=None, criterion='gini', max_depth=None, max_features=None, max_leaf_nodes=None,min_impurity_decrease=0.0, min_impurity_split=None,\n",
    "            min_samples_leaf=1, min_samples_split=2,min_weight_fraction_leaf=0.0, presort=False, random_state=None,splitter='best')"
   ]
  },
  {
   "cell_type": "code",
   "execution_count": 39,
   "metadata": {},
   "outputs": [
    {
     "name": "stdout",
     "output_type": "stream",
     "text": [
      "              precision    recall  f1-score   support\n",
      "\n",
      "           0       0.67      0.68      0.67       210\n",
      "           1       0.65      0.64      0.64       194\n",
      "\n",
      "    accuracy                           0.66       404\n",
      "   macro avg       0.66      0.66      0.66       404\n",
      "weighted avg       0.66      0.66      0.66       404\n",
      "\n"
     ]
    },
    {
     "data": {
      "text/plain": [
       "<matplotlib.axes._subplots.AxesSubplot at 0x7f5a65658090>"
      ]
     },
     "execution_count": 39,
     "metadata": {},
     "output_type": "execute_result"
    },
    {
     "data": {
      "image/png": "[encoded data removed]",
      "text/plain": [
       "<Figure size 432x288 with 2 Axes>"
      ]
     },
     "metadata": {
      "needs_background": "light"
     },
     "output_type": "display_data"
    }
   ],
   "source": [
    "#Decision Tree\n",
    "predictions = dtree.predict(X_test)\n",
    "\n",
    "from sklearn.metrics import classification_report,confusion_matrix\n",
    "print(classification_report(y_test,predictions))\n",
    "#print(confusion_matrix(y_test,predictions))\n",
    "cm = confusion_matrix(y_test,predictions)\n",
    "sns.heatmap(cm,annot=True,fmt=\"d\")"
   ]
  },
  {
   "cell_type": "code",
   "execution_count": 40,
   "metadata": {},
   "outputs": [
    {
     "data": {
      "text/plain": [
       "RandomForestClassifier(bootstrap=True, ccp_alpha=0.0, class_weight=None,\n",
       "                       criterion='gini', max_depth=None, max_features='auto',\n",
       "                       max_leaf_nodes=None, max_samples=None,\n",
       "                       min_impurity_decrease=0.0, min_impurity_split=None,\n",
       "                       min_samples_leaf=1, min_samples_split=2,\n",
       "                       min_weight_fraction_leaf=0.0, n_estimators=600, n_jobs=1,\n",
       "                       oob_score=False, random_state=None, verbose=0,\n",
       "                       warm_start=False)"
      ]
     },
     "execution_count": 40,
     "metadata": {},
     "output_type": "execute_result"
    }
   ],
   "source": [
    "#Random Forest{Since there are a large number of categorical variables, random forests is preferred over logistic regression.}\n",
    "rfc = RandomForestClassifier(bootstrap=True, class_weight=None, criterion='gini',\n",
    "            max_depth=None, max_features='auto', max_leaf_nodes=None,\n",
    "            min_impurity_decrease=0.0, min_impurity_split=None,\n",
    "            min_samples_leaf=1, min_samples_split=2,\n",
    "            min_weight_fraction_leaf=0.0, n_estimators=600, n_jobs=1,\n",
    "            oob_score=False, random_state=None, verbose=0,\n",
    "            warm_start=False)\n",
    "rfc.fit(X_train,y_train)"
   ]
  },
  {
   "cell_type": "code",
   "execution_count": 41,
   "metadata": {},
   "outputs": [
    {
     "name": "stdout",
     "output_type": "stream",
     "text": [
      "              precision    recall  f1-score   support\n",
      "\n",
      "           0       0.78      0.78      0.78       210\n",
      "           1       0.76      0.76      0.76       194\n",
      "\n",
      "    accuracy                           0.77       404\n",
      "   macro avg       0.77      0.77      0.77       404\n",
      "weighted avg       0.77      0.77      0.77       404\n",
      "\n"
     ]
    },
    {
     "data": {
      "text/plain": [
       "<matplotlib.axes._subplots.AxesSubplot at 0x7f5a654baa50>"
      ]
     },
     "execution_count": 41,
     "metadata": {},
     "output_type": "execute_result"
    },
    {
     "data": {
      "image/png": "[encoded data removed]",
      "text/plain": [
       "<Figure size 432x288 with 2 Axes>"
      ]
     },
     "metadata": {
      "needs_background": "light"
     },
     "output_type": "display_data"
    }
   ],
   "source": [
    "predrndmforest = rfc.predict(X_test)\n",
    "print(classification_report(y_test,predrndmforest))\n",
    "cm = confusion_matrix(y_test,predrndmforest)\n",
    "sns.heatmap(cm,annot=True,fmt=\"d\")"
   ]
  },
  {
   "cell_type": "markdown",
   "metadata": {},
   "source": [
    "#### Important Features:"
   ]
  },
  {
   "cell_type": "code",
   "execution_count": 42,
   "metadata": {},
   "outputs": [
    {
     "name": "stdout",
     "output_type": "stream",
     "text": [
      "Age = 0.14060426449631785\n",
      "vs_hr_hrAvg = 0.10382406005760644\n",
      "bmi = 0.08459819780780369\n",
      "s_bp_noninvasive(d)Avg = 0.0594602297085153\n",
      "s_bp_noninvasive(d)Max = 0.05523497528682171\n",
      "vs_hr_hrMin = 0.05324295193379179\n",
      "vs_hr_hrMax = 0.04998367113283509\n",
      "vs_bp_noninvasive(s)Avg = 0.03927326248962031\n",
      "xp_resp_spo2Max = 0.03479243199327022\n",
      "vs_bp_noninvasive(s)Max = 0.03442303140898221\n",
      "xp_resp_spo2Min = 0.03304502715186575\n",
      "s_bp_noninvasive(d)Min = 0.0327959339824841\n",
      "xp_resp_rate_ptMin = 0.03192621316300276\n",
      "vs_bp_noninvasive(s)Min = 0.0317815957649185\n",
      "xp_resp_spo2Avg = 0.03132736588773861\n",
      "xp_resp_rate_ptAvg = 0.030967910938036677\n",
      "duration_symptoms = 0.030352677894017955\n",
      "xp_resp_rate_ptMax = 0.02957755362355755\n",
      "smoke_vape_Yes = 0.0070543245405305845\n",
      "symptoms___1.factor_Unchecked = 0.005748433829630893\n",
      "htn.factor_Yes = 0.005214929053276673\n",
      "dm.factor_Yes = 0.005213766739774359\n",
      "sex.factor_Male = 0.005153126181732252\n",
      "symptoms___10.factor_Unchecked = 0.004985803337315097\n",
      "Ed_before_order_set_Yes = 0.004886720417769242\n",
      "symptoms___3.factor_Unchecked = 0.004857608292759997\n",
      "symptoms___2.factor_Unchecked = 0.004851483302159936\n",
      "first_cxr_results___2.factor_Unchecked = 0.004646327874834452\n",
      "hypoxia_ed.factor_Yes = 0.004632689307070917\n",
      "cancer_Yes = 0.004297392041607351\n",
      "first_cxr_results___0.factor_Unchecked = 0.00422112802357909\n",
      "symptoms___9.factor_Unchecked = 0.004093768180695736\n",
      "symptoms___8.factor_Unchecked = 0.004073253242841362\n",
      "cad.factor_Yes = 0.003631278110259372\n",
      "first_cxr_results___1.factor_Unchecked = 0.003498024434852638\n",
      "first_cxr_results___3.factor_Unchecked = 0.0026840575606558335\n",
      "pulm___1.factor_Unchecked = 0.0025233057331503195\n",
      "renal___2.factor_Unchecked = 0.0023662833482394697\n",
      "any_immunosuppression_unknown/No = 0.0021755999035683606\n",
      "renal___1.factor_Unchecked = 0.001979341822509654\n"
     ]
    }
   ],
   "source": [
    "dict_add = {} \n",
    "for name,importance in zip(X_train.columns,rfc.feature_importances_):\n",
    "    dict_add[name]=importance\n",
    "dict_imp = sorted(dict_add.items(), key = lambda x:x[1], reverse = True)\n",
    "#print(dict_imp)\n",
    "for name, importance in dict_imp:\n",
    "    print(name, '=', importance)"
   ]
  },
  {
   "cell_type": "markdown",
   "metadata": {},
   "source": [
    "### Creating new features like Time Series Data(Quantile(0.25),Q(0.75)), weight_status, age category"
   ]
  },
  {
   "cell_type": "code",
   "execution_count": 43,
   "metadata": {},
   "outputs": [],
   "source": [
    "final_data1 = pd.get_dummies(combined,drop_first = True)\n",
    "#final_data1.T"
   ]
  },
  {
   "cell_type": "code",
   "execution_count": 46,
   "metadata": {},
   "outputs": [],
   "source": [
    "#The Weight Status is decided from BMI ranges taken from Centre for Disease Control and Prevention (https://www.cdc.gov/healthyweight/assessing/).Categorized as Underweight,Normal, Overweight, Obese resp.\n",
    "\n",
    "Baselines['weight_status'] = pd.cut(x = Baselines['bmi'],bins = [0, 18.5, 24.9, 29.9, 60],labels = ['underweight','normal','overweight','obese'])"
   ]
  },
  {
   "cell_type": "code",
   "execution_count": 49,
   "metadata": {},
   "outputs": [
    {
     "data": {
      "text/plain": [
       "<matplotlib.axes._subplots.AxesSubplot at 0x7f5a6530a950>"
      ]
     },
     "execution_count": 49,
     "metadata": {},
     "output_type": "execute_result"
    },
    {
     "data": {
      "image/png": "[encoded data removed]",
      "text/plain": [
       "<Figure size 432x288 with 1 Axes>"
      ]
     },
     "metadata": {
      "needs_background": "light"
     },
     "output_type": "display_data"
    }
   ],
   "source": [
    "sns.countplot(x=\"sex.factor\", hue=\"weight_status\", data=Baselines)"
   ]
  },
  {
   "cell_type": "code",
   "execution_count": 50,
   "metadata": {},
   "outputs": [],
   "source": [
    "Baselines = Baselines.drop(columns = ['weight_status'])"
   ]
  },
  {
   "cell_type": "code",
   "execution_count": 51,
   "metadata": {},
   "outputs": [],
   "source": [
    "#The Weight Status is decided from BMI ranges taken from Centre for Disease Control and Prevention (https://www.cdc.gov/healthyweight/assessing/).Categorized as Underweight,Normal, Overweight, Obese resp.\n",
    "\n",
    "final_data1['weight_status'] = pd.cut(x = Baselines['bmi'],bins = [0, 18.5, 24.9, 29.9, 60],labels = [0,1,2,3])"
   ]
  },
  {
   "cell_type": "code",
   "execution_count": 52,
   "metadata": {},
   "outputs": [],
   "source": [
    "final_data1['Age_category'] = pd.cut(x = final_data1['Age'], bins = [0, 40, 60, 80, 120], labels = [0,1,2,3])"
   ]
  },
  {
   "cell_type": "code",
   "execution_count": 53,
   "metadata": {},
   "outputs": [
    {
     "data": {
      "text/html": [
       "<div>\n",
       "<style scoped>\n",
       "    .dataframe tbody tr th:only-of-type {\n",
       "        vertical-align: middle;\n",
       "    }\n",
       "\n",
       "    .dataframe tbody tr th {\n",
       "        vertical-align: top;\n",
       "    }\n",
       "\n",
       "    .dataframe thead th {\n",
       "        text-align: right;\n",
       "    }\n",
       "</style>\n",
       "<table border=\"1\" class=\"dataframe\">\n",
       "  <thead>\n",
       "    <tr style=\"text-align: right;\">\n",
       "      <th>name</th>\n",
       "      <th>subject</th>\n",
       "      <th>s_bp_noninvasive(d)q25</th>\n",
       "      <th>vs_Labp_noninvasive(s)q25</th>\n",
       "      <th>vs_hr_hrq25</th>\n",
       "      <th>xp_resp_rate_ptq25</th>\n",
       "      <th>xp_resp_spo2q25</th>\n",
       "    </tr>\n",
       "  </thead>\n",
       "  <tbody>\n",
       "    <tr>\n",
       "      <th>0</th>\n",
       "      <td>655528</td>\n",
       "      <td>60.126181</td>\n",
       "      <td>127.583502</td>\n",
       "      <td>70.541252</td>\n",
       "      <td>29.451060</td>\n",
       "      <td>89.279046</td>\n",
       "    </tr>\n",
       "    <tr>\n",
       "      <th>1</th>\n",
       "      <td>729545</td>\n",
       "      <td>57.523701</td>\n",
       "      <td>127.173381</td>\n",
       "      <td>71.349564</td>\n",
       "      <td>28.860239</td>\n",
       "      <td>91.270237</td>\n",
       "    </tr>\n",
       "    <tr>\n",
       "      <th>2</th>\n",
       "      <td>805568</td>\n",
       "      <td>58.543108</td>\n",
       "      <td>127.523197</td>\n",
       "      <td>72.899532</td>\n",
       "      <td>28.268134</td>\n",
       "      <td>90.374399</td>\n",
       "    </tr>\n",
       "    <tr>\n",
       "      <th>3</th>\n",
       "      <td>895876</td>\n",
       "      <td>58.194272</td>\n",
       "      <td>130.062418</td>\n",
       "      <td>75.323073</td>\n",
       "      <td>27.880565</td>\n",
       "      <td>90.798072</td>\n",
       "    </tr>\n",
       "    <tr>\n",
       "      <th>4</th>\n",
       "      <td>905164</td>\n",
       "      <td>57.610357</td>\n",
       "      <td>128.170852</td>\n",
       "      <td>76.011808</td>\n",
       "      <td>26.965862</td>\n",
       "      <td>90.886343</td>\n",
       "    </tr>\n",
       "    <tr>\n",
       "      <th>...</th>\n",
       "      <td>...</td>\n",
       "      <td>...</td>\n",
       "      <td>...</td>\n",
       "      <td>...</td>\n",
       "      <td>...</td>\n",
       "      <td>...</td>\n",
       "    </tr>\n",
       "    <tr>\n",
       "      <th>1497</th>\n",
       "      <td>90277384</td>\n",
       "      <td>58.696196</td>\n",
       "      <td>127.999682</td>\n",
       "      <td>72.478929</td>\n",
       "      <td>28.214819</td>\n",
       "      <td>92.269642</td>\n",
       "    </tr>\n",
       "    <tr>\n",
       "      <th>1498</th>\n",
       "      <td>90277636</td>\n",
       "      <td>61.536860</td>\n",
       "      <td>127.116860</td>\n",
       "      <td>73.261007</td>\n",
       "      <td>28.041442</td>\n",
       "      <td>90.145226</td>\n",
       "    </tr>\n",
       "    <tr>\n",
       "      <th>1499</th>\n",
       "      <td>90277804</td>\n",
       "      <td>60.144075</td>\n",
       "      <td>130.107803</td>\n",
       "      <td>74.183293</td>\n",
       "      <td>26.813167</td>\n",
       "      <td>88.641956</td>\n",
       "    </tr>\n",
       "    <tr>\n",
       "      <th>1500</th>\n",
       "      <td>90284224</td>\n",
       "      <td>58.476608</td>\n",
       "      <td>128.141211</td>\n",
       "      <td>74.293791</td>\n",
       "      <td>29.304823</td>\n",
       "      <td>88.815733</td>\n",
       "    </tr>\n",
       "    <tr>\n",
       "      <th>1501</th>\n",
       "      <td>90289960</td>\n",
       "      <td>60.051153</td>\n",
       "      <td>129.337284</td>\n",
       "      <td>73.518213</td>\n",
       "      <td>28.875258</td>\n",
       "      <td>87.180217</td>\n",
       "    </tr>\n",
       "  </tbody>\n",
       "</table>\n",
       "<p>1502 rows × 6 columns</p>\n",
       "</div>"
      ],
      "text/plain": [
       "name   subject  s_bp_noninvasive(d)q25  vs_Labp_noninvasive(s)q25  \\\n",
       "0       655528               60.126181                 127.583502   \n",
       "1       729545               57.523701                 127.173381   \n",
       "2       805568               58.543108                 127.523197   \n",
       "3       895876               58.194272                 130.062418   \n",
       "4       905164               57.610357                 128.170852   \n",
       "...        ...                     ...                        ...   \n",
       "1497  90277384               58.696196                 127.999682   \n",
       "1498  90277636               61.536860                 127.116860   \n",
       "1499  90277804               60.144075                 130.107803   \n",
       "1500  90284224               58.476608                 128.141211   \n",
       "1501  90289960               60.051153                 129.337284   \n",
       "\n",
       "name  vs_hr_hrq25  xp_resp_rate_ptq25  xp_resp_spo2q25  \n",
       "0       70.541252           29.451060        89.279046  \n",
       "1       71.349564           28.860239        91.270237  \n",
       "2       72.899532           28.268134        90.374399  \n",
       "3       75.323073           27.880565        90.798072  \n",
       "4       76.011808           26.965862        90.886343  \n",
       "...           ...                 ...              ...  \n",
       "1497    72.478929           28.214819        92.269642  \n",
       "1498    73.261007           28.041442        90.145226  \n",
       "1499    74.183293           26.813167        88.641956  \n",
       "1500    74.293791           29.304823        88.815733  \n",
       "1501    73.518213           28.875258        87.180217  \n",
       "\n",
       "[1502 rows x 6 columns]"
      ]
     },
     "execution_count": 53,
     "metadata": {},
     "output_type": "execute_result"
    }
   ],
   "source": [
    "#Does Quantile(0.25) of all the grouped values\n",
    "def q25(x):\n",
    "    return x.quantile(0.25)\n",
    "\n",
    "LVq25 = LabVit.groupby(['subject', 'name'],as_index = False).agg({'value': q25})\n",
    "LaViq25=LVq25.pivot(index='subject', columns='name', values='value').reset_index()\n",
    "LaViq25=LaViq25.rename(columns = {\"s_bp_noninvasive (d)\":\"s_bp_noninvasive(d)q25\",\"vs_bp_noninvasive (s)\":\"vs_Labp_noninvasive(s)q25\",\"vs_hr_hr\":\"vs_hr_hrq25\",\"xp_resp_rate_pt\":\"xp_resp_rate_ptq25\",\"xp_resp_spo2\":\"xp_resp_spo2q25\"})\n",
    "LaViq25"
   ]
  },
  {
   "cell_type": "code",
   "execution_count": 54,
   "metadata": {},
   "outputs": [
    {
     "data": {
      "text/html": [
       "<div>\n",
       "<style scoped>\n",
       "    .dataframe tbody tr th:only-of-type {\n",
       "        vertical-align: middle;\n",
       "    }\n",
       "\n",
       "    .dataframe tbody tr th {\n",
       "        vertical-align: top;\n",
       "    }\n",
       "\n",
       "    .dataframe thead th {\n",
       "        text-align: right;\n",
       "    }\n",
       "</style>\n",
       "<table border=\"1\" class=\"dataframe\">\n",
       "  <thead>\n",
       "    <tr style=\"text-align: right;\">\n",
       "      <th>name</th>\n",
       "      <th>subject</th>\n",
       "      <th>s_bp_noninvasive(d)q75</th>\n",
       "      <th>vs_Labp_noninvasive(s)q75</th>\n",
       "      <th>vs_hr_hrq75</th>\n",
       "      <th>xp_resp_rate_ptq75</th>\n",
       "      <th>xp_resp_spo2q75</th>\n",
       "    </tr>\n",
       "  </thead>\n",
       "  <tbody>\n",
       "    <tr>\n",
       "      <th>0</th>\n",
       "      <td>655528</td>\n",
       "      <td>62.282802</td>\n",
       "      <td>132.472125</td>\n",
       "      <td>74.712937</td>\n",
       "      <td>31.504574</td>\n",
       "      <td>92.488797</td>\n",
       "    </tr>\n",
       "    <tr>\n",
       "      <th>1</th>\n",
       "      <td>729545</td>\n",
       "      <td>60.052733</td>\n",
       "      <td>129.279247</td>\n",
       "      <td>74.654630</td>\n",
       "      <td>30.644779</td>\n",
       "      <td>94.444267</td>\n",
       "    </tr>\n",
       "    <tr>\n",
       "      <th>2</th>\n",
       "      <td>805568</td>\n",
       "      <td>62.277383</td>\n",
       "      <td>131.557747</td>\n",
       "      <td>77.171908</td>\n",
       "      <td>31.394579</td>\n",
       "      <td>91.850608</td>\n",
       "    </tr>\n",
       "    <tr>\n",
       "      <th>3</th>\n",
       "      <td>895876</td>\n",
       "      <td>60.504697</td>\n",
       "      <td>134.194457</td>\n",
       "      <td>77.761161</td>\n",
       "      <td>32.299496</td>\n",
       "      <td>94.350488</td>\n",
       "    </tr>\n",
       "    <tr>\n",
       "      <th>4</th>\n",
       "      <td>905164</td>\n",
       "      <td>59.759116</td>\n",
       "      <td>130.332312</td>\n",
       "      <td>77.988947</td>\n",
       "      <td>30.431132</td>\n",
       "      <td>92.864745</td>\n",
       "    </tr>\n",
       "    <tr>\n",
       "      <th>...</th>\n",
       "      <td>...</td>\n",
       "      <td>...</td>\n",
       "      <td>...</td>\n",
       "      <td>...</td>\n",
       "      <td>...</td>\n",
       "      <td>...</td>\n",
       "    </tr>\n",
       "    <tr>\n",
       "      <th>1497</th>\n",
       "      <td>90277384</td>\n",
       "      <td>61.548991</td>\n",
       "      <td>131.216632</td>\n",
       "      <td>74.826941</td>\n",
       "      <td>30.212819</td>\n",
       "      <td>95.429618</td>\n",
       "    </tr>\n",
       "    <tr>\n",
       "      <th>1498</th>\n",
       "      <td>90277636</td>\n",
       "      <td>62.870692</td>\n",
       "      <td>132.139681</td>\n",
       "      <td>76.897993</td>\n",
       "      <td>32.892331</td>\n",
       "      <td>94.439141</td>\n",
       "    </tr>\n",
       "    <tr>\n",
       "      <th>1499</th>\n",
       "      <td>90277804</td>\n",
       "      <td>61.879870</td>\n",
       "      <td>132.909083</td>\n",
       "      <td>77.338117</td>\n",
       "      <td>30.694674</td>\n",
       "      <td>93.936370</td>\n",
       "    </tr>\n",
       "    <tr>\n",
       "      <th>1500</th>\n",
       "      <td>90284224</td>\n",
       "      <td>61.380291</td>\n",
       "      <td>133.076251</td>\n",
       "      <td>77.603200</td>\n",
       "      <td>32.083410</td>\n",
       "      <td>93.040371</td>\n",
       "    </tr>\n",
       "    <tr>\n",
       "      <th>1501</th>\n",
       "      <td>90289960</td>\n",
       "      <td>62.602237</td>\n",
       "      <td>131.030144</td>\n",
       "      <td>76.138556</td>\n",
       "      <td>32.210920</td>\n",
       "      <td>92.378890</td>\n",
       "    </tr>\n",
       "  </tbody>\n",
       "</table>\n",
       "<p>1502 rows × 6 columns</p>\n",
       "</div>"
      ],
      "text/plain": [
       "name   subject  s_bp_noninvasive(d)q75  vs_Labp_noninvasive(s)q75  \\\n",
       "0       655528               62.282802                 132.472125   \n",
       "1       729545               60.052733                 129.279247   \n",
       "2       805568               62.277383                 131.557747   \n",
       "3       895876               60.504697                 134.194457   \n",
       "4       905164               59.759116                 130.332312   \n",
       "...        ...                     ...                        ...   \n",
       "1497  90277384               61.548991                 131.216632   \n",
       "1498  90277636               62.870692                 132.139681   \n",
       "1499  90277804               61.879870                 132.909083   \n",
       "1500  90284224               61.380291                 133.076251   \n",
       "1501  90289960               62.602237                 131.030144   \n",
       "\n",
       "name  vs_hr_hrq75  xp_resp_rate_ptq75  xp_resp_spo2q75  \n",
       "0       74.712937           31.504574        92.488797  \n",
       "1       74.654630           30.644779        94.444267  \n",
       "2       77.171908           31.394579        91.850608  \n",
       "3       77.761161           32.299496        94.350488  \n",
       "4       77.988947           30.431132        92.864745  \n",
       "...           ...                 ...              ...  \n",
       "1497    74.826941           30.212819        95.429618  \n",
       "1498    76.897993           32.892331        94.439141  \n",
       "1499    77.338117           30.694674        93.936370  \n",
       "1500    77.603200           32.083410        93.040371  \n",
       "1501    76.138556           32.210920        92.378890  \n",
       "\n",
       "[1502 rows x 6 columns]"
      ]
     },
     "execution_count": 54,
     "metadata": {},
     "output_type": "execute_result"
    }
   ],
   "source": [
    "def q75(x):\n",
    "    return x.quantile(0.75)\n",
    "\n",
    "LVq75 = LabVit.groupby(['subject', 'name'],as_index = False).agg({'value': q75})\n",
    "LaViq75=LVq75.pivot(index='subject', columns='name', values='value').reset_index()\n",
    "LaViq75=LaViq75.rename(columns = {\"s_bp_noninvasive (d)\":\"s_bp_noninvasive(d)q75\",\"vs_bp_noninvasive (s)\":\"vs_Labp_noninvasive(s)q75\",\"vs_hr_hr\":\"vs_hr_hrq75\",\"xp_resp_rate_pt\":\"xp_resp_rate_ptq75\",\"xp_resp_spo2\":\"xp_resp_spo2q75\"})\n",
    "LaViq75"
   ]
  },
  {
   "cell_type": "code",
   "execution_count": 55,
   "metadata": {},
   "outputs": [],
   "source": [
    "final_data1 = pd.merge(final_data1, LaViq25, on = 'subject', how='left')\n",
    "final_data1 = pd.merge(final_data1, LaViq75, on = 'subject', how='left')"
   ]
  },
  {
   "cell_type": "code",
   "execution_count": 56,
   "metadata": {},
   "outputs": [],
   "source": [
    "from sklearn.model_selection import train_test_split\n",
    "X1 = final_data1.drop('event',axis=1)\n",
    "y1 = final_data1['event']\n",
    "X_train1, X_test1, y_train1, y_test1 = train_test_split(X1, y1, test_size=0.20, random_state=101)"
   ]
  },
  {
   "cell_type": "code",
   "execution_count": 57,
   "metadata": {},
   "outputs": [
    {
     "name": "stderr",
     "output_type": "stream",
     "text": [
      "/home/rishabh/anaconda3/lib/python3.7/site-packages/sklearn/tree/_classes.py:319: FutureWarning: The parameter 'presort' is deprecated and has no effect. It will be removed in v0.24. You can suppress this warning by not passing any value to the 'presort' parameter.\n",
      "  FutureWarning)\n"
     ]
    },
    {
     "data": {
      "text/plain": [
       "DecisionTreeClassifier(ccp_alpha=0.0, class_weight=None, criterion='gini',\n",
       "                       max_depth=None, max_features=None, max_leaf_nodes=None,\n",
       "                       min_impurity_decrease=0.0, min_impurity_split=None,\n",
       "                       min_samples_leaf=1, min_samples_split=2,\n",
       "                       min_weight_fraction_leaf=0.0, presort=False,\n",
       "                       random_state=None, splitter='best')"
      ]
     },
     "execution_count": 57,
     "metadata": {},
     "output_type": "execute_result"
    }
   ],
   "source": [
    "dtree1 = DecisionTreeClassifier(class_weight=None, criterion='gini', max_depth=None, max_features=None, max_leaf_nodes=None,min_impurity_decrease=0.0, min_impurity_split=None,\n",
    "            min_samples_leaf=1, min_samples_split=2,min_weight_fraction_leaf=0.0, presort=False, random_state=None,splitter='best')\n",
    "dtree1.fit(X_train1,y_train1)"
   ]
  },
  {
   "cell_type": "code",
   "execution_count": 58,
   "metadata": {},
   "outputs": [
    {
     "name": "stdout",
     "output_type": "stream",
     "text": [
      "              precision    recall  f1-score   support\n",
      "\n",
      "           0       0.74      0.73      0.74       142\n",
      "           1       0.71      0.72      0.71       127\n",
      "\n",
      "    accuracy                           0.72       269\n",
      "   macro avg       0.72      0.72      0.72       269\n",
      "weighted avg       0.73      0.72      0.73       269\n",
      "\n"
     ]
    },
    {
     "data": {
      "text/plain": [
       "<matplotlib.axes._subplots.AxesSubplot at 0x7f5a640dd690>"
      ]
     },
     "execution_count": 58,
     "metadata": {},
     "output_type": "execute_result"
    },
    {
     "data": {
      "image/png": "[encoded data removed]",
      "text/plain": [
       "<Figure size 432x288 with 2 Axes>"
      ]
     },
     "metadata": {
      "needs_background": "light"
     },
     "output_type": "display_data"
    }
   ],
   "source": [
    "#TEST_SIZE:0.2\n",
    "predictions1 = dtree1.predict(X_test1)\n",
    "\n",
    "from sklearn.metrics import classification_report,confusion_matrix\n",
    "print(classification_report(y_test1,predictions1))\n",
    "#print(confusion_matrix(y_test,predictions))\n",
    "cm = confusion_matrix(y_test1,predictions1)\n",
    "sns.heatmap(cm,annot=True,fmt=\"d\")"
   ]
  },
  {
   "cell_type": "code",
   "execution_count": 60,
   "metadata": {},
   "outputs": [
    {
     "data": {
      "text/plain": [
       "RandomForestClassifier(bootstrap=True, ccp_alpha=0.0, class_weight=None,\n",
       "                       criterion='gini', max_depth=None, max_features='auto',\n",
       "                       max_leaf_nodes=None, max_samples=None,\n",
       "                       min_impurity_decrease=0.0, min_impurity_split=None,\n",
       "                       min_samples_leaf=1, min_samples_split=2,\n",
       "                       min_weight_fraction_leaf=0.0, n_estimators=600, n_jobs=1,\n",
       "                       oob_score=False, random_state=None, verbose=0,\n",
       "                       warm_start=False)"
      ]
     },
     "execution_count": 60,
     "metadata": {},
     "output_type": "execute_result"
    }
   ],
   "source": [
    "rfc1 = RandomForestClassifier(bootstrap=True, class_weight=None, criterion='gini',\n",
    "            max_depth=None, max_features='auto', max_leaf_nodes=None,\n",
    "            min_impurity_decrease=0.0, min_impurity_split=None,\n",
    "            min_samples_leaf=1, min_samples_split=2,\n",
    "            min_weight_fraction_leaf=0.0, n_estimators=600, n_jobs=1,\n",
    "            oob_score=False, random_state=None, verbose=0,\n",
    "            warm_start=False)\n",
    "rfc1.fit(X_train1,y_train1)"
   ]
  },
  {
   "cell_type": "code",
   "execution_count": 61,
   "metadata": {},
   "outputs": [
    {
     "name": "stdout",
     "output_type": "stream",
     "text": [
      "              precision    recall  f1-score   support\n",
      "\n",
      "           0       0.82      0.82      0.82       142\n",
      "           1       0.80      0.80      0.80       127\n",
      "\n",
      "    accuracy                           0.81       269\n",
      "   macro avg       0.81      0.81      0.81       269\n",
      "weighted avg       0.81      0.81      0.81       269\n",
      "\n"
     ]
    },
    {
     "data": {
      "text/plain": [
       "<matplotlib.axes._subplots.AxesSubplot at 0x7f5a63f2e850>"
      ]
     },
     "execution_count": 61,
     "metadata": {},
     "output_type": "execute_result"
    },
    {
     "data": {
      "image/png": "[encoded data removed]",
      "text/plain": [
       "<Figure size 432x288 with 2 Axes>"
      ]
     },
     "metadata": {
      "needs_background": "light"
     },
     "output_type": "display_data"
    }
   ],
   "source": [
    "#There shoud be no compromise for increasing FN. Here, FN is constant but accuracy dec. on addition of features like Time Series(Quantile),weight_status,age category\n",
    "#Test_Size = 0.2\n",
    "predrndmforest1 = rfc1.predict(X_test1)\n",
    "print(classification_report(y_test1,predrndmforest1))\n",
    "cm = confusion_matrix(y_test1,predrndmforest1)\n",
    "sns.heatmap(cm,annot=True,fmt=\"d\")"
   ]
  },
  {
   "cell_type": "markdown",
   "metadata": {},
   "source": [
    "#### Result : False Negatives decreases and a bit of accuracy increases after addition of features like Time Series Data(Quantile(0.25),Q(0.75)), weight_status, age category. We can also see the features that features like vs_hr, s_bp(d) etc. with quantile .25 and .75 are having higher features importance.  "
   ]
  },
  {
   "cell_type": "code",
   "execution_count": 62,
   "metadata": {},
   "outputs": [
    {
     "name": "stdout",
     "output_type": "stream",
     "text": [
      "Age = 0.0954403174822522\n",
      "vs_hr_hrAvg = 0.06136785832004634\n",
      "bmi = 0.05859006314068148\n",
      "vs_hr_hrq25 = 0.057651037611325215\n",
      "vs_hr_hrq75 = 0.05356652693800825\n",
      "Age_category = 0.05065707317624688\n",
      "s_bp_noninvasive(d)q75 = 0.03535428623449623\n",
      "s_bp_noninvasive(d)Avg = 0.034232803771722234\n",
      "s_bp_noninvasive(d)Max = 0.03419016649675266\n",
      "vs_hr_hrMax = 0.028771014225868672\n",
      "vs_Labp_noninvasive(s)q75 = 0.028526637168357637\n",
      "vs_hr_hrMin = 0.027909667292121194\n",
      "vs_bp_noninvasive(s)Avg = 0.024383981807973465\n",
      "s_bp_noninvasive(d)q25 = 0.023148553462115334\n",
      "vs_bp_noninvasive(s)Max = 0.02195663035908798\n",
      "xp_resp_spo2Max = 0.02121660736086421\n",
      "s_bp_noninvasive(d)Min = 0.02104802810018909\n",
      "xp_resp_spo2q75 = 0.020361682692626327\n",
      "weight_status = 0.02026637318572991\n",
      "xp_resp_spo2Min = 0.01995517326623283\n",
      "xp_resp_spo2q25 = 0.019885351369489022\n",
      "duration_symptoms = 0.019762574958425223\n",
      "vs_Labp_noninvasive(s)q25 = 0.019731902450283365\n",
      "xp_resp_rate_ptMax = 0.019339918522358956\n",
      "xp_resp_rate_ptMin = 0.019158715742493556\n",
      "xp_resp_spo2Avg = 0.018943307298700102\n",
      "subject = 0.018894693389397588\n",
      "xp_resp_rate_ptq25 = 0.018708255298734305\n",
      "vs_bp_noninvasive(s)Min = 0.017832370904830603\n",
      "xp_resp_rate_ptq75 = 0.017548877134215095\n",
      "xp_resp_rate_ptAvg = 0.01754166928872444\n",
      "smoke_vape_Yes = 0.004412326006717009\n",
      "cancer_Yes = 0.0035893188609043064\n",
      "dm.factor_Yes = 0.003408684523349891\n",
      "htn.factor_Yes = 0.003121272294009228\n",
      "symptoms___1.factor_Unchecked = 0.0031042608089605662\n",
      "symptoms___3.factor_Unchecked = 0.002870839191989007\n",
      "symptoms___2.factor_Unchecked = 0.0027609576031111588\n",
      "sex.factor_Male = 0.002632970093791453\n",
      "symptoms___10.factor_Unchecked = 0.002585790245566134\n",
      "hypoxia_ed.factor_Yes = 0.0025602753582922013\n",
      "symptoms___8.factor_Unchecked = 0.0024878456920411525\n",
      "Ed_before_order_set_Yes = 0.002402508264262985\n",
      "first_cxr_results___0.factor_Unchecked = 0.0023053153060328775\n",
      "symptoms___9.factor_Unchecked = 0.0022526821157594665\n",
      "cad.factor_Yes = 0.0022042016528209464\n",
      "first_cxr_results___2.factor_Unchecked = 0.0021328761931264082\n",
      "first_cxr_results___1.factor_Unchecked = 0.0019339792195434387\n",
      "renal___2.factor_Unchecked = 0.0017850686558884743\n",
      "pulm___1.factor_Unchecked = 0.0015556204261024235\n",
      "first_cxr_results___3.factor_Unchecked = 0.0015407265691987488\n",
      "renal___1.factor_Unchecked = 0.0013148962570876798\n",
      "any_immunosuppression_unknown/No = 0.0010954662110941719\n"
     ]
    }
   ],
   "source": [
    "dict_add1 = {} \n",
    "for name,importance in zip(X_train1.columns,rfc1.feature_importances_):\n",
    "    dict_add1[name]=importance\n",
    "dict_imp = sorted(dict_add1.items(), key = lambda x:x[1], reverse = True)\n",
    "#print(dict_imp)\n",
    "for name, importance in dict_imp:\n",
    "    print(name, '=', importance)"
   ]
  },
  {
   "cell_type": "markdown",
   "metadata": {},
   "source": [
    "### Removing some features of symptoms 1,8,9,10 , Chest X-Ray Results 0 and 1 (consulted with Pathologist). Test size was taken to be 0.20 and does Hyperparameter Tuning"
   ]
  },
  {
   "cell_type": "code",
   "execution_count": 69,
   "metadata": {},
   "outputs": [],
   "source": [
    "#On consulting with a pathologist,removed Symptom1,symptom 10, symptom 9, symptom 8 , first_cxr0, first_cxr1 as it should play no role for alloting ventilators\n",
    "final_data2 = final_data1.drop(columns = ['symptoms___1.factor_Unchecked','symptoms___8.factor_Unchecked','symptoms___9.factor_Unchecked','symptoms___10.factor_Unchecked','first_cxr_results___0.factor_Unchecked','first_cxr_results___1.factor_Unchecked'])"
   ]
  },
  {
   "cell_type": "code",
   "execution_count": 75,
   "metadata": {},
   "outputs": [],
   "source": [
    "from sklearn.model_selection import train_test_split\n",
    "X2 = final_data2.drop('event',axis=1)\n",
    "y2 = final_data2['event']\n",
    "X_train2, X_test2, y_train2, y_test2 = train_test_split(X2, y2, test_size=0.20, random_state=101)"
   ]
  },
  {
   "cell_type": "code",
   "execution_count": 76,
   "metadata": {},
   "outputs": [
    {
     "name": "stderr",
     "output_type": "stream",
     "text": [
      "/home/rishabh/anaconda3/lib/python3.7/site-packages/sklearn/tree/_classes.py:319: FutureWarning: The parameter 'presort' is deprecated and has no effect. It will be removed in v0.24. You can suppress this warning by not passing any value to the 'presort' parameter.\n",
      "  FutureWarning)\n"
     ]
    },
    {
     "data": {
      "text/plain": [
       "DecisionTreeClassifier(ccp_alpha=0.0, class_weight=None, criterion='gini',\n",
       "                       max_depth=None, max_features=None, max_leaf_nodes=None,\n",
       "                       min_impurity_decrease=0.0, min_impurity_split=None,\n",
       "                       min_samples_leaf=1, min_samples_split=2,\n",
       "                       min_weight_fraction_leaf=0.0, presort=False,\n",
       "                       random_state=None, splitter='best')"
      ]
     },
     "execution_count": 76,
     "metadata": {},
     "output_type": "execute_result"
    }
   ],
   "source": [
    "dtree2 = DecisionTreeClassifier(class_weight=None, criterion='gini', max_depth=None, max_features=None, max_leaf_nodes=None,min_impurity_decrease=0.0, min_impurity_split=None,\n",
    "            min_samples_leaf=1, min_samples_split=2,min_weight_fraction_leaf=0.0, presort=False, random_state=None,splitter='best')\n",
    "dtree2.fit(X_train2,y_train2)"
   ]
  },
  {
   "cell_type": "code",
   "execution_count": 78,
   "metadata": {},
   "outputs": [
    {
     "name": "stdout",
     "output_type": "stream",
     "text": [
      "              precision    recall  f1-score   support\n",
      "\n",
      "           0       0.74      0.71      0.73       142\n",
      "           1       0.69      0.72      0.71       127\n",
      "\n",
      "    accuracy                           0.72       269\n",
      "   macro avg       0.72      0.72      0.72       269\n",
      "weighted avg       0.72      0.72      0.72       269\n",
      "\n"
     ]
    },
    {
     "data": {
      "text/plain": [
       "<matplotlib.axes._subplots.AxesSubplot at 0x7f5a63d6edd0>"
      ]
     },
     "execution_count": 78,
     "metadata": {},
     "output_type": "execute_result"
    },
    {
     "data": {
      "image/png": "[encoded data removed]",
      "text/plain": [
       "<Figure size 432x288 with 2 Axes>"
      ]
     },
     "metadata": {
      "needs_background": "light"
     },
     "output_type": "display_data"
    }
   ],
   "source": [
    "#Test_Size : 0.2\n",
    "predictions2 = dtree2.predict(X_test2)\n",
    "\n",
    "from sklearn.metrics import classification_report,confusion_matrix\n",
    "print(classification_report(y_test2,predictions2))\n",
    "cm = confusion_matrix(y_test2,predictions2)\n",
    "sns.heatmap(cm,annot=True,fmt=\"d\")"
   ]
  },
  {
   "cell_type": "code",
   "execution_count": 79,
   "metadata": {},
   "outputs": [
    {
     "data": {
      "text/plain": [
       "RandomForestClassifier(bootstrap=True, ccp_alpha=0.0, class_weight=None,\n",
       "                       criterion='gini', max_depth=None, max_features='auto',\n",
       "                       max_leaf_nodes=None, max_samples=None,\n",
       "                       min_impurity_decrease=0.0, min_impurity_split=None,\n",
       "                       min_samples_leaf=1, min_samples_split=2,\n",
       "                       min_weight_fraction_leaf=0.0, n_estimators=600, n_jobs=1,\n",
       "                       oob_score=False, random_state=None, verbose=0,\n",
       "                       warm_start=False)"
      ]
     },
     "execution_count": 79,
     "metadata": {},
     "output_type": "execute_result"
    }
   ],
   "source": [
    "rfc2 = RandomForestClassifier(bootstrap=True, class_weight=None, criterion='gini',\n",
    "            max_depth=None, max_features='auto', max_leaf_nodes=None,\n",
    "            min_impurity_decrease=0.0, min_impurity_split=None,\n",
    "            min_samples_leaf=1, min_samples_split=2,\n",
    "            min_weight_fraction_leaf=0.0, n_estimators=600, n_jobs=1,\n",
    "            oob_score=False, random_state=None, verbose=0,\n",
    "            warm_start=False)\n",
    "rfc2.fit(X_train2,y_train2)"
   ]
  },
  {
   "cell_type": "code",
   "execution_count": 80,
   "metadata": {},
   "outputs": [
    {
     "name": "stdout",
     "output_type": "stream",
     "text": [
      "              precision    recall  f1-score   support\n",
      "\n",
      "           0       0.82      0.82      0.82       142\n",
      "           1       0.80      0.80      0.80       127\n",
      "\n",
      "    accuracy                           0.81       269\n",
      "   macro avg       0.81      0.81      0.81       269\n",
      "weighted avg       0.81      0.81      0.81       269\n",
      "\n"
     ]
    },
    {
     "data": {
      "text/plain": [
       "<matplotlib.axes._subplots.AxesSubplot at 0x7f5a63c24790>"
      ]
     },
     "execution_count": 80,
     "metadata": {},
     "output_type": "execute_result"
    },
    {
     "data": {
      "image/png": "[encoded data removed]",
      "text/plain": [
       "<Figure size 432x288 with 2 Axes>"
      ]
     },
     "metadata": {
      "needs_background": "light"
     },
     "output_type": "display_data"
    }
   ],
   "source": [
    "predrndmforest2 = rfc2.predict(X_test2)\n",
    "print(classification_report(y_test2,predrndmforest2))\n",
    "cm = confusion_matrix(y_test2,predrndmforest2)\n",
    "sns.heatmap(cm,annot=True,fmt=\"d\")"
   ]
  },
  {
   "cell_type": "markdown",
   "metadata": {},
   "source": [
    "### Hyperparameter Tuning Grid Search"
   ]
  },
  {
   "cell_type": "code",
   "execution_count": null,
   "metadata": {},
   "outputs": [],
   "source": [
    "#This was once trained to get best parameters and it took a lot of time.\n",
    "\n",
    "# from sklearn.model_selection import GridSearchCV\n",
    "# model = RandomForestClassifier()\n",
    "# param_grid = [\n",
    "# {'n_estimators': [100,300,500,600,700,900], 'min_samples_split': [2,5,15,50], \n",
    "#  'max_depth': [None,3,5,7,9], 'min_samples_leaf':[1,2,5,10]}\n",
    "# ]\n",
    "# # 700, 5,7,1\n",
    "# grid_search_result = model.grid_search(grid, \n",
    "#                                        X=train_data, \n",
    "#                                        y=train_labels, \n",
    "#                                        plot=True)\n",
    "# grid_search_forest = GridSearchCV(model, param_grid, cv=4, scoring='recall')\n",
    "# grid_search_forest.fit(X_train2, y_train2)"
   ]
  },
  {
   "cell_type": "code",
   "execution_count": null,
   "metadata": {},
   "outputs": [],
   "source": [
    "# Rfc2_best = grid_search_forest.best_estimator_\n",
    "# print(Rfc2_best)"
   ]
  },
  {
   "cell_type": "code",
   "execution_count": null,
   "metadata": {},
   "outputs": [],
   "source": [
    "# grid_search_forest.best_params_\n",
    "#Best Params: 700, 5, None, 1"
   ]
  },
  {
   "cell_type": "markdown",
   "metadata": {},
   "source": [
    "#### Using Best Model for Predicting"
   ]
  },
  {
   "cell_type": "code",
   "execution_count": null,
   "metadata": {},
   "outputs": [],
   "source": [
    "# PredRndmFrst2 = Rfc2_best.predict(X_test2)\n",
    "# print(classification_report(y_test2,PredRndmFrst2))\n",
    "# print(confusion_matrix(y_test2,PredRndmFrst2))"
   ]
  },
  {
   "cell_type": "code",
   "execution_count": 81,
   "metadata": {},
   "outputs": [
    {
     "data": {
      "text/plain": [
       "RandomForestClassifier(bootstrap=True, ccp_alpha=0.0, class_weight=None,\n",
       "                       criterion='gini', max_depth=None, max_features='auto',\n",
       "                       max_leaf_nodes=None, max_samples=None,\n",
       "                       min_impurity_decrease=0.0, min_impurity_split=None,\n",
       "                       min_samples_leaf=1, min_samples_split=5,\n",
       "                       min_weight_fraction_leaf=0.0, n_estimators=700,\n",
       "                       n_jobs=None, oob_score=False, random_state=None,\n",
       "                       verbose=0, warm_start=False)"
      ]
     },
     "execution_count": 81,
     "metadata": {},
     "output_type": "execute_result"
    }
   ],
   "source": [
    "m1 = RandomForestClassifier(bootstrap=True, ccp_alpha=0.0, class_weight=None,\n",
    "                       criterion='gini', max_depth=None, max_features='auto',\n",
    "                       max_leaf_nodes=None, max_samples=None,\n",
    "                       min_impurity_decrease=0.0, min_impurity_split=None,\n",
    "                       min_samples_leaf=1, min_samples_split=5,\n",
    "                       min_weight_fraction_leaf=0.0, n_estimators=700,\n",
    "                       n_jobs=None, oob_score=False, random_state=None,\n",
    "                       verbose=0, warm_start=False)\n",
    "m1.fit(X_train2,y_train2)"
   ]
  },
  {
   "cell_type": "code",
   "execution_count": 82,
   "metadata": {},
   "outputs": [
    {
     "name": "stdout",
     "output_type": "stream",
     "text": [
      "              precision    recall  f1-score   support\n",
      "\n",
      "           0       0.81      0.82      0.82       142\n",
      "           1       0.80      0.79      0.79       127\n",
      "\n",
      "    accuracy                           0.81       269\n",
      "   macro avg       0.81      0.81      0.81       269\n",
      "weighted avg       0.81      0.81      0.81       269\n",
      "\n"
     ]
    },
    {
     "data": {
      "text/plain": [
       "<matplotlib.axes._subplots.AxesSubplot at 0x7f5a5ddf9710>"
      ]
     },
     "execution_count": 82,
     "metadata": {},
     "output_type": "execute_result"
    },
    {
     "data": {
      "image/png": "[encoded data removed]",
      "text/plain": [
       "<Figure size 432x288 with 2 Axes>"
      ]
     },
     "metadata": {
      "needs_background": "light"
     },
     "output_type": "display_data"
    }
   ],
   "source": [
    "Pred1 = m1.predict(X_test2)\n",
    "print(classification_report(y_test2,Pred1))\n",
    "cm = confusion_matrix(y_test2,Pred1)\n",
    "sns.heatmap(cm,annot=True,fmt=\"d\")"
   ]
  },
  {
   "cell_type": "markdown",
   "metadata": {},
   "source": [
    "### Result: There is decrease in False Negatives and a bit decrease in accuracy as compared to previous case when features were not removed. But  Hyperparameter tuning gives better results "
   ]
  },
  {
   "cell_type": "code",
   "execution_count": null,
   "metadata": {},
   "outputs": [],
   "source": []
  },
  {
   "cell_type": "markdown",
   "metadata": {},
   "source": [
    "# CatBoost"
   ]
  },
  {
   "cell_type": "code",
   "execution_count": 83,
   "metadata": {},
   "outputs": [],
   "source": [
    "Cat_data = pd.merge(combined, LaViq25, on = 'subject', how='left')\n",
    "Cat_data = pd.merge(Cat_data, LaViq75, on = 'subject', how='left')\n",
    "Cat_data['weight_status'] = pd.cut(x = Baselines['bmi'],bins = [0, 18.5, 24.9, 29.9, 60],labels = [0,1,2,3])\n",
    "Cat_data['Age_category'] = pd.cut(x = Baselines['Age'], bins = [0, 40, 60, 80, 120], labels = [0,1,2,3])\n",
    "Cat_data = Cat_data.drop(columns = ['subject'])\n",
    "#Cat_data = Cat_data.drop(columns = ['subject','symptoms___1.factor','symptoms___8.factor','symptoms___9.factor','symptoms___10.factor','first_cxr_results___0.factor','first_cxr_results___1.factor'])"
   ]
  },
  {
   "cell_type": "code",
   "execution_count": 84,
   "metadata": {},
   "outputs": [
    {
     "data": {
      "text/plain": [
       "Age                              float64\n",
       "sex.factor                        object\n",
       "bmi                              float64\n",
       "hypoxia_ed.factor                 object\n",
       "smoke_vape                        object\n",
       "dm.factor                         object\n",
       "htn.factor                        object\n",
       "pulm___1.factor                   object\n",
       "renal___1.factor                  object\n",
       "renal___2.factor                  object\n",
       "cad.factor                        object\n",
       "cancer                            object\n",
       "any_immunosuppression             object\n",
       "symptoms___1.factor               object\n",
       "symptoms___2.factor               object\n",
       "symptoms___10.factor              object\n",
       "symptoms___9.factor               object\n",
       "symptoms___8.factor               object\n",
       "symptoms___3.factor               object\n",
       "first_cxr_results___0.factor      object\n",
       "first_cxr_results___1.factor      object\n",
       "first_cxr_results___2.factor      object\n",
       "first_cxr_results___3.factor      object\n",
       "duration_symptoms                  int64\n",
       "Ed_before_order_set               object\n",
       "s_bp_noninvasive(d)Avg           float64\n",
       "vs_bp_noninvasive(s)Avg          float64\n",
       "vs_hr_hrAvg                      float64\n",
       "xp_resp_rate_ptAvg               float64\n",
       "xp_resp_spo2Avg                  float64\n",
       "s_bp_noninvasive(d)Min           float64\n",
       "vs_bp_noninvasive(s)Min          float64\n",
       "vs_hr_hrMin                      float64\n",
       "xp_resp_rate_ptMin               float64\n",
       "xp_resp_spo2Min                  float64\n",
       "s_bp_noninvasive(d)Max           float64\n",
       "vs_bp_noninvasive(s)Max          float64\n",
       "vs_hr_hrMax                      float64\n",
       "xp_resp_rate_ptMax               float64\n",
       "xp_resp_spo2Max                  float64\n",
       "s_bp_noninvasive(d)q25           float64\n",
       "vs_Labp_noninvasive(s)q25        float64\n",
       "vs_hr_hrq25                      float64\n",
       "xp_resp_rate_ptq25               float64\n",
       "xp_resp_spo2q25                  float64\n",
       "s_bp_noninvasive(d)q75           float64\n",
       "vs_Labp_noninvasive(s)q75        float64\n",
       "vs_hr_hrq75                      float64\n",
       "xp_resp_rate_ptq75               float64\n",
       "xp_resp_spo2q75                  float64\n",
       "weight_status                   category\n",
       "Age_category                    category\n",
       "dtype: object"
      ]
     },
     "execution_count": 84,
     "metadata": {},
     "output_type": "execute_result"
    }
   ],
   "source": [
    "X = Cat_data.drop(columns = ['event'])\n",
    "Y = Cat_data['event']\n",
    "X.dtypes"
   ]
  },
  {
   "cell_type": "code",
   "execution_count": 85,
   "metadata": {},
   "outputs": [
    {
     "name": "stdout",
     "output_type": "stream",
     "text": [
      "[ 1  3  4  5  6  7  8  9 10 11 12 13 14 15 16 17 18 19 20 21 22 24 50 51]\n"
     ]
    }
   ],
   "source": [
    "categorical_features_indices = np.where((X.dtypes=='object')|(X.dtypes=='category'))[0]\n",
    "print(categorical_features_indices)"
   ]
  },
  {
   "cell_type": "code",
   "execution_count": 86,
   "metadata": {},
   "outputs": [],
   "source": [
    "im = {'unknown/No':0, 'Yes':1}\n",
    "Cat_data['any_immunosuppression'] = Cat_data['any_immunosuppression'].map(im).fillna(Cat_data['any_immunosuppression'])"
   ]
  },
  {
   "cell_type": "code",
   "execution_count": 87,
   "metadata": {},
   "outputs": [],
   "source": [
    "sex = {'Female':0, 'Male':1}\n",
    "Cat_data['sex.factor'] = Cat_data['sex.factor'].map(sex).fillna(Cat_data['sex.factor'])"
   ]
  },
  {
   "cell_type": "code",
   "execution_count": 88,
   "metadata": {},
   "outputs": [],
   "source": [
    "listYes = ['hypoxia_ed.factor','smoke_vape','dm.factor','htn.factor','cad.factor','cancer', 'Ed_before_order_set']\n",
    "d = {'No': 0, 'Yes': 1}\n",
    "for i in listYes:\n",
    "    Cat_data[i] = Cat_data[i].map(d).fillna(Cat_data[i])"
   ]
  },
  {
   "cell_type": "code",
   "execution_count": 89,
   "metadata": {},
   "outputs": [],
   "source": [
    "listch = ['pulm___1.factor','renal___1.factor','renal___2.factor','symptoms___1.factor','symptoms___2.factor','symptoms___3.factor','symptoms___8.factor','symptoms___9.factor','symptoms___10.factor','first_cxr_results___0.factor','first_cxr_results___1.factor','first_cxr_results___2.factor','first_cxr_results___3.factor' ]\n",
    "lc = {'Unchecked':0 , 'Checked':1}\n",
    "for i in listch:\n",
    "    Cat_data[i] = Cat_data[i].map(lc).fillna(Cat_data[i])"
   ]
  },
  {
   "cell_type": "code",
   "execution_count": 90,
   "metadata": {},
   "outputs": [],
   "source": [
    "Cat_data['weight_status'] = Cat_data['weight_status'].astype('int64')\n",
    "Cat_data['Age_category'] = Cat_data['Age_category'].astype('int64')"
   ]
  },
  {
   "cell_type": "code",
   "execution_count": 91,
   "metadata": {},
   "outputs": [],
   "source": [
    "X_c = Cat_data.drop(columns=['event'],axis=1)\n",
    "y_c = Cat_data['event']\n",
    "Xc_train, Xc_test, yc_train, yc_test = train_test_split(X_c, y_c, test_size=0.20, random_state=101)\n"
   ]
  },
  {
   "cell_type": "code",
   "execution_count": 92,
   "metadata": {},
   "outputs": [
    {
     "data": {
      "text/plain": [
       "<catboost.core.CatBoostClassifier at 0x7f5a5de25d50>"
      ]
     },
     "execution_count": 92,
     "metadata": {},
     "output_type": "execute_result"
    }
   ],
   "source": [
    "from catboost import CatBoostClassifier\n",
    "\n",
    "clf = CatBoostClassifier(iterations=10, learning_rate=0.1)\n",
    "\n",
    "clf.fit(Xc_train, yc_train, cat_features=categorical_features_indices, eval_set=(Xc_test, yc_test), verbose=False)"
   ]
  },
  {
   "cell_type": "code",
   "execution_count": 93,
   "metadata": {},
   "outputs": [
    {
     "name": "stdout",
     "output_type": "stream",
     "text": [
      "              precision    recall  f1-score   support\n",
      "\n",
      "           0       0.76      0.78      0.77       142\n",
      "           1       0.75      0.72      0.74       127\n",
      "\n",
      "    accuracy                           0.75       269\n",
      "   macro avg       0.75      0.75      0.75       269\n",
      "weighted avg       0.75      0.75      0.75       269\n",
      "\n"
     ]
    },
    {
     "data": {
      "text/plain": [
       "<matplotlib.axes._subplots.AxesSubplot at 0x7f5a52dbcc10>"
      ]
     },
     "execution_count": 93,
     "metadata": {},
     "output_type": "execute_result"
    },
    {
     "data": {
      "image/png": "[encoded data removed]",
      "text/plain": [
       "<Figure size 432x288 with 2 Axes>"
      ]
     },
     "metadata": {
      "needs_background": "light"
     },
     "output_type": "display_data"
    }
   ],
   "source": [
    "PredC = clf.predict(data = Xc_test)\n",
    "print(classification_report(yc_test,PredC))\n",
    "cm = confusion_matrix(yc_test,PredC)\n",
    "sns.heatmap(cm,annot=True,fmt=\"d\")"
   ]
  },
  {
   "cell_type": "code",
   "execution_count": 95,
   "metadata": {},
   "outputs": [
    {
     "name": "stdout",
     "output_type": "stream",
     "text": [
      "[31.3636445   0.         13.92213753  0.          1.32180741  0.\n",
      "  0.          0.31792842  0.          0.          0.          0.\n",
      "  0.          0.          0.          0.          0.          0.\n",
      "  0.          0.          0.          0.          0.          2.06499273\n",
      "  0.          2.40779327  1.92523739  5.40557372  0.          0.\n",
      "  0.          0.          1.40650964  0.          0.          2.6040949\n",
      "  0.          0.          0.          1.46651257  1.46327928  0.\n",
      " 12.1534149   0.          1.57083657  7.71153569  1.60826501  9.19142296\n",
      "  2.09501351  0.          0.          0.        ]\n"
     ]
    }
   ],
   "source": [
    "print(clf.feature_importances_)"
   ]
  },
  {
   "cell_type": "code",
   "execution_count": 96,
   "metadata": {},
   "outputs": [
    {
     "name": "stdout",
     "output_type": "stream",
     "text": [
      "Age = 31.36364450272393\n",
      "bmi = 13.92213753244432\n",
      "vs_hr_hrq25 = 12.153414899379126\n",
      "vs_hr_hrq75 = 9.191422957052483\n",
      "s_bp_noninvasive(d)q75 = 7.7115356871334395\n",
      "vs_hr_hrAvg = 5.40557371764984\n",
      "s_bp_noninvasive(d)Max = 2.604094896294682\n",
      "s_bp_noninvasive(d)Avg = 2.4077932697311533\n",
      "xp_resp_rate_ptq75 = 2.0950135100461953\n",
      "duration_symptoms = 2.064992731338219\n",
      "vs_bp_noninvasive(s)Avg = 1.9252373906377274\n",
      "vs_Labp_noninvasive(s)q75 = 1.6082650109965466\n",
      "xp_resp_spo2q25 = 1.5708365679474343\n",
      "xp_resp_spo2Max = 1.466512570503051\n",
      "s_bp_noninvasive(d)q25 = 1.4632792808191177\n",
      "vs_hr_hrMin = 1.4065096393095633\n",
      "smoke_vape = 1.3218074137648654\n",
      "pulm___1.factor = 0.3179284222282993\n",
      "sex.factor = 0.0\n",
      "hypoxia_ed.factor = 0.0\n",
      "dm.factor = 0.0\n",
      "htn.factor = 0.0\n",
      "renal___1.factor = 0.0\n",
      "renal___2.factor = 0.0\n",
      "cad.factor = 0.0\n",
      "cancer = 0.0\n",
      "any_immunosuppression = 0.0\n",
      "symptoms___1.factor = 0.0\n",
      "symptoms___2.factor = 0.0\n",
      "symptoms___10.factor = 0.0\n",
      "symptoms___9.factor = 0.0\n",
      "symptoms___8.factor = 0.0\n",
      "symptoms___3.factor = 0.0\n",
      "first_cxr_results___0.factor = 0.0\n",
      "first_cxr_results___1.factor = 0.0\n",
      "first_cxr_results___2.factor = 0.0\n",
      "first_cxr_results___3.factor = 0.0\n",
      "Ed_before_order_set = 0.0\n",
      "xp_resp_rate_ptAvg = 0.0\n",
      "xp_resp_spo2Avg = 0.0\n",
      "s_bp_noninvasive(d)Min = 0.0\n",
      "vs_bp_noninvasive(s)Min = 0.0\n",
      "xp_resp_rate_ptMin = 0.0\n",
      "xp_resp_spo2Min = 0.0\n",
      "vs_bp_noninvasive(s)Max = 0.0\n",
      "vs_hr_hrMax = 0.0\n",
      "xp_resp_rate_ptMax = 0.0\n",
      "vs_Labp_noninvasive(s)q25 = 0.0\n",
      "xp_resp_rate_ptq25 = 0.0\n",
      "xp_resp_spo2q75 = 0.0\n",
      "weight_status = 0.0\n",
      "Age_category = 0.0\n"
     ]
    }
   ],
   "source": [
    "dict_add2 = {} \n",
    "for name,importance in zip(Xc_train.columns,clf.feature_importances_):\n",
    "    dict_add2[name]=importance\n",
    "dict_imp = sorted(dict_add2.items(), key = lambda x:x[1], reverse = True)\n",
    "#print(dict_imp)\n",
    "for name, importance in dict_imp:\n",
    "    print(name, '=', importance)"
   ]
  },
  {
   "cell_type": "markdown",
   "metadata": {},
   "source": [
    "### Hyperparameter Tuning"
   ]
  },
  {
   "cell_type": "code",
   "execution_count": null,
   "metadata": {},
   "outputs": [],
   "source": [
    "#This was once trained to get best parameters and it took a lot of time.\n",
    "\n",
    "# from sklearn.model_selection import GridSearchCV\n",
    "# model = CatBoostClassifier()\n",
    "# grid = {'iterations': [10,100,500],'learning_rate': [0.03, 0.1],'depth': [4, 6, 9],'l2_leaf_reg': [1, 3, 5, 7, 9]}\n",
    "\n",
    "# grid_search_Cat = GridSearchCV(model, grid, cv = 4, scoring = 'recall')\n",
    "# grid_search_Cat.fit(Xc_train, yc_train)"
   ]
  },
  {
   "cell_type": "code",
   "execution_count": null,
   "metadata": {},
   "outputs": [],
   "source": [
    "# CatBo_best = grid_search_Cat.best_estimator_\n",
    "# print(CatBo_best)"
   ]
  },
  {
   "cell_type": "code",
   "execution_count": null,
   "metadata": {},
   "outputs": [],
   "source": [
    "# grid_search_Cat.best_params_\n",
    "# Best Parameters: 500, 0.03, 6, 3"
   ]
  },
  {
   "cell_type": "code",
   "execution_count": 97,
   "metadata": {},
   "outputs": [
    {
     "data": {
      "text/plain": [
       "<catboost.core.CatBoostClassifier at 0x7f5a52cef050>"
      ]
     },
     "execution_count": 97,
     "metadata": {},
     "output_type": "execute_result"
    }
   ],
   "source": [
    "Cbest = CatBoostClassifier(iterations=500, learning_rate=0.03, depth=6, l2_leaf_reg=3)\n",
    "\n",
    "Cbest.fit(Xc_train, yc_train, cat_features=categorical_features_indices, eval_set=(Xc_test, yc_test), verbose=False)"
   ]
  },
  {
   "cell_type": "code",
   "execution_count": null,
   "metadata": {},
   "outputs": [],
   "source": [
    "PredCBest = Cbest.predict(Xc_test)\n",
    "\n",
    "from sklearn.metrics import classification_report,confusion_matrix\n",
    "print(classification_report(yc_test,PredCBest))\n",
    "#print(confusion_matrix(yc_test,PredCBest))\n",
    "cm = confusion_matrix(yc_test,PredCBest)\n",
    "sns.heatmap(cm,annot=True,fmt=\"d\")"
   ]
  },
  {
   "cell_type": "code",
   "execution_count": 98,
   "metadata": {},
   "outputs": [
    {
     "name": "stdout",
     "output_type": "stream",
     "text": [
      "Age = 10.670733398415067\n",
      "bmi = 7.52666039401058\n",
      "vs_hr_hrq25 = 6.939386614660416\n",
      "Age_category = 6.408729881804083\n",
      "vs_hr_hrq75 = 5.327982700602633\n",
      "vs_hr_hrAvg = 4.407673207741513\n",
      "s_bp_noninvasive(d)Avg = 4.247343661309676\n",
      "vs_Labp_noninvasive(s)q75 = 4.239990062974031\n",
      "s_bp_noninvasive(d)Max = 3.639950818656272\n",
      "s_bp_noninvasive(d)q75 = 3.3143259925312427\n",
      "duration_symptoms = 3.1933083256753956\n",
      "weight_status = 3.1398395826126477\n",
      "xp_resp_spo2Min = 2.389447874564163\n",
      "s_bp_noninvasive(d)Min = 2.3019995092988115\n",
      "vs_hr_hrMax = 2.2560649999913927\n",
      "xp_resp_rate_ptMax = 2.144618525486642\n",
      "vs_bp_noninvasive(s)Min = 2.1350343616229073\n",
      "s_bp_noninvasive(d)q25 = 2.1274288765063143\n",
      "smoke_vape = 2.0623663817180486\n",
      "vs_bp_noninvasive(s)Avg = 1.8441239888505228\n",
      "xp_resp_rate_ptq25 = 1.821093189413673\n",
      "vs_bp_noninvasive(s)Max = 1.6810554186641435\n",
      "xp_resp_spo2Max = 1.6641746944231424\n",
      "vs_Labp_noninvasive(s)q25 = 1.5031274872073237\n",
      "vs_hr_hrMin = 1.4368874718021833\n",
      "xp_resp_spo2q25 = 1.393657866909471\n",
      "xp_resp_spo2Avg = 1.364868797833507\n",
      "xp_resp_rate_ptq75 = 1.322151768576857\n",
      "xp_resp_rate_ptMin = 1.1320796226738883\n",
      "xp_resp_spo2q75 = 1.0681873221616078\n",
      "xp_resp_rate_ptAvg = 0.8820464714209962\n",
      "htn.factor = 0.6115645284959808\n",
      "cancer = 0.6051251113942158\n",
      "symptoms___9.factor = 0.35480667930311016\n",
      "symptoms___3.factor = 0.3442053032392823\n",
      "dm.factor = 0.33974794317844204\n",
      "sex.factor = 0.3243200074090575\n",
      "symptoms___2.factor = 0.2740379262300458\n",
      "symptoms___1.factor = 0.22900643415564395\n",
      "symptoms___10.factor = 0.18788297717448177\n",
      "first_cxr_results___2.factor = 0.14920810228923717\n",
      "first_cxr_results___0.factor = 0.1489471099705298\n",
      "cad.factor = 0.1443005963120985\n",
      "Ed_before_order_set = 0.1313521747178766\n",
      "first_cxr_results___3.factor = 0.11805919382436035\n",
      "hypoxia_ed.factor = 0.09772257394035391\n",
      "symptoms___8.factor = 0.082070489594841\n",
      "first_cxr_results___1.factor = 0.07096552999345272\n",
      "renal___1.factor = 0.06791977982961868\n",
      "renal___2.factor = 0.0582025130761047\n",
      "any_immunosuppression = 0.0521827148046239\n",
      "pulm___1.factor = 0.022033040947489754\n"
     ]
    }
   ],
   "source": [
    "dict_add3 = {} \n",
    "for name,importance in zip(Xc_train.columns,Cbest.feature_importances_):\n",
    "    dict_add3[name]=importance\n",
    "dict_impCb = sorted(dict_add3.items(), key = lambda x:x[1], reverse = True)\n",
    "#print(dict_imp)\n",
    "for name, importance in dict_impCb:\n",
    "    print(name, '=', importance)"
   ]
  },
  {
   "cell_type": "code",
   "execution_count": null,
   "metadata": {},
   "outputs": [],
   "source": []
  },
  {
   "cell_type": "markdown",
   "metadata": {},
   "source": [
    "### Using Train_test split:0.2.  FN decreases"
   ]
  }
 ],
 "metadata": {
  "kernelspec": {
   "display_name": "Python 3",
   "language": "python",
   "name": "python3"
  },
  "language_info": {
   "codemirror_mode": {
    "name": "ipython",
    "version": 3
   },
   "file_extension": ".py",
   "mimetype": "text/x-python",
   "name": "python",
   "nbconvert_exporter": "python",
   "pygments_lexer": "ipython3",
   "version": "3.8.5"
  }
 },
 "nbformat": 4,
 "nbformat_minor": 4
}
