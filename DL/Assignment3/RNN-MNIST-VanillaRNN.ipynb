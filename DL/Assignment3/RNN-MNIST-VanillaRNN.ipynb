{
 "cells": [
  {
   "cell_type": "code",
   "execution_count": 1,
   "metadata": {},
   "outputs": [],
   "source": [
    "import torch\n",
    "import torchvision\n",
    "from torchvision import datasets, transforms\n",
    "from torch.utils.data.sampler import SubsetRandomSampler\n",
    "import torch.nn as nn\n",
    "import torch.nn.functional as F\n",
    "import torch.optim as optim\n",
    "import os\n",
    "from matplotlib import pyplot as plt\n",
    "#from tqdm import tqdm_notebook as tqdm\n",
    "from torchvision.utils import make_grid\n",
    "%matplotlib inline\n",
    "import numpy as np \n",
    "import math"
   ]
  },
  {
   "cell_type": "code",
   "execution_count": 2,
   "metadata": {},
   "outputs": [],
   "source": [
    "DATA_ROOT = '/home/rishabh/Downloads/MNIST/data'\n",
    "seq_length = 28\n",
    "inp_size = 28\n",
    "hidden_size = 128\n",
    "batch_size = 100\n",
    "num_layers = 2\n",
    "num_classes = 10\n",
    "learning_rate = 0.01\n",
    "num_epochs =3\n",
    "\n",
    "use_cuda = torch.cuda.is_available()\n",
    "device = torch.device(\"cuda\" if use_cuda else \"cpu\")"
   ]
  },
  {
   "cell_type": "code",
   "execution_count": 3,
   "metadata": {},
   "outputs": [],
   "source": [
    "transform=transforms.Compose([\n",
    "transforms.ToTensor(),\n",
    "transforms.Normalize((0.1307,), (0.3081,))\n",
    "])"
   ]
  },
  {
   "cell_type": "code",
   "execution_count": 4,
   "metadata": {},
   "outputs": [],
   "source": [
    "train_dataset = torchvision.datasets.MNIST(root = '/home/rishabh/Downloads/MNIST/data',train =True,transform = transform,download = True)\n",
    "test_dataset = torchvision.datasets.MNIST(root='/home/rishabh/Downloads/MNIST/data',\n",
    "                                          train=False, \n",
    "                                          transform=transform,download = True)\n",
    "\n"
   ]
  },
  {
   "cell_type": "code",
   "execution_count": 5,
   "metadata": {},
   "outputs": [],
   "source": [
    "valid_dataset = torchvision.datasets.MNIST(root = '/home/rishabh/Downloads/MNIST/data',train =True,transform = transform,download = True)"
   ]
  },
  {
   "cell_type": "code",
   "execution_count": 6,
   "metadata": {},
   "outputs": [],
   "source": [
    "num_train = len(train_dataset)\n",
    "indices = list(range(num_train))\n",
    "split=int(np.floor(0.2*num_train))"
   ]
  },
  {
   "cell_type": "code",
   "execution_count": 7,
   "metadata": {},
   "outputs": [],
   "source": [
    "tr_idx,valid_idx = indices[split:],indices[:split]\n",
    "np.random.seed(0)\n",
    "np.random.shuffle(indices)\n",
    "trainsampler = SubsetRandomSampler(tr_idx)\n",
    "validsampler = SubsetRandomSampler(valid_idx)\n",
    "trainloader = torch.utils.data.DataLoader(dataset = train_dataset,sampler = trainsampler,batch_size = batch_size,shuffle = False)\n",
    "testloader = torch.utils.data.DataLoader(dataset=test_dataset,batch_size=batch_size , shuffle=True)\n",
    "validloader = torch.utils.data.DataLoader(dataset = train_dataset,sampler = validsampler,batch_size = batch_size,shuffle = False)"
   ]
  },
  {
   "cell_type": "code",
   "execution_count": 12,
   "metadata": {},
   "outputs": [],
   "source": [
    "class RNN(nn.Module):\n",
    "    def __init__(self,inp_size,hidden_size,num_layers,num_classes):\n",
    "        super (RNN,self).__init__()\n",
    "        self.hidden_size = hidden_size\n",
    "        self.num_layers = num_layers\n",
    "        self.rnn = nn.RNN(inp_size, hidden_size, num_layers, batch_first=True)\n",
    "        self.fc = nn.Linear(hidden_size, num_classes)\n",
    "        #self.rnn = nn.RNN(28,128,2)\n",
    "        \n",
    "        \n",
    "        \n",
    "    def forward(self,x):\n",
    "        h0 = torch.zeros(self.num_layers,x.size(0), self.hidden_size).to(device) \n",
    "        \n",
    "        #input = x\n",
    "        out,_ = self.rnn(x,h0)\n",
    "        out = self.fc(out[:,-1,:])\n",
    "        \n",
    "        return out\n",
    "    \n",
    "    "
   ]
  },
  {
   "cell_type": "code",
   "execution_count": 15,
   "metadata": {},
   "outputs": [],
   "source": [
    "model = RNN(inp_size, hidden_size, num_layers, num_classes).to(device)\n",
    "\n"
   ]
  },
  {
   "cell_type": "code",
   "execution_count": 16,
   "metadata": {},
   "outputs": [],
   "source": [
    "criterion = nn.CrossEntropyLoss()\n",
    "optimizer = torch.optim.Adam(model.parameters(), lr=learning_rate)\n"
   ]
  },
  {
   "cell_type": "code",
   "execution_count": 17,
   "metadata": {},
   "outputs": [],
   "source": [
    "def valid_accuracy(validloader,model):\n",
    "    correct= 0\n",
    "    total = 0\n",
    "    tot_loss = 0\n",
    "    with torch.no_grad():\n",
    "        for data in validloader:\n",
    "            images,labels = data\n",
    "            images = images.reshape(-1, seq_length, inp_size).to(device)\n",
    "            #print(images.size())\n",
    "            out = model(images)\n",
    "            _,predicted = torch.max(out.data,1)\n",
    "            loss = criterion(out,labels)\n",
    "            tot_loss = tot_loss+loss.item()\n",
    "            total=total+labels.size(0)\n",
    "            #correct = correct+(predicted == labels).sum().item()\n",
    "    #val_acc = (100*correct/total)\n",
    "    print('Validation loss:%f '%(tot_loss))\n",
    "    return (tot_loss)"
   ]
  },
  {
   "cell_type": "code",
   "execution_count": 18,
   "metadata": {},
   "outputs": [],
   "source": [
    "def test_accuracy(testloader,model):\n",
    "    correct = 0\n",
    "    total = 0\n",
    "    with torch.no_grad():\n",
    "        for data in testloader:\n",
    "            images, labels = data\n",
    "            images = images.reshape(-1, seq_length, inp_size).to(device)\n",
    "            output = model(images)\n",
    "            _, predicted = torch.max(output.data, 1)\n",
    "            total += labels.size(0)\n",
    "            correct += (predicted == labels).sum().item()\n",
    "    test_acc = (100 * correct / total)\n",
    "    print('Accuracy of the network on test set: %d %%' % test_acc)\n",
    "    return(test_acc)\n",
    "    "
   ]
  },
  {
   "cell_type": "code",
   "execution_count": 19,
   "metadata": {},
   "outputs": [
    {
     "name": "stdout",
     "output_type": "stream",
     "text": [
      "Epoch [1/3], Step [60/480], Loss: 1.1864\n",
      "Validation loss:138.416429 \n",
      "Finished training\n",
      "Accuracy of the network on test set: 60 %\n",
      "Epoch [1/3], Step [120/480], Loss: 0.9590\n",
      "Validation loss:121.012160 \n",
      "Finished training\n",
      "Accuracy of the network on test set: 63 %\n",
      "Epoch [1/3], Step [180/480], Loss: 1.5272\n",
      "Validation loss:166.804850 \n",
      "Finished training\n",
      "Accuracy of the network on test set: 53 %\n",
      "Epoch [1/3], Step [240/480], Loss: 0.8876\n",
      "Validation loss:127.173363 \n",
      "Finished training\n",
      "Accuracy of the network on test set: 66 %\n",
      "Epoch [1/3], Step [300/480], Loss: 1.1138\n",
      "Validation loss:137.376744 \n",
      "Finished training\n",
      "Accuracy of the network on test set: 60 %\n",
      "Epoch [1/3], Step [360/480], Loss: 1.0405\n",
      "Validation loss:133.547069 \n",
      "Finished training\n",
      "Accuracy of the network on test set: 59 %\n",
      "Epoch [1/3], Step [420/480], Loss: 1.1197\n",
      "Validation loss:121.443452 \n",
      "Finished training\n",
      "Accuracy of the network on test set: 64 %\n",
      "Epoch [1/3], Step [480/480], Loss: 1.0820\n",
      "Validation loss:153.064507 \n",
      "Finished training\n",
      "Accuracy of the network on test set: 55 %\n",
      "Epoch [2/3], Step [60/480], Loss: 1.0639\n",
      "Validation loss:156.468877 \n",
      "Finished training\n",
      "Accuracy of the network on test set: 55 %\n",
      "Epoch [2/3], Step [120/480], Loss: 1.2191\n",
      "Validation loss:142.953181 \n",
      "Finished training\n",
      "Accuracy of the network on test set: 61 %\n",
      "Epoch [2/3], Step [180/480], Loss: 1.9385\n",
      "Validation loss:211.583618 \n",
      "Finished training\n",
      "Accuracy of the network on test set: 39 %\n",
      "Epoch [2/3], Step [240/480], Loss: 1.3863\n",
      "Validation loss:174.188079 \n",
      "Finished training\n",
      "Accuracy of the network on test set: 53 %\n",
      "Epoch [2/3], Step [300/480], Loss: 1.3982\n",
      "Validation loss:174.479381 \n",
      "Finished training\n",
      "Accuracy of the network on test set: 48 %\n",
      "Epoch [2/3], Step [360/480], Loss: 1.4891\n",
      "Validation loss:172.503873 \n",
      "Finished training\n",
      "Accuracy of the network on test set: 48 %\n",
      "Epoch [2/3], Step [420/480], Loss: 1.0826\n",
      "Validation loss:154.774147 \n",
      "Finished training\n",
      "Accuracy of the network on test set: 55 %\n",
      "Epoch [2/3], Step [480/480], Loss: 1.3846\n",
      "Validation loss:176.639465 \n",
      "Finished training\n",
      "Accuracy of the network on test set: 44 %\n",
      "Epoch [3/3], Step [60/480], Loss: 1.4845\n",
      "Validation loss:164.344255 \n",
      "Finished training\n",
      "Accuracy of the network on test set: 52 %\n",
      "Epoch [3/3], Step [120/480], Loss: 1.4697\n",
      "Validation loss:178.483311 \n",
      "Finished training\n",
      "Accuracy of the network on test set: 41 %\n",
      "Epoch [3/3], Step [180/480], Loss: 1.5669\n",
      "Validation loss:195.456157 \n",
      "Finished training\n",
      "Accuracy of the network on test set: 41 %\n",
      "Epoch [3/3], Step [240/480], Loss: 1.4563\n",
      "Validation loss:190.862165 \n",
      "Finished training\n",
      "Accuracy of the network on test set: 36 %\n",
      "Epoch [3/3], Step [300/480], Loss: 1.3083\n",
      "Validation loss:164.211387 \n",
      "Finished training\n",
      "Accuracy of the network on test set: 52 %\n",
      "Epoch [3/3], Step [360/480], Loss: 1.4574\n",
      "Validation loss:193.753550 \n",
      "Finished training\n",
      "Accuracy of the network on test set: 36 %\n",
      "Epoch [3/3], Step [420/480], Loss: 1.3901\n",
      "Validation loss:182.567268 \n",
      "Finished training\n",
      "Accuracy of the network on test set: 41 %\n",
      "Epoch [3/3], Step [480/480], Loss: 1.5565\n",
      "Validation loss:169.340391 \n",
      "Finished training\n",
      "Accuracy of the network on test set: 43 %\n"
     ]
    }
   ],
   "source": [
    "val_loss = [];\n",
    "test_acc = [];\n",
    "train_loss = [];\n",
    "running_loss = 0\n",
    "tot_step = len(trainloader)\n",
    "for epoch in range(num_epochs):\n",
    "    for i ,(images,labels) in enumerate(trainloader):\n",
    "        images = images.reshape(-1, seq_length, inp_size).to(device)\n",
    "        labels = labels.to(device)\n",
    "        outputs = model(images)\n",
    "        loss = criterion(outputs, labels)\n",
    "        running_loss = running_loss+loss.item()\n",
    "        # Backward and optimize\n",
    "        optimizer.zero_grad()\n",
    "        loss.backward()\n",
    "        optimizer.step()\n",
    "        \n",
    "        \n",
    "        if (i+1) % 60 == 0:\n",
    "            \n",
    "            print ('Epoch [{}/{}], Step [{}/{}], Loss: {:.4f}' \n",
    "                   .format(epoch+1, num_epochs, i+1, tot_step, loss.item()))\n",
    "            train_loss.append((running_loss/60))\n",
    "            running_loss = 0\n",
    "            v_loss = valid_accuracy(validloader,model)\n",
    "            val_loss.append(v_loss)\n",
    "            print('Finished training')\n",
    "            t_ac = test_accuracy(testloader,model)\n",
    "            test_acc.append(t_ac)\n",
    "       \n"
   ]
  },
  {
   "cell_type": "code",
   "execution_count": 18,
   "metadata": {},
   "outputs": [],
   "source": [
    "modelroot = ('/home/rishabh/Documents/ATSP assignment3/Vanilla/model1')\n",
    "torch.save(model.state_dict(), modelroot)"
   ]
  },
  {
   "cell_type": "code",
   "execution_count": 65,
   "metadata": {},
   "outputs": [
    {
     "ename": "AttributeError",
     "evalue": "'list' object has no attribute 'shape'",
     "output_type": "error",
     "traceback": [
      "\u001b[0;31m---------------------------------------------------------------------------\u001b[0m",
      "\u001b[0;31mAttributeError\u001b[0m                            Traceback (most recent call last)",
      "\u001b[0;32m<ipython-input-65-8859896ddda1>\u001b[0m in \u001b[0;36m<module>\u001b[0;34m()\u001b[0m\n\u001b[0;32m----> 1\u001b[0;31m \u001b[0mprint\u001b[0m\u001b[0;34m(\u001b[0m\u001b[0mval_loss\u001b[0m\u001b[0;34m.\u001b[0m\u001b[0mshape\u001b[0m\u001b[0;34m(\u001b[0m\u001b[0;34m)\u001b[0m\u001b[0;34m)\u001b[0m\u001b[0;34m\u001b[0m\u001b[0m\n\u001b[0m",
      "\u001b[0;31mAttributeError\u001b[0m: 'list' object has no attribute 'shape'"
     ]
    }
   ],
   "source": [
    "print(val_loss.shape())"
   ]
  },
  {
   "cell_type": "code",
   "execution_count": 1,
   "metadata": {},
   "outputs": [
    {
     "ename": "NameError",
     "evalue": "name 'math' is not defined",
     "output_type": "error",
     "traceback": [
      "\u001b[0;31m---------------------------------------------------------------------------\u001b[0m",
      "\u001b[0;31mNameError\u001b[0m                                 Traceback (most recent call last)",
      "\u001b[0;32m<ipython-input-1-b3aa3b4085c3>\u001b[0m in \u001b[0;36m<module>\u001b[0;34m()\u001b[0m\n\u001b[0;32m----> 1\u001b[0;31m \u001b[0mx\u001b[0m\u001b[0;34m=\u001b[0m\u001b[0mlist\u001b[0m\u001b[0;34m(\u001b[0m\u001b[0mrange\u001b[0m\u001b[0;34m(\u001b[0m\u001b[0;36m0\u001b[0m\u001b[0;34m,\u001b[0m\u001b[0mmath\u001b[0m\u001b[0;34m.\u001b[0m\u001b[0mfloor\u001b[0m\u001b[0;34m(\u001b[0m\u001b[0;36m480\u001b[0m\u001b[0;34m*\u001b[0m\u001b[0mnum_epochs\u001b[0m\u001b[0;34m)\u001b[0m\u001b[0;34m,\u001b[0m\u001b[0;36m60\u001b[0m\u001b[0;34m)\u001b[0m\u001b[0;34m)\u001b[0m\u001b[0;34m\u001b[0m\u001b[0m\n\u001b[0m\u001b[1;32m      2\u001b[0m \u001b[0;34m\u001b[0m\u001b[0m\n\u001b[1;32m      3\u001b[0m \u001b[0mplt\u001b[0m\u001b[0;34m.\u001b[0m\u001b[0mplot\u001b[0m\u001b[0;34m(\u001b[0m\u001b[0mx\u001b[0m\u001b[0;34m,\u001b[0m\u001b[0mval_loss\u001b[0m\u001b[0;34m,\u001b[0m\u001b[0;34m'r'\u001b[0m\u001b[0;34m,\u001b[0m\u001b[0mlabel\u001b[0m \u001b[0;34m=\u001b[0m\u001b[0;34m'Validation Loss'\u001b[0m\u001b[0;34m)\u001b[0m\u001b[0;34m\u001b[0m\u001b[0m\n\u001b[1;32m      4\u001b[0m \u001b[0mplt\u001b[0m\u001b[0;34m.\u001b[0m\u001b[0mxlabel\u001b[0m\u001b[0;34m(\u001b[0m\u001b[0;34m'Iterations'\u001b[0m\u001b[0;34m)\u001b[0m\u001b[0;34m\u001b[0m\u001b[0m\n\u001b[1;32m      5\u001b[0m \u001b[0mplt\u001b[0m\u001b[0;34m.\u001b[0m\u001b[0mylabel\u001b[0m\u001b[0;34m(\u001b[0m\u001b[0;34m'Loss'\u001b[0m\u001b[0;34m)\u001b[0m\u001b[0;34m\u001b[0m\u001b[0m\n",
      "\u001b[0;31mNameError\u001b[0m: name 'math' is not defined"
     ]
    }
   ],
   "source": [
    "x=list(range(0,math.floor(480*num_epochs),60))\n",
    "\n",
    "plt.plot(x,val_loss,'r',label ='Validation Loss')\n",
    "plt.xlabel('Iterations')\n",
    "plt.ylabel('Loss')\n",
    "plt.show()\n",
    "plt.plot(x,test_acc,'g',label = 'Test Accuracy')\n",
    "plt.xlabel('Iterations')\n",
    "plt.ylabel('Accuracy')\n",
    "plt.show()\n",
    "\n",
    "plt.plot(x,train_loss,'b')\n",
    "plt.xlabel('Iterations')\n",
    "plt.ylabel('Train Loss')\n",
    "plt.show()\n"
   ]
  },
  {
   "cell_type": "code",
   "execution_count": 60,
   "metadata": {},
   "outputs": [
    {
     "data": {
      "text/plain": [
       "15"
      ]
     },
     "execution_count": 60,
     "metadata": {},
     "output_type": "execute_result"
    }
   ],
   "source": [
    "x=list(range(0,math.floor(480*num_epochs),100))\n",
    "len(x)\n"
   ]
  },
  {
   "cell_type": "code",
   "execution_count": null,
   "metadata": {},
   "outputs": [],
   "source": []
  },
  {
   "cell_type": "code",
   "execution_count": null,
   "metadata": {},
   "outputs": [],
   "source": []
  }
 ],
 "metadata": {
  "kernelspec": {
   "display_name": "Python 3",
   "language": "python",
   "name": "python3"
  },
  "language_info": {
   "codemirror_mode": {
    "name": "ipython",
    "version": 3
   },
   "file_extension": ".py",
   "mimetype": "text/x-python",
   "name": "python",
   "nbconvert_exporter": "python",
   "pygments_lexer": "ipython3",
   "version": "3.6.5"
  }
 },
 "nbformat": 4,
 "nbformat_minor": 2
}
